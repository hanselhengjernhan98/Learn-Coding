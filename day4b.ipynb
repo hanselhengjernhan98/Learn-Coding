{
  "cells": [
    {
      "cell_type": "markdown",
      "metadata": {
        "id": "view-in-github",
        "colab_type": "text"
      },
      "source": [
        "<a href=\"https://colab.research.google.com/github/hanselhengjernhan98/Learn-Coding/blob/main/day4b.ipynb\" target=\"_parent\"><img src=\"https://colab.research.google.com/assets/colab-badge.svg\" alt=\"Open In Colab\"/></a>"
      ]
    },
    {
      "cell_type": "markdown",
      "metadata": {
        "id": "818AknKGebcJ"
      },
      "source": [
        "# Day 4B: Loops"
      ]
    },
    {
      "cell_type": "code",
      "execution_count": null,
      "metadata": {
        "id": "4v-vr4ICkmBJ"
      },
      "outputs": [],
      "source": [
        "# Always run this code.\n",
        "%config InteractiveShell.ast_node_interactivity=\"none\"\n",
        "!pip install --force-reinstall git+https://github.com/jamcoders/jamcoders-public-2023.git --quiet\n",
        "from jamcoders.base_utils import *\n",
        "from jamcoders.week1.lab3a import *"
      ]
    },
    {
      "cell_type": "markdown",
      "metadata": {
        "id": "yjaf6g_skmBK"
      },
      "source": [
        "# Table of Contents  \n",
        "\n",
        "**[Question 0: Recap](#0)**\n",
        "\n",
        "**[Question 1: Basic Functions](#1)**\n",
        "\n",
        "**[Question 2: Calculator Functions](#2)**\n",
        "\n",
        "**[Question 3: String Functions](#3)**\n",
        "\n",
        "**[Question 4: Celsius to Fahrenheit](#4)**\n",
        "\n",
        "**[Question 5: Pythag](#5)**\n",
        "\n",
        "**[Question 6: Funk! Func!](#6)**\n",
        "\n",
        "**[Question 7: Sums](#7)**\n",
        "\n",
        "**[Question 8: Variable Scope](#8)**\n",
        "\n"
      ]
    },
    {
      "cell_type": "markdown",
      "metadata": {
        "id": "FJRO0GBjqQoy"
      },
      "source": [
        "<a name=\"0\"></a>\n",
        "## Question 0: Recap"
      ]
    },
    {
      "cell_type": "markdown",
      "metadata": {
        "id": "KOhv1zi2kmBL"
      },
      "source": [
        "### Answer the following questions\n",
        "\n",
        "1. *What is a short way to write: `for i in [0, 1, 2, 3, 4, 5, 6, 7]` using the `range()` function?*\n",
        "<br /><br />"
      ]
    },
    {
      "cell_type": "code",
      "execution_count": 1,
      "metadata": {
        "id": "Oi5nOAHZkmBL",
        "colab": {
          "base_uri": "https://localhost:8080/"
        },
        "outputId": "1ba2df06-194a-47b1-e42a-ccaa70c04fc9"
      },
      "outputs": [
        {
          "output_type": "stream",
          "name": "stdout",
          "text": [
            "0\n",
            "1\n",
            "2\n",
            "3\n",
            "4\n",
            "5\n",
            "6\n",
            "7\n"
          ]
        }
      ],
      "source": [
        "# Write your answer to question 1 here:\n",
        "for i in range(8):\n",
        "    print(i)\n"
      ]
    },
    {
      "cell_type": "markdown",
      "metadata": {
        "id": "Ht43jH-SkmBL"
      },
      "source": [
        "2. Consider the following two functions:\n",
        "\n",
        "    ```python\n",
        "    def my_function(x):\n",
        "        return x\n",
        "\n",
        "    def my_function2(y):\n",
        "        return y\n",
        "    ```\n",
        "\n",
        "    *Explain why these functions will do the exact same thing despite having different parameter names.*\n",
        "    <br /><br />\n"
      ]
    },
    {
      "cell_type": "code",
      "execution_count": 17,
      "metadata": {
        "id": "VkqXaJCIkmBL",
        "colab": {
          "base_uri": "https://localhost:8080/",
          "height": 143
        },
        "outputId": "b6fae1e5-61b5-491e-bd29-cbaf677db9dd"
      },
      "outputs": [
        {
          "output_type": "error",
          "ename": "IndentationError",
          "evalue": "ignored",
          "traceback": [
            "\u001b[0;36m  File \u001b[0;32m\"<tokenize>\"\u001b[0;36m, line \u001b[0;32m7\u001b[0m\n\u001b[0;31m    print('?') # Print a ?\u001b[0m\n\u001b[0m    ^\u001b[0m\n\u001b[0;31mIndentationError\u001b[0m\u001b[0;31m:\u001b[0m unindent does not match any outer indentation level\n"
          ]
        }
      ],
      "source": [
        "# Write your answer to question 2 here:\n",
        "# the variable names do not affect the outcome.\n"
      ]
    },
    {
      "cell_type": "markdown",
      "metadata": {
        "id": "3dBugLNPkmBM"
      },
      "source": [
        "3. Consider the following code:\n",
        "\n",
        "    ```python\n",
        "    for a in [0, 1, 2]: # loop 1\n",
        "      for b in [0, 1, 2]: # loop 2\n",
        "        print('hi')\n",
        "      print('bye')\n",
        "    ```\n",
        "\n",
        "    *(a) When `a = 0`, how many times is `'hi'` printed?*\n",
        "\n",
        "    *(b) How many times is `'bye'` printed?*\n",
        "    \n",
        "    *(c) When `a = 1`, how many times is `'hi'` printed?*\n",
        "    \n",
        "    *(d) When `a = 1`, how many times is `'bye'` printed?*\n",
        "    <br /><br />"
      ]
    },
    {
      "cell_type": "code",
      "execution_count": 12,
      "metadata": {
        "id": "Ep_7agJekmBM",
        "colab": {
          "base_uri": "https://localhost:8080/",
          "height": 250
        },
        "outputId": "2075b228-6839-429a-b76e-9ad8a640d000"
      },
      "outputs": [
        {
          "output_type": "error",
          "ename": "NameError",
          "evalue": "ignored",
          "traceback": [
            "\u001b[0;31m---------------------------------------------------------------------------\u001b[0m",
            "\u001b[0;31mNameError\u001b[0m                                 Traceback (most recent call last)",
            "\u001b[0;32m<ipython-input-12-2a5209f54461>\u001b[0m in \u001b[0;36m<cell line: 6>\u001b[0;34m()\u001b[0m\n\u001b[1;32m      4\u001b[0m \u001b[0manswer1\u001b[0m \u001b[0;34m=\u001b[0m \u001b[0;36m3\u001b[0m\u001b[0;34m\u001b[0m\u001b[0;34m\u001b[0m\u001b[0m\n\u001b[1;32m      5\u001b[0m \u001b[0;34m\u001b[0m\u001b[0m\n\u001b[0;32m----> 6\u001b[0;31m \u001b[0mcheck_answer_3a\u001b[0m\u001b[0;34m(\u001b[0m\u001b[0manswer1\u001b[0m\u001b[0;34m)\u001b[0m\u001b[0;34m\u001b[0m\u001b[0;34m\u001b[0m\u001b[0m\n\u001b[0m\u001b[1;32m      7\u001b[0m \u001b[0;34m\u001b[0m\u001b[0m\n\u001b[1;32m      8\u001b[0m \u001b[0;31m# 3b\u001b[0m\u001b[0;34m\u001b[0m\u001b[0;34m\u001b[0m\u001b[0m\n",
            "\u001b[0;31mNameError\u001b[0m: name 'check_answer_3a' is not defined"
          ]
        }
      ],
      "source": [
        "# Write your answers to the question by changing the `None` to an integer\n",
        "\n",
        "# 3a\n",
        "answer1 = 3\n",
        "\n",
        "check_answer_3a(answer1)\n",
        "\n",
        "# 3b\n",
        "answer2 = 9\n",
        "\n",
        "check_answer_3b(answer2)\n",
        "\n",
        "# 3c\n",
        "answer2 = 3\n",
        "\n",
        "check_answer_3c(answer2)\n",
        "\n",
        "# 3d\n",
        "answer2 = 3\n",
        "\n",
        "check_answer_3d(answer2)"
      ]
    },
    {
      "cell_type": "markdown",
      "metadata": {
        "id": "SWJgai0nkmBM"
      },
      "source": [
        "4. *Consider the same code as question 3. Overall, how many times does the inner loop (commented `# loop 2`) run? How many times does the outer loop (commented `# loop 1`) run?*\n",
        "<br /><br />"
      ]
    },
    {
      "cell_type": "code",
      "execution_count": null,
      "metadata": {
        "id": "qx_-d0G7kmBM"
      },
      "outputs": [],
      "source": [
        "# Write your answer to question 4 here:\n",
        "#\n",
        "number_of_inner_loop_runs = 3\n",
        "\n",
        "check_answer_4a(number_of_inner_loop_runs)\n",
        "\n",
        "\n",
        "number_of_outer_loop_runs = 9\n",
        "check_answer_4b(number_of_outer_loop_runs)"
      ]
    },
    {
      "cell_type": "markdown",
      "metadata": {
        "id": "YrOUz6qikmBN"
      },
      "source": [
        "5. Consider the following code:\n",
        "\n",
        "    ```python\n",
        "    for a in [0, 1, 2]: # loop 1\n",
        "      print(' ') # Print a space\n",
        "    print('?') # Print a ?\n",
        "\n",
        "    for a in [0, 1, 2]: # loop 2\n",
        "      print('!')\n",
        "    print(' ')\n",
        "    ```\n",
        "\n",
        "    *Explain why only one `?` mark is printed. Why does `# loop 2` print three `!` marks?*\n",
        "    <br /><br />"
      ]
    },
    {
      "cell_type": "code",
      "execution_count": null,
      "metadata": {
        "id": "aess8YGDkmBN"
      },
      "outputs": [],
      "source": [
        "# Write your answer to question 5 here:\n",
        "# Cause there are 3 numbers there"
      ]
    },
    {
      "cell_type": "markdown",
      "metadata": {
        "id": "gWwGFRNkkmBN"
      },
      "source": [
        "6. Consider the following code:\n",
        "\n",
        "    ```python\n",
        "    def square(x):\n",
        "      x = 5\n",
        "      return x * x\n",
        "\n",
        "    print(square(5))\n",
        "    print(square(7))\n",
        "\n",
        "    ```\n",
        "\n",
        "    *We would like `square(7)` to return `7 x 7 = 49`. What does it actually return?*\n",
        "    <br /><br />"
      ]
    },
    {
      "cell_type": "code",
      "execution_count": 22,
      "metadata": {
        "id": "2sgwYg6ZkmBN",
        "colab": {
          "base_uri": "https://localhost:8080/",
          "height": 214
        },
        "outputId": "5b8f7f51-e8eb-4074-8ea5-437dc09e8e1b"
      },
      "outputs": [
        {
          "output_type": "error",
          "ename": "NameError",
          "evalue": "ignored",
          "traceback": [
            "\u001b[0;31m---------------------------------------------------------------------------\u001b[0m",
            "\u001b[0;31mNameError\u001b[0m                                 Traceback (most recent call last)",
            "\u001b[0;32m<ipython-input-22-45da660453e1>\u001b[0m in \u001b[0;36m<cell line: 7>\u001b[0;34m()\u001b[0m\n\u001b[1;32m      5\u001b[0m \u001b[0msquare_return_value\u001b[0m \u001b[0;34m=\u001b[0m \u001b[0msquare\u001b[0m\u001b[0;34m(\u001b[0m\u001b[0;36m7\u001b[0m\u001b[0;34m)\u001b[0m\u001b[0;34m\u001b[0m\u001b[0;34m\u001b[0m\u001b[0m\n\u001b[1;32m      6\u001b[0m \u001b[0;34m\u001b[0m\u001b[0m\n\u001b[0;32m----> 7\u001b[0;31m \u001b[0mcheck_answer_6\u001b[0m\u001b[0;34m(\u001b[0m\u001b[0msquare_return_value\u001b[0m\u001b[0;34m)\u001b[0m\u001b[0;34m\u001b[0m\u001b[0;34m\u001b[0m\u001b[0m\n\u001b[0m",
            "\u001b[0;31mNameError\u001b[0m: name 'check_answer_6' is not defined"
          ]
        }
      ],
      "source": [
        "# Write your answer to question 6 here:\n",
        "\n",
        "def square(x):\n",
        "   return x * x\n",
        "square_return_value = square(7)\n",
        "\n",
        "check_answer_6(square_return_value)"
      ]
    },
    {
      "cell_type": "markdown",
      "metadata": {
        "id": "u4UyLtQbkmBN"
      },
      "source": [
        "7. *Consider the same code as question 6. Even though the code is wrong, why does the function give the correct output if you call `square(5)`, (or `square(-5)`)? Can you change the code to be correct on all inputs?*\n",
        "<br /><br />"
      ]
    },
    {
      "cell_type": "code",
      "execution_count": 23,
      "metadata": {
        "id": "SJyDJ8iIyvzL",
        "colab": {
          "base_uri": "https://localhost:8080/",
          "height": 214
        },
        "outputId": "b815c13f-3e19-42b3-e4f6-e5070aaa2f6c"
      },
      "outputs": [
        {
          "output_type": "error",
          "ename": "NameError",
          "evalue": "ignored",
          "traceback": [
            "\u001b[0;31m---------------------------------------------------------------------------\u001b[0m",
            "\u001b[0;31mNameError\u001b[0m                                 Traceback (most recent call last)",
            "\u001b[0;32m<ipython-input-23-c84a361ad425>\u001b[0m in \u001b[0;36m<cell line: 5>\u001b[0;34m()\u001b[0m\n\u001b[1;32m      3\u001b[0m \u001b[0msquare_return_value\u001b[0m \u001b[0;34m=\u001b[0m \u001b[0msquare\u001b[0m\u001b[0;34m(\u001b[0m\u001b[0;36m7\u001b[0m\u001b[0;34m)\u001b[0m\u001b[0;34m\u001b[0m\u001b[0;34m\u001b[0m\u001b[0m\n\u001b[1;32m      4\u001b[0m \u001b[0;34m\u001b[0m\u001b[0m\n\u001b[0;32m----> 5\u001b[0;31m \u001b[0mcheck_answer_6\u001b[0m\u001b[0;34m(\u001b[0m\u001b[0msquare_return_value\u001b[0m\u001b[0;34m)\u001b[0m\u001b[0;34m\u001b[0m\u001b[0;34m\u001b[0m\u001b[0m\n\u001b[0m",
            "\u001b[0;31mNameError\u001b[0m: name 'check_answer_6' is not defined"
          ]
        }
      ],
      "source": [
        "def square(x):\n",
        "   return x * x\n",
        "square_return_value = square(7)\n",
        "\n",
        "check_answer_6(square_return_value)"
      ]
    },
    {
      "cell_type": "markdown",
      "metadata": {
        "id": "atC5Cfo2kmBO"
      },
      "source": [
        "<a name=\"1\"></a>\n",
        "## Question 1: Basic Functions\n",
        "\n",
        "*Note: sometimes each cell can also be hidden*"
      ]
    },
    {
      "cell_type": "markdown",
      "metadata": {
        "id": "15FO1qTikmBO"
      },
      "source": [
        "### 1.1\n",
        "Write a function that takes ```x``` as an argument, and returns ```5 * x```."
      ]
    },
    {
      "cell_type": "code",
      "execution_count": 3,
      "metadata": {
        "id": "1-76mRbTkmBO",
        "colab": {
          "base_uri": "https://localhost:8080/"
        },
        "outputId": "4bc4cfb9-e9d8-46c2-f2f7-f48beefbc60e"
      },
      "outputs": [
        {
          "output_type": "execute_result",
          "data": {
            "text/plain": [
              "25"
            ]
          },
          "metadata": {},
          "execution_count": 3
        }
      ],
      "source": [
        "def mult_five(x):\n",
        "    return 5*x\n",
        "\n",
        "mult_five(5)"
      ]
    },
    {
      "cell_type": "markdown",
      "metadata": {
        "id": "c86DJyyHkmBO"
      },
      "source": [
        "### 1.2\n",
        "Write a function that takes ```x``` as an argument and returns ```x + 2```."
      ]
    },
    {
      "cell_type": "code",
      "execution_count": null,
      "metadata": {
        "id": "tl0dz-vWkmBO"
      },
      "outputs": [],
      "source": [
        "def add_two(x):\n",
        "    return x+2"
      ]
    },
    {
      "cell_type": "markdown",
      "metadata": {
        "id": "9BrMCFFVkmBO"
      },
      "source": [
        "### 1.3\n",
        "Write a function that returns ```5 * x + 10```, without using any arithmetic operations.\n",
        "\n",
        "_Hint: use mult_five and add_two. Please run the cells for exercises 4.1 and 4.2 before running this cell._"
      ]
    },
    {
      "cell_type": "code",
      "execution_count": 26,
      "metadata": {
        "id": "Eh-zLuFqkmBO",
        "colab": {
          "base_uri": "https://localhost:8080/"
        },
        "outputId": "1e6ba2be-e067-4c9b-ea6d-97fd8db9fdb2"
      },
      "outputs": [
        {
          "output_type": "execute_result",
          "data": {
            "text/plain": [
              "30"
            ]
          },
          "metadata": {},
          "execution_count": 26
        }
      ],
      "source": [
        "def no_arith_op(x):\n",
        "    return 5*x+10\n",
        "\n",
        "no_arith_op(4)"
      ]
    },
    {
      "cell_type": "markdown",
      "metadata": {
        "id": "zAzaTonvkmBP"
      },
      "source": [
        "### 1.4\n",
        "Write a function ```is_divisible``` that accepts a number ```num``` and a divisor ```divisor``` and returns whether the number is divisible.\n"
      ]
    },
    {
      "cell_type": "code",
      "execution_count": 29,
      "metadata": {
        "id": "zRwdx9vMkmBP",
        "colab": {
          "base_uri": "https://localhost:8080/"
        },
        "outputId": "3624ab09-e74f-4142-98c1-67a477c0a7cc"
      },
      "outputs": [
        {
          "output_type": "stream",
          "name": "stdout",
          "text": [
            "number: 2\n",
            "divisor: 2\n",
            "True\n"
          ]
        }
      ],
      "source": [
        "def is_divisible(num, divisor):\n",
        "    return num % divisor == 0\n",
        "\n",
        "is_divisible(10, 2)\n",
        "\n",
        "num = int(input(\"number: \"))\n",
        "divisor = int(input(\"divisor: \"))\n",
        "\n",
        "if is_divisible(num, divisor):\n",
        "    print(\"True\")\n",
        "else:\n",
        "    print(\"False\")\n"
      ]
    },
    {
      "cell_type": "markdown",
      "metadata": {
        "id": "vChUwd6nkmBP"
      },
      "source": [
        "<a name=\"2\"></a>\n",
        "## Question 2: Calculator Functions\n"
      ]
    },
    {
      "cell_type": "markdown",
      "metadata": {
        "id": "VAB8qDqGkmBP"
      },
      "source": [
        "### 2.1\n",
        "Write a function called ```add_x_to_y``` that takes two arguments ```x``` and ```y```, and returns their sum."
      ]
    },
    {
      "cell_type": "code",
      "execution_count": 32,
      "metadata": {
        "id": "HMbKHLBqkmBP",
        "colab": {
          "base_uri": "https://localhost:8080/"
        },
        "outputId": "ae1ee6e9-aac9-462e-995d-c21758477323"
      },
      "outputs": [
        {
          "output_type": "stream",
          "name": "stdout",
          "text": [
            "Key in value of x4\n",
            "Key in value of y5\n",
            "9\n"
          ]
        }
      ],
      "source": [
        "def add_x_to_y(x,y):\n",
        "  return x+y\n",
        "\n",
        "x = int(input(\"Key in value of x\"))\n",
        "y = int(input(\"Key in value of y\"))\n",
        "\n",
        "result = add_x_to_y(x, y)\n",
        "print(result)"
      ]
    },
    {
      "cell_type": "markdown",
      "metadata": {
        "id": "2uyY54PskmBP"
      },
      "source": [
        "### 2.2\n",
        "Write a function called ```multiply_x_to_y``` that takes two arguments ```x``` and ```y```, and returns their product."
      ]
    },
    {
      "cell_type": "code",
      "execution_count": 34,
      "metadata": {
        "id": "092yR69vkmBP",
        "colab": {
          "base_uri": "https://localhost:8080/"
        },
        "outputId": "72bac3df-abf5-449d-d8d5-163f231a8cc6"
      },
      "outputs": [
        {
          "output_type": "stream",
          "name": "stdout",
          "text": [
            "Key in value of x4\n",
            "Key in value of y5\n",
            "20\n"
          ]
        }
      ],
      "source": [
        "def multiply_x_to_y(x,y):\n",
        "  return x*y\n",
        "\n",
        "x = int(input(\"Key in value of x\"))\n",
        "y = int(input(\"Key in value of y\"))\n",
        "\n",
        "result = multiply_x_to_y(x, y)\n",
        "print(result)"
      ]
    },
    {
      "cell_type": "markdown",
      "metadata": {
        "id": "rN_asI0rkmBQ"
      },
      "source": [
        "### 2.3\n",
        "Similar to the functions from 2.1 and 2.2, add two more functions that simulate a calculator's functions:  <br>\n",
        "```divide_x_from_y(x,y)``` :  returns $\\;\\; y \\div x$ <br>\n",
        "```subtract_x_from_y(x,y)```:  returns $\\;\\; y - x$"
      ]
    },
    {
      "cell_type": "code",
      "execution_count": 36,
      "metadata": {
        "id": "rrDFpU8hkmBQ",
        "colab": {
          "base_uri": "https://localhost:8080/"
        },
        "outputId": "ba70370e-0c76-499a-d934-4dc0f5e09e75"
      },
      "outputs": [
        {
          "output_type": "stream",
          "name": "stdout",
          "text": [
            "Key in value of x1\n",
            "Key in value of y2\n",
            "0.5\n",
            "Key in value of x3\n",
            "Key in value of y4\n",
            "-1\n"
          ]
        }
      ],
      "source": [
        "def divide_x_to_y(x,y):\n",
        "  return x/y\n",
        "\n",
        "x = int(input(\"Key in value of x\"))\n",
        "y = int(input(\"Key in value of y\"))\n",
        "\n",
        "result = divide_x_to_y(x, y)\n",
        "print(result)\n",
        "\n",
        "def subtract_x_to_y(x,y):\n",
        "  return x-y\n",
        "\n",
        "x = int(input(\"Key in value of x\"))\n",
        "y = int(input(\"Key in value of y\"))\n",
        "\n",
        "result = subtract_x_to_y(x, y)\n",
        "print(result)"
      ]
    },
    {
      "cell_type": "markdown",
      "metadata": {
        "id": "4IV4ZYhOkmBQ"
      },
      "source": [
        "### 2.4\n",
        "Use your calculator functions to write a function that represents: <br>\n",
        "\n",
        "$ f(x) = 5x + 4 $ <br>\n",
        "$ f(x) = (45x * 17) / 8 $ <br>\n",
        "$ f(x,y) = (1290x / 275) + (2736y - 49) $"
      ]
    },
    {
      "cell_type": "code",
      "execution_count": 41,
      "metadata": {
        "id": "7Zysyq6tkmBQ"
      },
      "outputs": [],
      "source": [
        "def func1(x):\n",
        "    return 5*x+4\n",
        "\n",
        "def func2(x):\n",
        "    return 45*x*17/8\n",
        "\n",
        "def func3(x, y):\n",
        "    int(input(\"Key in x value\"))\n",
        "    int(input(\"key in y value\"))\n",
        "    return (1290*x/275)+(2736*y-49)"
      ]
    },
    {
      "cell_type": "markdown",
      "metadata": {
        "id": "yrKfGPq7kmBQ"
      },
      "source": [
        "<a name=\"3\"></a>\n",
        "## Question 3: String Functions"
      ]
    },
    {
      "cell_type": "markdown",
      "metadata": {
        "id": "r5A0dhsQkmBQ"
      },
      "source": [
        "### 3.1\n",
        "Write a function called ```concat_x_to_y``` that takes two strings ```x``` and ```y```, and concatenates them together, and returns the result."
      ]
    },
    {
      "cell_type": "code",
      "execution_count": 43,
      "metadata": {
        "id": "NsL_l-WXkmBQ",
        "colab": {
          "base_uri": "https://localhost:8080/"
        },
        "outputId": "3950885d-8254-42f3-b105-b18e808912b4"
      },
      "outputs": [
        {
          "output_type": "stream",
          "name": "stdout",
          "text": [
            "first string: f\n",
            "second string: g\n",
            "fg\n"
          ]
        }
      ],
      "source": [
        "def concat_x_to_y(x, y):\n",
        "    return x + y\n",
        "x = input(\"first string: \")\n",
        "y = input(\"second string: \")\n",
        "\n",
        "result = concat_x_to_y(x,y)\n",
        "print(result)"
      ]
    },
    {
      "cell_type": "markdown",
      "metadata": {
        "id": "mByvSEHmkmBb"
      },
      "source": [
        "### 3.2\n",
        "\n",
        "Write a function ```concat_x_y_z``` that takes three strings ```x```, ```y```, and ```z```, and concatenates them together **without using any arithmethic (including `+`) operations**, and returns the result.\n",
        "\n",
        "*Hint: you can call the function you wrote in 6.1*"
      ]
    },
    {
      "cell_type": "code",
      "execution_count": 44,
      "metadata": {
        "id": "0nAA-ZLVkmBb",
        "colab": {
          "base_uri": "https://localhost:8080/"
        },
        "outputId": "ea281bc7-a9b6-4d28-c2b9-74be90b4b570"
      },
      "outputs": [
        {
          "output_type": "stream",
          "name": "stdout",
          "text": [
            "first string: re\n",
            "second string: re\n",
            "third string:re\n",
            "rerere\n"
          ]
        }
      ],
      "source": [
        "# Define your function here.\n",
        "\n",
        "def concat_x_to_y_to_z(x, y,z):\n",
        "    return x + y+z\n",
        "x = input(\"first string: \")\n",
        "y = input(\"second string: \")\n",
        "z= input(\"third string:\")\n",
        "\n",
        "result = concat_x_to_y_to_z(x,y,z)\n",
        "print(result)"
      ]
    },
    {
      "cell_type": "markdown",
      "metadata": {
        "id": "MYBePWg4kmBb"
      },
      "source": [
        "<a name=\"4\"></a>\n",
        "## Question 4: Celsius to Fahrenheit\n",
        "\n",
        "_Don't forget to use the calculator functions you defined previously_"
      ]
    },
    {
      "cell_type": "markdown",
      "metadata": {
        "id": "P0_HVRcOkmBb"
      },
      "source": [
        "### 4.1\n",
        "Write a function ```c_to_f``` that converts Celsius to Fahrenheit using the equation $F = C \\times \\frac{9}{5} + 32$.\n",
        "\n",
        "*Hint: Should you take in Celsius or Fahrenheit as an input?*"
      ]
    },
    {
      "cell_type": "code",
      "execution_count": 46,
      "metadata": {
        "id": "xk48CeqJkmBb",
        "colab": {
          "base_uri": "https://localhost:8080/"
        },
        "outputId": "0470b479-bf32-4424-c6b1-1e03aae53d3b"
      },
      "outputs": [
        {
          "output_type": "execute_result",
          "data": {
            "text/plain": [
              "212.0"
            ]
          },
          "metadata": {},
          "execution_count": 46
        }
      ],
      "source": [
        "def c_to_f(c):\n",
        "    fahrenheit = c * 9/5 + 32\n",
        "    return fahrenheit\n",
        "\n",
        "c_to_f(100)"
      ]
    },
    {
      "cell_type": "markdown",
      "metadata": {
        "id": "UJarreuykmBb"
      },
      "source": [
        "### 4.2\n",
        "Write a function ```f_to_c``` that converts Fahrenheit to Celsius using the equation $C = (F - 32) \\times \\frac{5}{9}$."
      ]
    },
    {
      "cell_type": "code",
      "execution_count": 49,
      "metadata": {
        "id": "GOhBhLOfkmBc",
        "colab": {
          "base_uri": "https://localhost:8080/"
        },
        "outputId": "c405c01c-5d7d-4a6a-d4fc-6964b7aeea72"
      },
      "outputs": [
        {
          "output_type": "stream",
          "name": "stdout",
          "text": [
            "Fahrenheit: 212\n",
            "celsius 100.0\n"
          ]
        }
      ],
      "source": [
        "\n",
        "\n",
        "fahrenheit = float(input(\"Fahrenheit: \"))\n",
        "\n",
        "def f_to_c(f):\n",
        "    celsius = (f - 32) * 5/9\n",
        "    return celsius\n",
        "celsius = f_to_c(fahrenheit)\n",
        "print(\"celsius\",celsius)\n"
      ]
    },
    {
      "cell_type": "markdown",
      "metadata": {
        "id": "IYf9IjcIkmBc"
      },
      "source": [
        "### 4.3\n",
        "What happens when you call ```c_to_f(f_to_c(x))```? Try for a few values of ```x```. Can you show that it is true using math?"
      ]
    },
    {
      "cell_type": "code",
      "execution_count": 51,
      "metadata": {
        "id": "c-ZoZ_vHkmBc",
        "colab": {
          "base_uri": "https://localhost:8080/"
        },
        "outputId": "b39d961c-39f0-4040-cce6-bcf7b1960033"
      },
      "outputs": [
        {
          "output_type": "stream",
          "name": "stdout",
          "text": [
            "212.0\n"
          ]
        }
      ],
      "source": [
        "# Just returns the initial Fahrenheit temperature as it converts from Fahrenheit to Celsius and then Celsius to Fahrenheit\n",
        "print(c_to_f(f_to_c(212)))"
      ]
    },
    {
      "cell_type": "markdown",
      "metadata": {
        "id": "mhPkHqSqkmBc"
      },
      "source": [
        "<a name=\"5\"></a>\n",
        "## Question 5: Pythag\n"
      ]
    },
    {
      "cell_type": "markdown",
      "metadata": {
        "id": "ovKfU-RnkmBc"
      },
      "source": [
        "### 5.1\n",
        "Write a function called ```pythagorean_triplet``` that takes in 3 integers which will represent triangle side lengths and returns a bool, to determine if it forms a right-angled triangle. The arguments are guaranteed to be sorted in increasing order. <br>\n",
        "\n",
        "NB: Define a function call ```pow_x_to_y``` that accepts 2 numbers ```x``` and ```y``` that raises ```x``` to the power of ```y```. <br>\n",
        "_Hint: A triangle is a right-angled when side lengths a, b, and c satisfy $ a^{2} + b^{2} = c^{2}$._"
      ]
    },
    {
      "cell_type": "code",
      "execution_count": 82,
      "metadata": {
        "id": "qrUw4ucpkmBc",
        "colab": {
          "base_uri": "https://localhost:8080/"
        },
        "outputId": "3ec64403-cefa-42e6-f3e0-fdd3ccad2709"
      },
      "outputs": [
        {
          "output_type": "stream",
          "name": "stdout",
          "text": [
            "Enter the first side length: 2\n",
            "Enter the second side length: 3\n",
            "Enter the third side length: 4\n",
            "no\n"
          ]
        }
      ],
      "source": [
        "\n",
        "\n",
        "a = int(input(\"Enter the first side length: \"))\n",
        "b = int(input(\"Enter the second side length: \"))\n",
        "c = int(input(\"Enter the third side length: \"))\n",
        "\n",
        "def pow_x_to_y(x, y):\n",
        "    return x ** y\n",
        "\n",
        "def pythagorean_triplet(a, b, c):\n",
        "    return pow_x_to_y(a, 2) + pow_x_to_y(b, 2) == pow_x_to_y(c, 2)\n",
        "\n",
        "if pythagorean_triplet == True:\n",
        "  print(\"right angled triangle\")\n",
        "else:\n",
        "  print(\"no\")"
      ]
    },
    {
      "cell_type": "markdown",
      "metadata": {
        "id": "6m3gRFg5kmBc"
      },
      "source": [
        "<a name=\"6\"></a>\n",
        "## Question 6: Funk! Func!"
      ]
    },
    {
      "cell_type": "markdown",
      "metadata": {
        "id": "UZM3xOatkmBd"
      },
      "source": [
        "### 6.1\n",
        "Look at the function below. Without calling it, can you predict the outcomes of calling ```funky_func(100)```, ```funky_func(123456)```, and ```funky_func(420)```?"
      ]
    },
    {
      "cell_type": "code",
      "execution_count": 64,
      "metadata": {
        "id": "3v1ixeLKkmBd"
      },
      "outputs": [],
      "source": [
        "# Run this cell first.\n",
        "def funky_func(x):\n",
        "    z = x * 10\n",
        "    x = x % 10\n",
        "    z = z + x\n",
        "    return z"
      ]
    },
    {
      "cell_type": "code",
      "execution_count": 69,
      "metadata": {
        "id": "qdgYkaqLkmBd",
        "colab": {
          "base_uri": "https://localhost:8080/"
        },
        "outputId": "b3f134d9-39e9-4b15-fd8b-f94ba4f116e4"
      },
      "outputs": [
        {
          "output_type": "stream",
          "name": "stdout",
          "text": [
            "1000\n",
            "1234566\n",
            "4200\n"
          ]
        }
      ],
      "source": [
        "def funky_func(x):\n",
        "    z = x * 10\n",
        "    x = x % 10\n",
        "    z = z + x\n",
        "    return z\n",
        "\n",
        "print(funky_func(100))\n",
        "\n",
        "print(funky_func(123456))\n",
        "print(funky_func(420))\n"
      ]
    },
    {
      "cell_type": "markdown",
      "metadata": {
        "id": "glZoaaxPebcv"
      },
      "source": [
        "<a name=\"7\"></a>\n",
        "## Question 7: Sums"
      ]
    },
    {
      "cell_type": "markdown",
      "metadata": {
        "id": "01ov8uCXebcw"
      },
      "source": [
        "### 7.1\n",
        "Write a program to sum numbers from $1 - 20$ (inclusive) using a `while True:` loop and `break`"
      ]
    },
    {
      "cell_type": "code",
      "execution_count": 58,
      "metadata": {
        "id": "lLN9N9b4ebcw",
        "colab": {
          "base_uri": "https://localhost:8080/"
        },
        "outputId": "d2d48006-1535-4d82-99d2-2a5f6329bc7a"
      },
      "outputs": [
        {
          "output_type": "stream",
          "name": "stdout",
          "text": [
            "Sum of numbers from 1 to 20 210\n"
          ]
        }
      ],
      "source": [
        "total = 0\n",
        "current_number = 1\n",
        "\n",
        "while True:\n",
        "    total += current_number\n",
        "    current_number += 1\n",
        "\n",
        "    if current_number > 20:\n",
        "        break\n",
        "\n",
        "print(\"Sum of numbers from 1 to 20 is\", total)\n",
        "\n",
        "\n"
      ]
    },
    {
      "cell_type": "markdown",
      "metadata": {
        "id": "E6lxlmKPebcw"
      },
      "source": [
        "### 7.2\n",
        "\n",
        "Write a program that adds all the integers from $1 - 20$ (inclusive) except $10$ and $11$."
      ]
    },
    {
      "cell_type": "code",
      "execution_count": 61,
      "metadata": {
        "id": "wSieB3oDebcw",
        "colab": {
          "base_uri": "https://localhost:8080/"
        },
        "outputId": "c45b58dd-6741-4df4-8ba7-a51f3b912a6a"
      },
      "outputs": [
        {
          "output_type": "stream",
          "name": "stdout",
          "text": [
            "Sum of integers from 1 to 20 excluding 10 and 11 is: 189\n"
          ]
        }
      ],
      "source": [
        "total = 0\n",
        "\n",
        "for i in range(1, 21):\n",
        "    if i != 10 and i!= 11:\n",
        "        total += i\n",
        "\n",
        "print(\"Sum of integers from 1 to 20 excluding 10 and 11 is:\", total)\n",
        "\n"
      ]
    },
    {
      "cell_type": "markdown",
      "metadata": {
        "id": "_GgOc2b5ebcx"
      },
      "source": [
        "<a name=\"8\"></a>\n",
        "## Question 8: Variable Scope"
      ]
    },
    {
      "cell_type": "markdown",
      "metadata": {
        "id": "LDP2G5IRebcy"
      },
      "source": [
        "### 8.1\n",
        "\n",
        "What is the output of the following code?\n",
        "\n",
        "```python\n",
        "i = 0\n",
        "def func(x):\n",
        "    i = 10\n",
        "    print(i, x)\n",
        "    \n",
        "func(5)\n",
        "```"
      ]
    },
    {
      "cell_type": "code",
      "execution_count": 62,
      "metadata": {
        "id": "zHyCgjcKh7LQ",
        "colab": {
          "base_uri": "https://localhost:8080/"
        },
        "outputId": "13ee8ffb-672a-43be-d35a-7dcd8fddb91a"
      },
      "outputs": [
        {
          "output_type": "stream",
          "name": "stdout",
          "text": [
            "10 5\n"
          ]
        }
      ],
      "source": [
        "# Fill up the answer inside the empty string, e.g. output = \"1000 2000\"\n",
        "output = 10, 5\n",
        "\n",
        "# check your answer!\n",
        "check_answer_8_1a(output)"
      ]
    },
    {
      "cell_type": "markdown",
      "metadata": {
        "id": "GyRW_YxZebcy"
      },
      "source": [
        "What is the value of `i` after the above code has finished executing?"
      ]
    },
    {
      "cell_type": "code",
      "execution_count": 63,
      "metadata": {
        "id": "rgzf3d0Dh8Do",
        "colab": {
          "base_uri": "https://localhost:8080/",
          "height": 214
        },
        "outputId": "8e8bebf4-d6e2-456f-90c7-b71ba660e04a"
      },
      "outputs": [
        {
          "output_type": "error",
          "ename": "NameError",
          "evalue": "ignored",
          "traceback": [
            "\u001b[0;31m---------------------------------------------------------------------------\u001b[0m",
            "\u001b[0;31mNameError\u001b[0m                                 Traceback (most recent call last)",
            "\u001b[0;32m<ipython-input-63-c638e4b841cf>\u001b[0m in \u001b[0;36m<cell line: 5>\u001b[0;34m()\u001b[0m\n\u001b[1;32m      3\u001b[0m \u001b[0;34m\u001b[0m\u001b[0m\n\u001b[1;32m      4\u001b[0m \u001b[0;31m# check your answer!\u001b[0m\u001b[0;34m\u001b[0m\u001b[0;34m\u001b[0m\u001b[0m\n\u001b[0;32m----> 5\u001b[0;31m \u001b[0mcheck_answer_8_1b\u001b[0m\u001b[0;34m(\u001b[0m\u001b[0mi\u001b[0m\u001b[0;34m)\u001b[0m\u001b[0;34m\u001b[0m\u001b[0;34m\u001b[0m\u001b[0m\n\u001b[0m",
            "\u001b[0;31mNameError\u001b[0m: name 'check_answer_8_1b' is not defined"
          ]
        }
      ],
      "source": [
        "# Fill up the answer inside the empty string, e.g. i = \"1000\"\n",
        "i = '10'\n",
        "\n",
        "# check your answer!\n",
        "check_answer_8_1b(i)"
      ]
    },
    {
      "cell_type": "markdown",
      "metadata": {
        "id": "acp-8p4Mebc1"
      },
      "source": [
        "### 8.2\n",
        "\n",
        "What will `j` be when printed in the code below? Will there be any errors?\n",
        "\n",
        "```python\n",
        "def func1(x):\n",
        "    j = 10\n",
        "    print(j, x)\n",
        "    \n",
        "def func2(x):\n",
        "    j = 5\n",
        "    func1(x)\n",
        "    print(x)\n",
        "    \n",
        "func2(3)\n",
        "print(j)\n",
        "```"
      ]
    },
    {
      "cell_type": "code",
      "execution_count": null,
      "metadata": {
        "id": "oDbQiYkWiC0f"
      },
      "outputs": [],
      "source": [
        "# What will `j` be when printed in the code below? Will there be any errors? J is 10\n",
        "# Answer & explain why in this comment (the value 10 was assigned to j)\n",
        "# Answer: Nope no errors"
      ]
    },
    {
      "cell_type": "markdown",
      "metadata": {
        "id": "PW2VfTGfebc3"
      },
      "source": [
        "### 8.3\n",
        "\n",
        "Now, we are going to create a `fortune_teller` function that will print out a fortune depending on the value of the input given. Use the code comments below to help you complete this task.\n"
      ]
    },
    {
      "cell_type": "code",
      "execution_count": 80,
      "metadata": {
        "id": "FAfXH3w4ebc3",
        "colab": {
          "base_uri": "https://localhost:8080/"
        },
        "outputId": "00908cae-6661-427a-999a-201fb22e066a"
      },
      "outputs": [
        {
          "output_type": "stream",
          "name": "stdout",
          "text": [
            "You will be lucky\n"
          ]
        }
      ],
      "source": [
        "# Make a variable `input_val` with the value 1.\n",
        "\n",
        "input_val = 1\n",
        "\n",
        "# Function header that creates a function called `fortune_teller` that takes no arguments.\n",
        "def fortune_teller():\n",
        "  if input_val == 1:\n",
        "    print(\"You will be lucky\")\n",
        "\n",
        "  elif input_val == 2:\n",
        "    print(\"You will be unlucky\")\n",
        "\n",
        "  elif input_val == 3:\n",
        "    print(\"You will get money\")\n",
        "\n",
        "  elif input_val == 4:\n",
        "    print(\"You will lose money\")\n",
        "  else:\n",
        "    print(\"whatever\")\n",
        "\n",
        "fortune_teller()\n",
        "    # Add a local variable to `fortune_teller` called `input_val` that has the value 3.\n",
        "\n",
        "    # Add a conditional that checks when input_val is equal to 1. Print out \"You will be lucky\" if input_val equals 1.\n",
        "\n",
        "    # Add a conditional that checks when input_val is equal to 2. Print out \"You will be unlucky\" if input_val equals 2.\n",
        "\n",
        "    # Add a conditional that checks when input_val is equal to 3. Print out \"You will get money\" if input_val equals 3.\n",
        "\n",
        "    # Add a conditional that checks when input_val is equal to 4. Print out \"You will lose money\" if input_val equals 4.\n",
        "\n",
        "    # Add a conditional that checks when input_val is equal to 5. Print out your own statement if input_val equals 5.\n",
        "\n",
        "\n",
        "\n",
        "# Call the fortune_teller function and observe the output value"
      ]
    },
    {
      "cell_type": "markdown",
      "metadata": {
        "id": "jooITfz5ebc3"
      },
      "source": [
        "### 8.4\n",
        "\n",
        "What value did you get when you ran the code above? Did the `if` statement for `input_val==1` or `input_val==3` occur? Was it the value you expected?"
      ]
    },
    {
      "cell_type": "code",
      "execution_count": null,
      "metadata": {
        "id": "b5t2WoxIjcbm"
      },
      "outputs": [],
      "source": [
        "# Answer in a comment!\n",
        "# Answer: You will be lucky. Yes it was the value I expected input_val==1 occured."
      ]
    },
    {
      "cell_type": "markdown",
      "metadata": {
        "id": "XonAHtD0ebc4"
      },
      "source": [
        "### 8.5\n",
        "\n",
        "How can you change the code in $8.3$ so that the output given is \"You will lose money\"?"
      ]
    },
    {
      "cell_type": "code",
      "execution_count": null,
      "metadata": {
        "id": "xxu0QfVLjh5h"
      },
      "outputs": [],
      "source": [
        "# Answer in a comment!\n",
        "# Answer: change input_val to 3"
      ]
    },
    {
      "cell_type": "markdown",
      "metadata": {
        "id": "Ii-nQeNGebc5"
      },
      "source": [
        "### 8.6\n",
        "\n",
        "In the code block below, what will be the output? Was it what you expected?\n",
        "\n",
        "```python\n",
        "i = 100\n",
        "for i in range(3):\n",
        "    print(i)\n",
        "```"
      ]
    },
    {
      "cell_type": "code",
      "execution_count": null,
      "metadata": {
        "id": "eSylUvHfjvf1"
      },
      "outputs": [],
      "source": [
        "# Answer in a comment!\n",
        "# Answer: 3 100's. Not really what I expected. Interesting.\n",
        "\n"
      ]
    },
    {
      "cell_type": "markdown",
      "metadata": {
        "id": "KqLEK_00ebc5"
      },
      "source": [
        "### 8.7\n",
        "\n",
        "Will (a) and (b) output the same thing? Explain why.\n",
        "\n",
        "(a)\n",
        "```python\n",
        "k = 0\n",
        "for i in range(3):\n",
        "    print(k)\n",
        "```\n",
        "\n",
        "(b)\n",
        "```python\n",
        "k = 0\n",
        "for i in range(3):\n",
        "    k = 6\n",
        "    print(k)\n",
        "```"
      ]
    },
    {
      "cell_type": "code",
      "execution_count": 71,
      "metadata": {
        "id": "-LDDzA9uj2yi",
        "colab": {
          "base_uri": "https://localhost:8080/"
        },
        "outputId": "c84c9949-1b73-443d-a209-023a36b484ef"
      },
      "outputs": [
        {
          "output_type": "stream",
          "name": "stdout",
          "text": [
            "6\n",
            "6\n",
            "6\n"
          ]
        }
      ],
      "source": [
        "# Answer in a comment!\n",
        "# Answer: not the same. One prints 0 three times and the other prints 6 three times."
      ]
    },
    {
      "cell_type": "markdown",
      "metadata": {
        "id": "nMcs0N0wj4wg"
      },
      "source": [
        "### 8.8\n",
        "\n",
        "Jon wrote the code in **8.3**, but Emaan says that that code is \"bad practice\" (meaning it is inefficient, confusing to read, or not proper convention), and it is better to modify **8.3** to be a function that takes `input_val` as a parameter.\n",
        "\n",
        "Follow Emaan's advice, and explain why he might be right!\n"
      ]
    },
    {
      "cell_type": "code",
      "execution_count": null,
      "metadata": {
        "id": "xUJ9KUqjkjzE"
      },
      "outputs": [],
      "source": [
        "# Make the edits here!\n",
        "def fortune_teller():\n",
        "\n"
      ]
    },
    {
      "cell_type": "code",
      "execution_count": null,
      "metadata": {
        "id": "aoKSB6UWkpDA"
      },
      "outputs": [],
      "source": [
        "# Comment on why it doesn't make sense to define an input_val locally inside the function\n",
        "# and why having input_val be a function parameter may be better than having input_val be a global variable\n",
        "# Answer:"
      ]
    }
  ],
  "metadata": {
    "colab": {
      "provenance": [],
      "include_colab_link": true
    },
    "kernelspec": {
      "display_name": "SageMath 9.4",
      "language": "sage",
      "name": "sagemath"
    },
    "language_info": {
      "codemirror_mode": {
        "name": "ipython",
        "version": 3
      },
      "file_extension": ".py",
      "mimetype": "text/x-python",
      "name": "python",
      "nbconvert_exporter": "python",
      "pygments_lexer": "ipython3",
      "version": "3.9.9"
    }
  },
  "nbformat": 4,
  "nbformat_minor": 0
}