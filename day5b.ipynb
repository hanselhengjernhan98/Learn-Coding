{
  "cells": [
    {
      "cell_type": "markdown",
      "metadata": {
        "id": "view-in-github",
        "colab_type": "text"
      },
      "source": [
        "<a href=\"https://colab.research.google.com/github/hanselhengjernhan98/Learn-Coding/blob/main/day5b.ipynb\" target=\"_parent\"><img src=\"https://colab.research.google.com/assets/colab-badge.svg\" alt=\"Open In Colab\"/></a>"
      ]
    },
    {
      "cell_type": "markdown",
      "metadata": {
        "id": "tW41g3jp8Uzc"
      },
      "source": [
        "# Day 5B\n"
      ]
    },
    {
      "cell_type": "code",
      "execution_count": null,
      "metadata": {
        "id": "RqV4Qaod3MaF"
      },
      "outputs": [],
      "source": [
        "# Always run this code.\n",
        "%config InteractiveShell.ast_node_interactivity=\"none\"\n",
        "!pip install --force-reinstall git+https://github.com/jamcoders/jamcoders-public-2023.git --quiet\n",
        "from jamcoders.base_utils import *"
      ]
    },
    {
      "cell_type": "markdown",
      "metadata": {
        "id": "kVfhse7b3MaG"
      },
      "source": [
        "# Table of Contents  \n",
        "\n",
        "**[Question 1: Invert Booleans](#9)**\n",
        "\n",
        "**[Question 2: Diagonal Product](#10)**\n",
        "\n",
        "**[Question 3: Symmetric Matrix](#11)**\n",
        "\n",
        "**[Question 4: Checkerboard](#12)**\n",
        "\n",
        "**[Question 5: Get Primes](#12)**"
      ]
    },
    {
      "cell_type": "markdown",
      "metadata": {
        "id": "KcWlufPo8Uzf"
      },
      "source": [
        "<a name=\"9\"></a>\n",
        "### Question 1: Invert Booleans"
      ]
    },
    {
      "cell_type": "markdown",
      "metadata": {
        "id": "b70FClm_8Uzl"
      },
      "source": [
        "**Write** a function called `invert_bool(N, lists)` that takes in a non-negative integer `N` and a list called `lists` that contains `N` lists, each containing `N` booleans. The function should then invert every boolean and return the result.\n",
        "\n",
        "Note: You can visualize `lists` as a square matrix, where the first list is the first row, the second list is the second row, and so on.\n",
        "\n",
        "Don't worry if you haven't seen matrices. Knowledge of matrices isn't necessary for this question - you can just think of `lists` as a \"square\" of values.\n",
        "\n",
        "For example:\n",
        "\n",
        "`invert_bool([[True, False, True],\n",
        "  [False, True, True],  \n",
        "  [False, False, False]])`\n",
        "  \n",
        "  Should return:\n",
        "\n",
        "`[[False, True, False],\n",
        "  [True, False, False],  \n",
        "  [True, True, True]]`"
      ]
    },
    {
      "cell_type": "code",
      "execution_count": null,
      "metadata": {
        "id": "aZHJFSp58Uzn",
        "colab": {
          "base_uri": "https://localhost:8080/"
        },
        "outputId": "8a063e35-bb54-4cac-8689-4162bce0fb3f"
      },
      "outputs": [
        {
          "output_type": "stream",
          "name": "stdout",
          "text": [
            "Result 1: [[False, True, False], [True, False, False], [True, True, True]]\n",
            "Result 2: [[True, False, True], [False, False, False], [True, True, True]]\n"
          ]
        }
      ],
      "source": [
        "def invert_bool(N, lists):\n",
        "    inverted_lists = []\n",
        "\n",
        "    for row in lists:\n",
        "        inverted_row = [not boolean for boolean in row]\n",
        "        inverted_lists.append(inverted_row)\n",
        "\n",
        "    return inverted_lists\n",
        "\n",
        "result1 = invert_bool(3, [[True, False, True], [False, True, True], [False, False, False]])\n",
        "result2 = invert_bool(3, [[False, True, False], [True, True, True], [False, False, False]])\n",
        "\n",
        "print(\"Result 1:\", result1)\n",
        "print(\"Result 2:\", result2)\n",
        "\n"
      ]
    },
    {
      "cell_type": "markdown",
      "metadata": {
        "id": "HEI8vFRq8Uz_"
      },
      "source": [
        "<a name=\"10\"></a>\n",
        "### Question 2: Diagonal Sum"
      ]
    },
    {
      "cell_type": "markdown",
      "metadata": {
        "id": "rx3LGp088U0A"
      },
      "source": [
        "Write a function called `diagonal_sum(N, lists)` that takes in a N x N matrix as in question 1. The function should return the product of all the elements on the matrix's diagonal.\n",
        "\n",
        "Here, an element of the matrix is on the diagonal if its row is the same as its column. i.e., it can be accessed with `lists[i][i]` for some `i`,\n",
        "\n",
        "For example:\n",
        "\n",
        "`diagonal_product([[12, 5, 3],[2, 1, 3],[35, 23, 2]])`\n",
        "  \n",
        "  will return `15`.\n",
        "\n",
        "Note: This is called the *trace* of the matrix."
      ]
    },
    {
      "cell_type": "code",
      "execution_count": null,
      "metadata": {
        "id": "rcu6wMW38U0B"
      },
      "outputs": [],
      "source": [
        "def diagonal_product(matrix):\n",
        "    trace = 1\n",
        "\n",
        "    for i in range(len(matrix)):\n",
        "        trace *= matrix[i][i]\n",
        "\n",
        "    return trace\n",
        "\n",
        "matrix1 = [[12, 5, 3], [2, 1, 3], [35, 23, 2]]\n",
        "product = diagonal_product(matrix1)\n",
        "print(\"Diagonal product:\", product)\n"
      ]
    },
    {
      "cell_type": "markdown",
      "metadata": {
        "id": "QoLPbYAp8U0J"
      },
      "source": [
        "<a name=\"11\"></a>\n",
        "### Question 3: Symmetric Matrix"
      ]
    },
    {
      "cell_type": "markdown",
      "metadata": {
        "id": "0qKNs0pw8U0K"
      },
      "source": [
        "Write a function called `symmetric(N, lists)` that takes in a a matrix as above, and returns `True` if the matrix is symmetric, or `False` if the matrix is not symmetric.\n",
        "\n",
        "Definition: A matrix is symmetric if and only if it is still the same matrix when the $i^{th}$ columm is equal to the $i^{th}$ row, for all $i$.\n",
        "\n",
        "Note: This interchange of columsn and rows is called the *transpose* of the matrix.\n",
        "\n",
        "_Hint: You can do this without looking at the elements more than once._\n",
        "\n",
        "For example:\n",
        "\n",
        "`symmetric([[12, 5, 3],[2, 1, 3],[35, 23, 2]])` will return `False`, because the transpose is `[[12, 2, 35], [5, 1, 23], [3, 3, 2]]`.\n",
        "\n",
        "`symmetric([[1, 4, 5],[4, 2, 6],[5, 6, 3]])` will return `True`, because the transpose is `[[1, 4, 5], [4, 2, 6], [5, 6, 3]]`."
      ]
    },
    {
      "cell_type": "code",
      "execution_count": null,
      "metadata": {
        "id": "WsiRpY138U0L"
      },
      "outputs": [],
      "source": [
        "def symmetric(N, lists):\n",
        "    for i in range(N):\n",
        "        for j in range(N):\n",
        "            if lists[i][j] != lists[j][i]:\n",
        "                return False\n",
        "    return True\n",
        "\n",
        "matrix1 = [[12, 5, 3], [2, 1, 3], [35, 23, 2]]\n",
        "matrix2 = [[1, 4, 5], [4, 2, 6], [5, 6, 3]]\n",
        "\n",
        "result1 = symmetric(3, matrix1)\n",
        "result2 = symmetric(3, matrix2)\n",
        "\n",
        "print(\"Result 1:\", result1)\n",
        "print(\"Result 2:\", result2)\n"
      ]
    },
    {
      "cell_type": "markdown",
      "metadata": {
        "id": "DZjcdLzl8U0U"
      },
      "source": [
        "<a name=\"12\"></a>\n",
        "### Question 4: Checkerboard"
      ]
    },
    {
      "cell_type": "markdown",
      "metadata": {
        "id": "cpuGfM_U8U0V"
      },
      "source": [
        "Write the function `checkerboard(x)` that takes in an integer `x` and prints a `x` by `x` checkerboard that alternates between hashtags and percent signs on odd lines and percent signs and hashtags on even lines.\n",
        "\n",
        "For example:\n",
        "\n",
        "```\n",
        "checkerboard(4) →\n",
        "#%#%\n",
        "%#%#\n",
        "#%#%\n",
        "%#%#\n",
        "```"
      ]
    },
    {
      "cell_type": "code",
      "execution_count": null,
      "metadata": {
        "id": "ZR-ijaN_8U0W",
        "colab": {
          "base_uri": "https://localhost:8080/"
        },
        "outputId": "36f67cab-21e6-41f3-b7a1-9dfda0d60a19"
      },
      "outputs": [
        {
          "output_type": "stream",
          "name": "stdout",
          "text": [
            "#%#%#%#%#%\n",
            "%#%#%#%#%#\n",
            "#%#%#%#%#%\n",
            "%#%#%#%#%#\n",
            "#%#%#%#%#%\n"
          ]
        }
      ],
      "source": [
        "def checkerboard(x):\n",
        "    for i in range(x):\n",
        "        if i % 2 == 0:\n",
        "            pattern = \"#%\"\n",
        "        else:\n",
        "            pattern = \"%#\"\n",
        "\n",
        "        print(pattern * x)\n",
        "\n",
        "checkerboard(5)\n"
      ]
    },
    {
      "cell_type": "markdown",
      "metadata": {
        "id": "wXWJRH0o3MaJ"
      },
      "source": [
        "<a name=\"13\"></a>\n",
        "### Question 5: Get Primes\n",
        "Write the function `get_primes(n)` that returns a list of the first `n` prime numbers."
      ]
    },
    {
      "cell_type": "code",
      "execution_count": null,
      "metadata": {
        "id": "cgdRrrMS3MaJ",
        "colab": {
          "base_uri": "https://localhost:8080/"
        },
        "outputId": "d7a37a2e-ebfc-44b7-f8c3-c6695c351166"
      },
      "outputs": [
        {
          "output_type": "stream",
          "name": "stdout",
          "text": [
            "Enter the value of n: 5\n",
            "The first 5 prime numbers are: [2, 3, 5, 7, 11]\n"
          ]
        }
      ],
      "source": [
        "\n",
        "\n",
        "def is_prime(num):\n",
        "    if num <= 1:\n",
        "        return False\n",
        "    if num <= 3:\n",
        "        return True\n",
        "    if num % 2 == 0 or num % 3 == 0:\n",
        "        return False\n",
        "    i = 5\n",
        "    while i * i <= num:\n",
        "        if num % i == 0 or num % (i + 2) == 0:\n",
        "            return False\n",
        "        i += 6\n",
        "    return True\n",
        "\n",
        "def get_primes(n):\n",
        "    primes = []\n",
        "    num = 2  # Start checking for primes from 2\n",
        "\n",
        "    while len(primes) < n:\n",
        "        if is_prime(num):\n",
        "            primes.append(num)\n",
        "        num += 1\n",
        "\n",
        "    return primes\n",
        "\n",
        "n = int(input(\"Enter the value of n: \"))\n",
        "prime_list = get_primes(n)\n",
        "print(f\"The first {n} prime numbers are:\", prime_list)\n",
        "\n",
        "\n"
      ]
    }
  ],
  "metadata": {
    "colab": {
      "provenance": [],
      "include_colab_link": true
    },
    "kernelspec": {
      "display_name": "Python 3",
      "language": "python",
      "name": "python3"
    },
    "language_info": {
      "codemirror_mode": {
        "name": "ipython",
        "version": 3
      },
      "file_extension": ".py",
      "mimetype": "text/x-python",
      "name": "python",
      "nbconvert_exporter": "python",
      "pygments_lexer": "ipython3",
      "version": "3.10.6"
    }
  },
  "nbformat": 4,
  "nbformat_minor": 0
}