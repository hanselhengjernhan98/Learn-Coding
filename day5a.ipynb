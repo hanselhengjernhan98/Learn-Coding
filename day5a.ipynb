{
  "cells": [
    {
      "cell_type": "markdown",
      "metadata": {
        "id": "view-in-github",
        "colab_type": "text"
      },
      "source": [
        "<a href=\"https://colab.research.google.com/github/hanselhengjernhan98/Learn-Coding/blob/main/day5a.ipynb\" target=\"_parent\"><img src=\"https://colab.research.google.com/assets/colab-badge.svg\" alt=\"Open In Colab\"/></a>"
      ]
    },
    {
      "cell_type": "markdown",
      "metadata": {
        "id": "4O2smJEQY_cK"
      },
      "source": [
        "![Reminder to Save](https://github.com/jamcoders/jamcoders-public-2023/blob/main/images/warning.png?raw=true)\n"
      ]
    },
    {
      "cell_type": "markdown",
      "metadata": {
        "id": "gQVcTiChFEon"
      },
      "source": [
        "# Day 5a: Functions, User Input"
      ]
    },
    {
      "cell_type": "code",
      "execution_count": null,
      "metadata": {
        "colab": {
          "base_uri": "https://localhost:8080/"
        },
        "id": "LGRa4N6ZGpdB",
        "outputId": "d6fc3ba3-1361-4b77-81a3-66abdecbc43f"
      },
      "outputs": [
        {
          "name": "stdout",
          "output_type": "stream",
          "text": [
            "  Preparing metadata (setup.py) ... \u001b[?25l\u001b[?25hdone\n",
            "  Building wheel for jamcoders (setup.py) ... \u001b[?25l\u001b[?25hdone\n"
          ]
        }
      ],
      "source": [
        "# Run this code cell first!\n",
        "%config InteractiveShell.ast_node_interactivity=\"none\"\n",
        "import sys\n",
        "if 'google.colab' in sys.modules:\n",
        "    !pip install --force-reinstall git+https://github.com/jamcoders/jamcoders-public-2023.git --quiet\n",
        "from jamcoders.base_utils import *\n",
        "from jamcoders.week1.lab4c import *"
      ]
    },
    {
      "cell_type": "markdown",
      "metadata": {
        "id": "W7oxmua0Y_cM"
      },
      "source": [
        "### Question 1: Accepting Input\n",
        "\n",
        "In Python, the `input` function reads from the user (not necessarily the programmer) and returns the inputs as string values. Can you spot the error in the following cell without running it?"
      ]
    },
    {
      "cell_type": "code",
      "execution_count": null,
      "metadata": {
        "colab": {
          "base_uri": "https://localhost:8080/"
        },
        "id": "7d6StXZWGpdH",
        "outputId": "f343706c-f5de-4aa1-ceeb-ee6c314c47e3"
      },
      "outputs": [
        {
          "name": "stdout",
          "output_type": "stream",
          "text": [
            "How old are you? 2\n",
            "Your current age is 2\n",
            "Next year, your age will be 3\n"
          ]
        }
      ],
      "source": [
        "age = int(input(\"How old are you? \"))\n",
        "print(\"Your current age is\", age)\n",
        "\n",
        "ageNextYear = age + 1\n",
        "print(\"Next year, your age will be \" + str(ageNextYear))\n"
      ]
    },
    {
      "cell_type": "code",
      "execution_count": null,
      "metadata": {
        "colab": {
          "base_uri": "https://localhost:8080/"
        },
        "id": "uKseyfcVGpdH",
        "outputId": "f13fba1e-af5b-492d-fab8-bd2edf1f8e89"
      },
      "outputs": [
        {
          "name": "stdout",
          "output_type": "stream",
          "text": [
            "How old are you? 2\n",
            "Your current age is 2\n",
            "Next year, your age will be 3\n"
          ]
        }
      ],
      "source": [
        "2# How can you fix the above problem? Edit the code below.\n",
        "age = int(input(\"How old are you? \"))\n",
        "print(\"Your current age is \" + str(age))\n",
        "\n",
        "ageNextYear = age + 1\n",
        "print(\"Next year, your age will be \" + str(ageNextYear))"
      ]
    },
    {
      "cell_type": "markdown",
      "metadata": {
        "id": "-RS5Ik96FEpQ"
      },
      "source": [
        "\n",
        "\n",
        "### Question 2: Make an ATM\n",
        "\n",
        "For code where you have to take in user input, you might have to ensure that users type valid inputs. Imagine what would happen if you could withdraw a negative amount of money at a bank!\n",
        "\n",
        "Implement the functions `deposit()` and `withdrawal()`, so that the program below works like an ATM.\n",
        "\n",
        "The `deposit(amount, balance)` function should add the `amount` to `balance` and return the final `balance`. Make sure that you only accept **positive integers** as input (no strings, booleans etc.)!\n",
        "\n",
        "The `withdraw(amount, balance)` function should deduct `amount` from `balance` and return the final `balance`. Make sure that you only allow users to accept **positive integers** that are at most the current balance.\n",
        "\n",
        "\n",
        "**Important: If the user keys in invalid inputs for both functions, return the original `balance` and print a message saying `Error: Invalid Input!`**\n",
        "\n",
        "\n",
        "Hint: An `input` is always a string, you have to convert it to an number first. However in order to convert it to an integer, you need to know if it *can* be converted to an integer. For example, \"abc\" cannot be converted to an integer, to check if a string can be converted to an integer, you can use the function `isdigit()`. Also note that `isdigit()` will return `False` for negative integers.\n",
        "\n",
        "```python\n",
        "amount = \"abc\"\n",
        "print(amount.isdigit())\n",
        ">>> False\n",
        "\n",
        "amount = \"123\"\n",
        "print(amount.isdigit())\n",
        ">>> True\n",
        "\n",
        "amount = \"-3\"\n",
        "print(amount.isdigit())\n",
        ">>> False\n",
        "```"
      ]
    },
    {
      "cell_type": "code",
      "execution_count": null,
      "metadata": {
        "colab": {
          "background_save": true,
          "base_uri": "https://localhost:8080/"
        },
        "id": "7RvnN4T8FEpR",
        "outputId": "a45bac91-ab2d-4b75-bbe3-4f9ffeb19553"
      },
      "outputs": [
        {
          "metadata": {
            "tags": null
          },
          "name": "stdout",
          "output_type": "stream",
          "text": [
            "your current balance is 0JMD\n",
            "You have deposited 100JMD\n",
            "Your total balance is 0JMD\n",
            "You have withdrawn 1JMD\n",
            "Your remaining balance is 0JMD\n"
          ]
        }
      ],
      "source": [
        "def deposit(amount, balance):\n",
        "    \"\"\"\n",
        "    Add money to the bank account balance.\n",
        "\n",
        "    Args:\n",
        "      amount (int):\n",
        "        Number of JMD to add to the balance. This is a non-negative\n",
        "        integer.\n",
        "      balance (int):\n",
        "        The balance in the account before the deposit, in JMD. This is a\n",
        "        non-negative integer.\n",
        "\n",
        "    Returns (int):\n",
        "        Number of JMD in the account before the deposit. This is a non-negative\n",
        "        integer. If the input was invalid, no deposit is performed, and the\n",
        "        retun value equals the input balance.\n",
        "    \"\"\"\n",
        "    error_message = \"Error: Invalid Input!\"\n",
        "\n",
        "    if amount.isdigit():\n",
        "        amount = int(amount)\n",
        "        if amount >= 0:\n",
        "            balance += amount\n",
        "            print(\"You have deposited \" + str(amount) + \" JMD\")\n",
        "            print(\"Your total balance is \" + str(balance) + \" JMD\")\n",
        "        else:\n",
        "            print(error_message)\n",
        "    else:\n",
        "        print(error_message)\n",
        "\n",
        "    return balance\n",
        "\n",
        "def withdraw(amount, balance):\n",
        "    \"\"\"\n",
        "    Remove money from the bank account balance.\n",
        "\n",
        "    If the input was invalid, prints \"Error: Invalid Input!\".\n",
        "\n",
        "    Args:\n",
        "      amount (int):\n",
        "        Number of JMD to take out of the account. This is a non-negative\n",
        "        integer.\n",
        "      balance (int):\n",
        "        Number of JMD in the account before the withdrawal. This is a\n",
        "        non-negative integer.\n",
        "\n",
        "    Returns (int):\n",
        "        Number of JMD in the account after performing the withdrawal. This is a\n",
        "        non-negative integer. If the input was invalid, no withdrawal is\n",
        "        performed, and the return value equals the input balance.\n",
        "    \"\"\"\n",
        "    error_message = \"Error: Invalid Input!\"\n",
        "\n",
        "    if amount.isdigit():\n",
        "        amount = int(amount)\n",
        "        if amount >= 0 and amount <= balance:\n",
        "            balance -= amount\n",
        "            print(\"You have withdrawn \" + str(amount) + \" JMD\")\n",
        "            print(\"Your remaining balance is \" + str(balance) + \" JMD\")\n",
        "        else:\n",
        "            print(error_message)\n",
        "    else:\n",
        "        print(error_message)\n",
        "\n",
        "    return balance\n",
        "\n",
        "def bank():\n",
        "    balance = 0\n",
        "    while True:\n",
        "        process = input(\n",
        "            \"\"\"\n",
        "            What would you like to do? (Type in a,b,c or d)\n",
        "\n",
        "            (a) Deposit Money\n",
        "            (b) Withdraw Money\n",
        "            (c) Check balance\n",
        "            (d) Exit\n",
        "\n",
        "            \"\"\")\n",
        "        if process == \"a\":\n",
        "            amount = input(\"How much do you want to deposit? \")\n",
        "            balance = deposit(amount, balance)\n",
        "        elif process == \"b\":\n",
        "            amount = input(\"How much do you want to withdraw? \")\n",
        "            balance = withdraw(amount, balance)\n",
        "        elif process == \"c\":\n",
        "            print('Your current balance is ' + str(balance) + ' JMD')\n",
        "        elif process == \"d\":\n",
        "            break\n",
        "        else:\n",
        "            print(\"Please type a, b, c, or d, then press enter.\\n\")\n",
        "\n",
        "bank()\n"
      ]
    },
    {
      "cell_type": "markdown",
      "metadata": {
        "id": "hLp713KDY_cN"
      },
      "source": [
        "An important part of coding is testing to make sure that your code is free of bugs, especially when accepting user input. Try to test every possible kind of input for your above function to make sure that it works fully!"
      ]
    },
    {
      "cell_type": "markdown",
      "metadata": {
        "id": "ohJaFN12-oDA"
      },
      "source": [
        "### Question 3"
      ]
    },
    {
      "cell_type": "markdown",
      "metadata": {
        "id": "95O5P10x-oDB"
      },
      "source": [
        "Write a Python function that takes a list and returns a new list with unique elements of the first list.\n",
        "\n",
        "Sample List : `[1, 2 ,3, 3, 3, 3, 4, 5]`\n",
        "\n",
        "Unique List : `[1, 2, 3, 4, 5]`\n",
        "\n",
        "*Hint* How do you check if an element is in a list already? Use Google!"
      ]
    },
    {
      "cell_type": "code",
      "execution_count": null,
      "metadata": {
        "colab": {
          "base_uri": "https://localhost:8080/"
        },
        "id": "S-thv04I-oDC",
        "outputId": "c7100c8b-c4b0-4cc4-ec14-5149955f0a0b"
      },
      "outputs": [
        {
          "name": "stdout",
          "output_type": "stream",
          "text": [
            "Sample List: [1, 2, 3, 3, 3, 3, 4, 5]\n",
            "Unique List: []\n"
          ]
        }
      ],
      "source": [
        "\n",
        "def unique_lst(old_list):\n",
        "    # YOUR CODE HERE\n",
        "    pass\n",
        "\n",
        "def get_unique_elements(old_list):\n",
        "    unique_list = []\n",
        "\n",
        "    for item in old_list:\n",
        "        if item not in old_list:\n",
        "            old_list.append(item)\n",
        "\n",
        "    return unique_list\n",
        "\n",
        "sample_list = [1, 2, 3, 3, 3, 3, 4, 5]\n",
        "unique_list = get_unique_elements(sample_list)\n",
        "print(\"Sample List:\", sample_list)\n",
        "print(\"Unique List:\", unique_list)\n"
      ]
    },
    {
      "cell_type": "markdown",
      "metadata": {
        "id": "5GDL3ctC-oDO"
      },
      "source": [
        "### Question 4\n",
        "Write a Python function to check whether a string is a pangram or not.\n",
        "\n",
        "Note : Pangrams are words or sentences containing every letter of the alphabet at least once.\n",
        "For example : \"The quick brown fox jumps over the lazy dog\"\n",
        "\n",
        "* *Hint 1:* Use your function `unique_lst` that you have above!\n",
        "* *Hint 2:* Convert all the characters to lowercase using the `.lower()` function!"
      ]
    },
    {
      "cell_type": "code",
      "execution_count": null,
      "metadata": {
        "colab": {
          "base_uri": "https://localhost:8080/"
        },
        "id": "QszScp92-oDQ",
        "outputId": "953395ea-13f1-4764-ae52-4148de50dbc7"
      },
      "outputs": [
        {
          "name": "stdout",
          "output_type": "stream",
          "text": [
            "Type your sentenceThe quick brown fox jumps over the lazy dog\n",
            "Yype your non-pangram sentencehi\n",
            "The sentence is a pangram.\n",
            "The sentence is not a pangram.\n"
          ]
        }
      ],
      "source": [
        "\n",
        "def is_pangram(x):\n",
        "    alphabet = \"abcdefghijklmnopqrstuvwxyz\"\n",
        "    x = x.lower()\n",
        "\n",
        "    for i in alphabet:\n",
        "        if i not in x:\n",
        "            return False\n",
        "    return True\n",
        "\n",
        "pangram_sentence = input(\"Type your sentence\")\n",
        "non_pangram_sentence = input(\"Yype your non-pangram sentence\")\n",
        "\n",
        "if is_pangram(pangram_sentence) == True:\n",
        "    print(\"The sentence is a pangram.\")\n",
        "else:\n",
        "    print(\"The sentence is not a pangram.\")\n",
        "\n",
        "if is_pangram(non_pangram_sentence) == True:\n",
        "    print(\"The sentence is a pangram.\")\n",
        "else:\n",
        "    print(\"The sentence is not a pangram.\")"
      ]
    },
    {
      "cell_type": "code",
      "execution_count": null,
      "metadata": {
        "id": "_5Rzd6MM_KYf"
      },
      "outputs": [],
      "source": []
    }
  ],
  "metadata": {
    "colab": {
      "provenance": [],
      "include_colab_link": true
    },
    "kernelspec": {
      "display_name": "Python 3",
      "language": "python",
      "name": "python3"
    },
    "language_info": {
      "codemirror_mode": {
        "name": "ipython",
        "version": 3
      },
      "file_extension": ".py",
      "mimetype": "text/x-python",
      "name": "python",
      "nbconvert_exporter": "python",
      "pygments_lexer": "ipython3",
      "version": "3.10.11"
    }
  },
  "nbformat": 4,
  "nbformat_minor": 0
}