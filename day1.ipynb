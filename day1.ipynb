{
  "cells": [
    {
      "cell_type": "markdown",
      "metadata": {
        "id": "view-in-github",
        "colab_type": "text"
      },
      "source": [
        "<a href=\"https://colab.research.google.com/github/hanselhengjernhan98/Learn-Coding/blob/main/day1.ipynb\" target=\"_parent\"><img src=\"https://colab.research.google.com/assets/colab-badge.svg\" alt=\"Open In Colab\"/></a>"
      ]
    },
    {
      "cell_type": "markdown",
      "metadata": {
        "id": "_RrbfyourG99"
      },
      "source": [
        "# Day 1, 7th Aug: Variables, Types, Errors"
      ]
    },
    {
      "cell_type": "code",
      "execution_count": null,
      "metadata": {
        "id": "OIvW4hSirG9_"
      },
      "outputs": [],
      "source": [
        "# Always run this code.\n",
        "%config InteractiveShell.ast_node_interactivity=\"none\""
      ]
    },
    {
      "cell_type": "markdown",
      "metadata": {
        "id": "9ab_K-snrG-A"
      },
      "source": [
        "# Table of Contents  \n",
        "\n",
        "**[Question 1: Conceptual Recap from Part 1](#1)**\n",
        "\n",
        "**[Question 2: len()](#2)**\n",
        "\n",
        "**[Question 3: Errors](#3)**\n",
        "\n",
        "**[Question 4: Matching a Truth Table](#4)**\n",
        "\n",
        "**[Question 5: What time is it?](#5)**\n",
        "\n",
        "**[Question 6: Obstacle Course](#6)**\n",
        "\n",
        "**[Question 7: Create Your Own Obstacle Course](#7)**\n",
        "\n",
        "**[Question 8: Open Ended](#8)**"
      ]
    },
    {
      "cell_type": "markdown",
      "metadata": {
        "id": "e5EtF5qpEoWH"
      },
      "source": [
        "<a name=\"1\"></a>\n",
        "## Question 1: Conceptual Recap from Part 1"
      ]
    },
    {
      "cell_type": "markdown",
      "metadata": {
        "id": "ab4moOGdFNyq"
      },
      "source": [
        "** *italicised text*1.1**\n",
        "\n",
        "Loosely define the following terms:\n",
        "*   Code\n",
        "*   Python\n",
        "*   Programming Language\n",
        "*   Jupyter Notebook\n",
        "*   Algorithm"
      ]
    },
    {
      "cell_type": "code",
      "execution_count": null,
      "metadata": {
        "id": "XaxM9-43EYOD"
      },
      "outputs": [],
      "source": [
        "# Code is language telling the computer what to do. Python is a programming language. A programming language is a way of telling the computer what to do. A jupyter notebook is a text editor? AN algorithm is a formula."
      ]
    },
    {
      "cell_type": "markdown",
      "metadata": {
        "id": "_zhrtgwlGTUN"
      },
      "source": [
        "**1.2**\n",
        "\n",
        "In lecture, we saw that most algorithms have:\n",
        "*   **variables**\n",
        "*   **operations** (ex. `+`, `%`, `*`)\n",
        "*   **control** (ex. loops, if statements).\n",
        "\n",
        "What is the purpose of each of these things? What do they do?"
      ]
    },
    {
      "cell_type": "code",
      "execution_count": null,
      "metadata": {
        "id": "3csD6ZKQI_QQ"
      },
      "outputs": [],
      "source": [
        "# variables are assigned values. Operations divide/subtract/add etc. Loops help to automate."
      ]
    },
    {
      "cell_type": "markdown",
      "metadata": {
        "id": "QGqkjXtfJL-f"
      },
      "source": [
        "<a name=\"2\"></a>\n",
        "## Question 2: len()"
      ]
    },
    {
      "cell_type": "markdown",
      "metadata": {
        "id": "Za0vVfE-JZfw"
      },
      "source": [
        "**2.1**\n",
        "\n",
        "Have you ever wondered how many letters that make up one of the longest words in the English dictionary is?\n",
        "\n",
        "Well, write the code to find the length of the word `\"Supercalifragilisticexpialidocious\"`"
      ]
    },
    {
      "cell_type": "code",
      "execution_count": null,
      "metadata": {
        "id": "4VStz_f8JZyR",
        "colab": {
          "base_uri": "https://localhost:8080/"
        },
        "outputId": "b029271e-f7ad-4361-b072-cd7c3ad72aec"
      },
      "outputs": [
        {
          "output_type": "execute_result",
          "data": {
            "text/plain": [
              "34"
            ]
          },
          "metadata": {},
          "execution_count": 2
        }
      ],
      "source": [
        "len(\"Supercalifragilisticexpialidocious\")\n"
      ]
    },
    {
      "cell_type": "markdown",
      "metadata": {
        "id": "8Mkw48xFMIPY"
      },
      "source": [
        "**2.2**\n",
        "\n",
        "If we were to break this long word into smaller, more simpler parts, this would be `\"super cali fragil is tic ex pi ali do cious \"`\n",
        "\n",
        "Now, what would the length of this string would be? (Let's see if there is a difference now that we have spaces in between and at the end)"
      ]
    },
    {
      "cell_type": "code",
      "execution_count": null,
      "metadata": {
        "id": "2lTyIRJnyoNo",
        "colab": {
          "base_uri": "https://localhost:8080/"
        },
        "outputId": "7b4c3f72-076a-49de-f954-b54207323b56"
      },
      "outputs": [
        {
          "output_type": "execute_result",
          "data": {
            "text/plain": [
              "44"
            ]
          },
          "metadata": {},
          "execution_count": 4
        }
      ],
      "source": [
        "len(\"super cali fragil is tic ex pi ali do cious \")"
      ]
    },
    {
      "cell_type": "markdown",
      "metadata": {
        "id": "fg3rUvnXMfNs"
      },
      "source": [
        "**2.3**\n",
        "\n",
        "What is the length of `\"I am twenty nine letters long\"`?"
      ]
    },
    {
      "cell_type": "code",
      "execution_count": null,
      "metadata": {
        "id": "rAJCof0_Mr7g",
        "colab": {
          "base_uri": "https://localhost:8080/"
        },
        "outputId": "66779817-35e4-45c6-c146-aa5496f8703c"
      },
      "outputs": [
        {
          "output_type": "execute_result",
          "data": {
            "text/plain": [
              "29"
            ]
          },
          "metadata": {},
          "execution_count": 5
        }
      ],
      "source": [
        "len(\"I am twenty nine letters long\")"
      ]
    },
    {
      "cell_type": "markdown",
      "metadata": {
        "id": "eXCcja4NNeL2"
      },
      "source": [
        "**2.4**\n",
        "\n",
        "Does `None` have a length?"
      ]
    },
    {
      "cell_type": "code",
      "execution_count": null,
      "metadata": {
        "id": "ofbg3XMANkpB",
        "colab": {
          "base_uri": "https://localhost:8080/",
          "height": 179
        },
        "outputId": "7353670d-8a81-47d0-8210-ec06130061de"
      },
      "outputs": [
        {
          "output_type": "error",
          "ename": "TypeError",
          "evalue": "ignored",
          "traceback": [
            "\u001b[0;31m---------------------------------------------------------------------------\u001b[0m",
            "\u001b[0;31mTypeError\u001b[0m                                 Traceback (most recent call last)",
            "\u001b[0;32m<ipython-input-8-96b07938784c>\u001b[0m in \u001b[0;36m<cell line: 1>\u001b[0;34m()\u001b[0m\n\u001b[0;32m----> 1\u001b[0;31m \u001b[0mlen\u001b[0m\u001b[0;34m(\u001b[0m\u001b[0;32mNone\u001b[0m\u001b[0;34m)\u001b[0m\u001b[0;34m\u001b[0m\u001b[0;34m\u001b[0m\u001b[0m\n\u001b[0m",
            "\u001b[0;31mTypeError\u001b[0m: object of type 'NoneType' has no len()"
          ]
        }
      ],
      "source": [
        "len(None)"
      ]
    },
    {
      "cell_type": "markdown",
      "metadata": {
        "id": "IMFITI9KOVhR"
      },
      "source": [
        "**2.5**\n",
        "\n",
        "Can we use `len` to get the length of a number? Try for `15`:"
      ]
    },
    {
      "cell_type": "code",
      "execution_count": null,
      "metadata": {
        "id": "LeAPMwInNxHE",
        "colab": {
          "base_uri": "https://localhost:8080/",
          "height": 179
        },
        "outputId": "29389ec1-26ac-47a2-e4b9-864ab9507056"
      },
      "outputs": [
        {
          "output_type": "error",
          "ename": "TypeError",
          "evalue": "ignored",
          "traceback": [
            "\u001b[0;31m---------------------------------------------------------------------------\u001b[0m",
            "\u001b[0;31mTypeError\u001b[0m                                 Traceback (most recent call last)",
            "\u001b[0;32m<ipython-input-11-f679726e9638>\u001b[0m in \u001b[0;36m<cell line: 1>\u001b[0;34m()\u001b[0m\n\u001b[0;32m----> 1\u001b[0;31m \u001b[0mlen\u001b[0m\u001b[0;34m(\u001b[0m\u001b[0;36m15\u001b[0m\u001b[0;34m)\u001b[0m\u001b[0;34m\u001b[0m\u001b[0;34m\u001b[0m\u001b[0m\n\u001b[0m",
            "\u001b[0;31mTypeError\u001b[0m: object of type 'int' has no len()"
          ]
        }
      ],
      "source": [
        "len(15)"
      ]
    },
    {
      "cell_type": "markdown",
      "metadata": {
        "id": "LotkQm_6Ov3-"
      },
      "source": [
        "**2.6**\n",
        "\n",
        "Why might you think the above (in **2.6**) does not work?"
      ]
    },
    {
      "cell_type": "code",
      "execution_count": null,
      "metadata": {
        "id": "NPAyqa9rOwK3"
      },
      "outputs": [],
      "source": [
        "# it is an integer"
      ]
    },
    {
      "cell_type": "markdown",
      "metadata": {
        "id": "iiN2sjdAJv_v"
      },
      "source": [
        "<a name=\"3\"></a>\n",
        "## Question 3: Errors"
      ]
    },
    {
      "cell_type": "markdown",
      "metadata": {
        "id": "AeGOMF4vJ0I_"
      },
      "source": [
        "**3.1**\n",
        "\n",
        "Generate a TypeError below\n",
        "\n",
        "Hint: Review 4.1 from Week 1, Day 1A."
      ]
    },
    {
      "cell_type": "code",
      "execution_count": null,
      "metadata": {
        "id": "dHtfjJ0tJzxj",
        "colab": {
          "base_uri": "https://localhost:8080/",
          "height": 214
        },
        "outputId": "6c355bff-0033-4daa-86c0-50bcf8b5b23f"
      },
      "outputs": [
        {
          "output_type": "error",
          "ename": "TypeError",
          "evalue": "ignored",
          "traceback": [
            "\u001b[0;31m---------------------------------------------------------------------------\u001b[0m",
            "\u001b[0;31mTypeError\u001b[0m                                 Traceback (most recent call last)",
            "\u001b[0;32m<ipython-input-21-0a74d6fa0aa2>\u001b[0m in \u001b[0;36m<cell line: 3>\u001b[0;34m()\u001b[0m\n\u001b[1;32m      1\u001b[0m \u001b[0mx\u001b[0m \u001b[0;34m=\u001b[0m \u001b[0;36m1\u001b[0m\u001b[0;34m\u001b[0m\u001b[0;34m\u001b[0m\u001b[0m\n\u001b[1;32m      2\u001b[0m \u001b[0my\u001b[0m \u001b[0;34m=\u001b[0m \u001b[0;34m'hello'\u001b[0m\u001b[0;34m\u001b[0m\u001b[0;34m\u001b[0m\u001b[0m\n\u001b[0;32m----> 3\u001b[0;31m \u001b[0mprint\u001b[0m\u001b[0;34m(\u001b[0m\u001b[0mx\u001b[0m\u001b[0;34m+\u001b[0m\u001b[0my\u001b[0m\u001b[0;34m)\u001b[0m\u001b[0;34m\u001b[0m\u001b[0;34m\u001b[0m\u001b[0m\n\u001b[0m",
            "\u001b[0;31mTypeError\u001b[0m: unsupported operand type(s) for +: 'int' and 'str'"
          ]
        }
      ],
      "source": [
        "x = 1\n",
        "y = 'hello'\n",
        "print(x+y)"
      ]
    },
    {
      "cell_type": "markdown",
      "metadata": {
        "id": "h8SXhaDUS8gU"
      },
      "source": [
        "**3.2**\n",
        "\n",
        "Generate a NameError below\n",
        "\n",
        "(for example if you make a typo when writing your variable name)"
      ]
    },
    {
      "cell_type": "code",
      "execution_count": null,
      "metadata": {
        "id": "O5eki1DIS8uJ",
        "colab": {
          "base_uri": "https://localhost:8080/",
          "height": 179
        },
        "outputId": "ea17127a-165e-4f48-fa7a-572242c07a78"
      },
      "outputs": [
        {
          "output_type": "error",
          "ename": "NameError",
          "evalue": "ignored",
          "traceback": [
            "\u001b[0;31m---------------------------------------------------------------------------\u001b[0m",
            "\u001b[0;31mNameError\u001b[0m                                 Traceback (most recent call last)",
            "\u001b[0;32m<ipython-input-22-67e500defa1b>\u001b[0m in \u001b[0;36m<cell line: 1>\u001b[0;34m()\u001b[0m\n\u001b[0;32m----> 1\u001b[0;31m \u001b[0mprint\u001b[0m\u001b[0;34m(\u001b[0m\u001b[0mb\u001b[0m\u001b[0;34m)\u001b[0m\u001b[0;34m\u001b[0m\u001b[0;34m\u001b[0m\u001b[0m\n\u001b[0m",
            "\u001b[0;31mNameError\u001b[0m: name 'b' is not defined"
          ]
        }
      ],
      "source": [
        "print(b)"
      ]
    },
    {
      "cell_type": "markdown",
      "metadata": {
        "id": "AXsqdEYUZ1YR"
      },
      "source": [
        "**3.3**\n",
        "\n",
        "Generate a ZeroDivisionError below"
      ]
    },
    {
      "cell_type": "code",
      "execution_count": null,
      "metadata": {
        "id": "ARJNQACTZ1qE"
      },
      "outputs": [],
      "source": [
        "# x=11/0"
      ]
    },
    {
      "cell_type": "markdown",
      "metadata": {
        "id": "shGWdTWJJ2wq"
      },
      "source": [
        "<a name=\"4\"></a>\n",
        "## Question 4: Matching a Truth Table"
      ]
    },
    {
      "cell_type": "markdown",
      "metadata": {
        "id": "KNvDgw_vdgNK"
      },
      "source": [
        "For this question, generate the boolean expression of the letter variables `A`, `B` etc that produces the outputs specified in the given truth table.\n",
        "\n",
        "\n",
        "For example if you are given this table:\n",
        "\n",
        "A     |  Output\n",
        "------|---------\n",
        "True  | False\n",
        "False | True\n",
        "\n",
        "One solution could be `not A`. We can check this with the code below:"
      ]
    },
    {
      "cell_type": "code",
      "execution_count": null,
      "metadata": {
        "id": "CzIb4uk1fibl"
      },
      "outputs": [],
      "source": [
        "# Example:\n",
        "\n",
        "# If A is True then the Output of \"not A\" is False\n",
        "A = True\n",
        "print(not A)\n",
        "\n",
        "# If A is False, then the Output of \"not A\" is True\n",
        "A = False\n",
        "print(not A)\n",
        "\n",
        "# So, \"not A\" is a valid solution!"
      ]
    },
    {
      "cell_type": "markdown",
      "metadata": {
        "id": "yNh3qy2SeKrJ"
      },
      "source": [
        "**4.1**\n",
        "\n",
        "A     |  Output\n",
        "------|---------\n",
        "True  | True\n",
        "False | True\n",
        "\n",
        "Generate an expression for the table above.\n"
      ]
    },
    {
      "cell_type": "code",
      "execution_count": null,
      "metadata": {
        "id": "d1w0X2G_KjA0",
        "colab": {
          "base_uri": "https://localhost:8080/"
        },
        "outputId": "66c6c589-6806-4d73-b68d-780cff007916"
      },
      "outputs": [
        {
          "output_type": "stream",
          "name": "stdout",
          "text": [
            "False\n",
            "True\n"
          ]
        }
      ],
      "source": [
        "A = True\n",
        "print(not A)\n",
        "A = False\n",
        "print(not A)"
      ]
    },
    {
      "cell_type": "markdown",
      "metadata": {
        "id": "VgCECEy5hBq4"
      },
      "source": [
        "**4.2**\n",
        "\n",
        "A     | B       | Output\n",
        "------|---------|-------\n",
        "True  | True    | True\n",
        "True  | False   | False\n",
        "False | True    | False\n",
        "False | False   | False\n",
        "\n",
        "Using the `and` operator, write the code to generate the output for this table.\n"
      ]
    },
    {
      "cell_type": "code",
      "execution_count": null,
      "metadata": {
        "id": "461si_gLhBhQ",
        "colab": {
          "base_uri": "https://localhost:8080/"
        },
        "outputId": "9516e7c3-a3d5-47bc-a73d-52bc86725ba9"
      },
      "outputs": [
        {
          "output_type": "stream",
          "name": "stdout",
          "text": [
            "True\n",
            "False\n",
            "False\n",
            "False\n"
          ]
        }
      ],
      "source": [
        "A = True\n",
        "B = True\n",
        "print(A and B)\n",
        "\n",
        "A = True\n",
        "B = False\n",
        "print(A and B)\n",
        "\n",
        "\n",
        "A = False\n",
        "B = True\n",
        "print(A and B)\n",
        "\n",
        "A = False\n",
        "B = False\n",
        "print(A and B)"
      ]
    },
    {
      "cell_type": "markdown",
      "metadata": {
        "id": "mmUGHia3rG-E"
      },
      "source": [
        "**4.3**\n",
        "\n",
        "A     | B       | Output\n",
        "------|---------|-------\n",
        "True  | True    | True\n",
        "True  | False   | True\n",
        "False | True    | True\n",
        "False | False   | False\n",
        "\n",
        "Using the `or` operator, write the code to generate the output for this table."
      ]
    },
    {
      "cell_type": "code",
      "execution_count": null,
      "metadata": {
        "id": "Bw7HT0wSrG-E",
        "colab": {
          "base_uri": "https://localhost:8080/"
        },
        "outputId": "0714e118-ee07-4b65-ea7b-18764f254944"
      },
      "outputs": [
        {
          "output_type": "stream",
          "name": "stdout",
          "text": [
            "True\n",
            "True\n",
            "True\n",
            "False\n"
          ]
        }
      ],
      "source": [
        "A = True\n",
        "B = True\n",
        "print(A or B)\n",
        "\n",
        "A = True\n",
        "B = False\n",
        "print(A or B)\n",
        "\n",
        "\n",
        "A = False\n",
        "B = True\n",
        "print(A or B)\n",
        "\n",
        "A = False\n",
        "B = False\n",
        "print(A or B)"
      ]
    },
    {
      "cell_type": "markdown",
      "metadata": {
        "id": "yJA1_HXjrG-E"
      },
      "source": [
        "### Challenge Time!!"
      ]
    },
    {
      "cell_type": "markdown",
      "metadata": {
        "id": "Y9pGlYNWhhUI"
      },
      "source": [
        "**4.4**\n",
        "\n",
        "A     | B       | Output\n",
        "------|---------|-------\n",
        "True  | True    | False\n",
        "True  | False   | False\n",
        "False | True    | False\n",
        "False | False   | True\n",
        "\n",
        "For this table, write the code to generate the output. (Hint: It's a combination of two operations!)\n",
        "\n",
        "_(Extra Hint: Remember to be careful with your use of brackets `\"()\"`)_"
      ]
    },
    {
      "cell_type": "code",
      "execution_count": null,
      "metadata": {
        "id": "q-02WQhahhHE",
        "colab": {
          "base_uri": "https://localhost:8080/"
        },
        "outputId": "eadc9e1e-3863-40f2-ac79-8fd7bd1715dd"
      },
      "outputs": [
        {
          "output_type": "stream",
          "name": "stdout",
          "text": [
            "False\n",
            "False\n",
            "True\n",
            "False\n"
          ]
        }
      ],
      "source": [
        "A = True\n",
        "B = True\n",
        "print(not A and B)\n",
        "\n",
        "A = True\n",
        "B = False\n",
        "print(not A and B)\n",
        "\n",
        "\n",
        "A = False\n",
        "B = True\n",
        "print(not A and B)\n",
        "\n",
        "A = False\n",
        "B = False\n",
        "print(not A and B)"
      ]
    },
    {
      "cell_type": "markdown",
      "metadata": {
        "id": "T-3XC4VdhrG9"
      },
      "source": [
        "**4.5**\n",
        "\n",
        "A     | B       | Output\n",
        "------|---------|-------\n",
        "True  | True    | True\n",
        "True  | False   | False\n",
        "False | True    | True\n",
        "False | False   | True\n",
        "\n",
        "For this table, write the code to generate the output. (Hint: it's a combination of two operations again!)\n",
        "\n",
        "_(Extra Hint: Remember to be careful with your use of brackets `\"()\"`)_"
      ]
    },
    {
      "cell_type": "code",
      "execution_count": null,
      "metadata": {
        "id": "b3VGQYzDhqXn",
        "colab": {
          "base_uri": "https://localhost:8080/"
        },
        "outputId": "2123d45f-836a-47c8-f5d9-ac097647f9cb"
      },
      "outputs": [
        {
          "output_type": "stream",
          "name": "stdout",
          "text": [
            "True\n",
            "False\n",
            "True\n",
            "True\n"
          ]
        }
      ],
      "source": [
        "A = True\n",
        "B = True\n",
        "print(A or B)\n",
        "\n",
        "A = True\n",
        "B = False\n",
        "print(not A and B)\n",
        "\n",
        "\n",
        "A = False\n",
        "B = True\n",
        "print(not A and B)\n",
        "\n",
        "A = False\n",
        "B = False\n",
        "print(not A or B)"
      ]
    },
    {
      "cell_type": "markdown",
      "metadata": {
        "id": "kOwr4vUliYJi"
      },
      "source": [
        "**4.6**\n",
        "\n",
        "A     | B       | Output\n",
        "------|---------|-------\n",
        "True  | True    | False\n",
        "True  | False   | True\n",
        "False | True    | True\n",
        "False | False   | False\n",
        "\n",
        "For a challenge, try to make your expressions as short as possible for this `XOR` operator!\n",
        "\n",
        "**Note: `XOR` means _exclusive or_. So for the output to be true, one of the variables A,B must be true but not both of them!**"
      ]
    },
    {
      "cell_type": "code",
      "execution_count": null,
      "metadata": {
        "id": "SfLUysGAvx7x"
      },
      "outputs": [],
      "source": [
        "\n"
      ]
    },
    {
      "cell_type": "markdown",
      "metadata": {
        "id": "CoBBdF-pjaJW"
      },
      "source": [
        "**4.7 - optional**\n",
        "\n",
        "*This question is completely optional! Finish the other questions first, then come back to try it if you have extra time.*\n",
        "\n",
        "Can you make the truth table for `or` using only the `and` and `not` operators?\n",
        "\n",
        "This is the truth table for `or`:\n",
        "\n",
        "A     | B       | Output\n",
        "------|---------|-------\n",
        "True  | True    | True\n",
        "True  | False   | True\n",
        "False | True    | True\n",
        "False | False   | False\n",
        "\n"
      ]
    },
    {
      "cell_type": "code",
      "execution_count": null,
      "metadata": {
        "id": "U2LYTI9jjZ1x"
      },
      "outputs": [],
      "source": []
    },
    {
      "cell_type": "markdown",
      "metadata": {
        "id": "UZWN8bkxv0F0"
      },
      "source": [
        "**4.8 - optional**\n",
        "\n",
        "*This question is completely optional! Finish the other questions first, then come back to try it if you have extra time.*\n",
        "\n",
        "Based on **4.7**, suppose you have a truth table that you have represented using `and`/`or`/`not`. Can you also represent this truth table only using `and`/`not` without using `or`?\n",
        "\n",
        "Why or why not?"
      ]
    },
    {
      "cell_type": "code",
      "execution_count": null,
      "metadata": {
        "id": "24tEu8K6vzy9"
      },
      "outputs": [],
      "source": [
        "# write your answer as a comment here if you want to try this problem!\n"
      ]
    },
    {
      "cell_type": "markdown",
      "metadata": {
        "id": "kHIoWz8KrG-O"
      },
      "source": [
        "**4.9 - optional**\n",
        "\n",
        "*This question is completely optional! Finish the other questions first, then come back to try it if you have extra time.*\n",
        "\n",
        "Case study\n",
        "School children are rewarded for healthy eating in the school canteen. If they buy a combination of a healthy starter, main and dessert, they receive bonus points on their loyalty card.\n",
        "\n",
        "The school canteen will always offer one healthy starter, a choice of two healthy mains and one healthy dessert option.\n",
        "\n",
        "A sample menu is shown below:\n",
        "\n",
        "_**Starters**_\n",
        "\n",
        ">Vegetable soup (healthy option)\n",
        "\n",
        ">Chicken wings\n",
        "\n",
        ">Garlic mushrooms\n",
        "\n",
        "_**Mains**_\n",
        "\n",
        ">Vegetable lasagne (healthy option)\n",
        "\n",
        ">Fish cakes (healthy option)\n",
        "\n",
        ">Hamburger\n",
        "\n",
        ">Lasagne\n",
        "\n",
        "_**Dessert**_\n",
        "\n",
        ">Fruit salad (healthy option)\n",
        "\n",
        ">Ice cream\n",
        "\n",
        "From the case study, what is the Boolean expression that will generate the outputs that will qualify the student to receive bonus points on their loyalty card.\n",
        "\n",
        "_Try working this out on paper before you attempt to code it_\n"
      ]
    },
    {
      "cell_type": "code",
      "execution_count": null,
      "metadata": {
        "id": "nFN84yJirG-O"
      },
      "outputs": [],
      "source": [
        "# healthy choice:\n",
        "veg_soup = True\n",
        "chicken_wings = False\n",
        "garlic_mushrooms = False\n",
        "veg_lasagna = True\n",
        "fish_cakes = False\n",
        "hamburger = False\n",
        "fruit_salad = True\n",
        "ice_cream = False\n",
        "\n",
        "# YOUR CODE HERE- should print True\n",
        "\n",
        "# unhealthy choice:\n",
        "veg_soup = False\n",
        "chicken_wings = True\n",
        "garlic_mushrooms = False\n",
        "veg_lasagna = False\n",
        "fish_cakes = False\n",
        "hamburger = True\n",
        "fruit_salad = False\n",
        "ice_cream = True\n",
        "\n",
        "# the same code here- but this time it should print False\n"
      ]
    },
    {
      "cell_type": "markdown",
      "metadata": {
        "id": "82akokxa60KZ"
      },
      "source": [
        "<a name=\"5\"></a>\n",
        "## Question 5: What time is it?\n"
      ]
    },
    {
      "cell_type": "markdown",
      "metadata": {
        "id": "YKBoh81S7gld"
      },
      "source": [
        "**5.1**\n",
        "\n",
        "Suppose `time` is a variable that is given and stores some number of seconds. How many `days`, `hours`, `minutes`, and `seconds` is this? Create these four variables with the appropriate values.\n",
        "\n",
        "For example, `65` seconds should mean `days == 0`, `hours == 0`, `minutes == 1`, `seconds == 5`.\n",
        "\n",
        "```"
      ]
    },
    {
      "cell_type": "code",
      "execution_count": null,
      "metadata": {
        "id": "dH2L7MdJ7neK",
        "colab": {
          "base_uri": "https://localhost:8080/"
        },
        "outputId": "23358120-9177-48ec-896c-3e3635fa588a"
      },
      "outputs": [
        {
          "output_type": "stream",
          "name": "stdout",
          "text": [
            "11 days 13 hours 46 minutes 40 seconds\n"
          ]
        }
      ],
      "source": [
        "time = 1000000\n",
        "\n",
        "days = time // (24*60*60)\n",
        "time %= 24 * 3600\n",
        "\n",
        "hours = time // 3600\n",
        "time %= 3600\n",
        "\n",
        "minutes = time // 60\n",
        "seconds = time % 60\n",
        "\n",
        "print(days ,'days', hours, 'hours', minutes, 'minutes',seconds, 'seconds')\n",
        "\n"
      ]
    },
    {
      "cell_type": "markdown",
      "metadata": {
        "id": "5g7T8qoj6wO8"
      },
      "source": [
        "<a name=\"6\"></a>\n",
        "## Question 6: Obstacle Course"
      ]
    },
    {
      "cell_type": "markdown",
      "metadata": {
        "id": "7efz_gcM7tl8"
      },
      "source": [
        "In this question, you control a variable called `player`. **Your goal is to never print out `False`, and never run into an `Error`.** However, there are some lines that you are not allowed to edit.\n",
        "\n",
        "In other words, the rules to the game are:\n",
        "*   Do not alter any `print` statement\n",
        "*   Otherwise, add any code you want, anywhere\n",
        "*   Make the code Error free\n",
        "*   Pass all levels!\n"
      ]
    },
    {
      "cell_type": "code",
      "execution_count": 3,
      "metadata": {
        "id": "_79k4caF7vaD",
        "colab": {
          "base_uri": "https://localhost:8080/",
          "height": 339
        },
        "outputId": "8996186e-a804-402e-f05e-2a7cc6a285e1"
      },
      "outputs": [
        {
          "output_type": "stream",
          "name": "stdout",
          "text": [
            "Level 1 passed? True\n",
            "Level 2 passed? True\n",
            "Level 3 passed? True\n",
            "Level 4 passed? True\n",
            "Level 5 passed? True\n"
          ]
        },
        {
          "output_type": "error",
          "ename": "TypeError",
          "evalue": "ignored",
          "traceback": [
            "\u001b[0;31m---------------------------------------------------------------------------\u001b[0m",
            "\u001b[0;31mTypeError\u001b[0m                                 Traceback (most recent call last)",
            "\u001b[0;32m<ipython-input-3-ca9c9266e515>\u001b[0m in \u001b[0;36m<cell line: 34>\u001b[0;34m()\u001b[0m\n\u001b[1;32m     33\u001b[0m \u001b[0;34m\u001b[0m\u001b[0m\n\u001b[1;32m     34\u001b[0m print('Level 6 passed?',\n\u001b[0;32m---> 35\u001b[0;31m       player[3] == 'Boaz' and player[0] == player[1]) # Do not edit this print statement!\n\u001b[0m\u001b[1;32m     36\u001b[0m \u001b[0;34m\u001b[0m\u001b[0m\n\u001b[1;32m     37\u001b[0m \u001b[0;31m# Set player to any value you would like!\u001b[0m\u001b[0;34m\u001b[0m\u001b[0;34m\u001b[0m\u001b[0m\n",
            "\u001b[0;31mTypeError\u001b[0m: 'NoneType' object is not subscriptable"
          ]
        }
      ],
      "source": [
        "# Set player to any value you would like!\n",
        "player = 'hi'\n",
        "\n",
        "print('Level 1 passed?',\n",
        "      type(player) == str) # Do not edit this print statement!\n",
        "\n",
        "# Set player to any value you would like!\n",
        "player = 3\n",
        "\n",
        "print('Level 2 passed?',\n",
        "      type(player) == int and player % 2 == 1) # Do not edit this print statement!\n",
        "\n",
        "# Set player to any value you would like!\n",
        "player = '123'\n",
        "\n",
        "print('Level 3 passed?',\n",
        "      len(player) == 3) # Do not edit this print statement!\n",
        "\n",
        "# Set player to any value you would like!\n",
        "player = 'secret passcode'\n",
        "\n",
        "print('Level 4 passed?',\n",
        "      player == 'secret passcode') # Do not edit this print statement!\n",
        "\n",
        "# Set player to any value you would like!\n",
        "player = 105\n",
        "\n",
        "print('Level 5 passed?',\n",
        "      player % 3 == player % 5 == player % 7 and (player > 8)) # Do not edit this print statement!\n",
        "\n",
        "# Set player to any value you would like!\n",
        "player = None\n",
        "\n",
        "print('Level 6 passed?',\n",
        "      player[3] == 'Boaz' and player[0] == player[1]) # Do not edit this print statement!\n",
        "\n",
        "# Set player to any value you would like!\n",
        "player = 'hifef'\n",
        "\n",
        "print('Level 7 passed?',\n",
        "      type(player) == str and len(player) == 5) # Do not edit this print statement!\n",
        "\n",
        "# Set player to any value you would like!\n",
        "player = None\n",
        "\n",
        "print('Level 8 passed?',\n",
        "      type(player[0]) == list and player[0] + player[1] == player[2] and len(player[2]) > 0) # Do not edit this print statement!\n",
        "\n",
        "# Set player to any value you would like!\n",
        "player = '2022'\n",
        "\n",
        "print('Level 9 passed?', len(player) == 2022 and type(player) == str) # Do not edit this print statement!\n",
        "\n",
        "# Set player to any value you would like!\n",
        "player = 'jamcoders'\n",
        "\n",
        "print('Level 10 passed?', player[2021] == 'jamcoders') # Do not edit this print statement!\n",
        "\n",
        "# Set player to any value you would like!\n",
        "player = [2022]\n",
        "\n",
        "print('Bonus level passed?', type(player) == list and len(player) == 2022 and len(player[0]) == 2022) # Do not edit this print statement!\n"
      ]
    },
    {
      "cell_type": "markdown",
      "metadata": {
        "id": "Sc3zz0vJ7Dns"
      },
      "source": [
        "<a name=\"7\"></a>\n",
        "## Question 7: Create Your Own Obstacle Course **-optional**"
      ]
    },
    {
      "cell_type": "markdown",
      "metadata": {
        "id": "w8uRW1Ub77SX"
      },
      "source": [
        "*this question is completely optional! Finish the other questions first, then come back to try it if you have extra time*\n",
        "\n",
        "Write your own obstacle course, just like we did in question 7! Then, get a friend who has also finished the other exercises, or a TA, to play your obstacle course!\n",
        "\n",
        "**Please make sure the obstacle course is possible to complete :)**"
      ]
    },
    {
      "cell_type": "code",
      "execution_count": null,
      "metadata": {
        "id": "w2mdy2gC7_kE"
      },
      "outputs": [],
      "source": [
        "# Write your obstacle course here!\n",
        "\n",
        "# Let the player set the values of the player\n",
        "player = None\n",
        "\n",
        "print(True) # Write your obstacles here! The player cannot edit these lines!"
      ]
    },
    {
      "cell_type": "markdown",
      "metadata": {
        "id": "1vRWCHqouUsk"
      },
      "source": [
        "<a name=\"8\"></a>\n",
        "## Question 8: Open Ended **-optional**"
      ]
    },
    {
      "cell_type": "markdown",
      "metadata": {
        "id": "Go8LcgimuSCp"
      },
      "source": [
        "This is a **completely optional**, open ended question that you can fill out if you'd like to!\n",
        "\n",
        "Feel free to:\n",
        "\n",
        "*   comment about today's lecture\n",
        "*   ask any questions about what we've talked about\n",
        "*   ...or ask anything about computer science and algorithms in general\n",
        "*   ... write a reflection, or anything else!\n",
        "\n",
        "and/or you can explore more about Python:\n",
        "\n",
        "*   What if you try using different types in boolean operations. For example, is a number `True`? Is `0` `True`? Is a string `True`? How about a float? What happens when you try to use boolean operations like `and`/`or` on these types?\n",
        "*   How is the equal sign (`=`) in Python the same or different from the equal sign (`=`) you might see in a math class? Another thing you could explore is the similarities and differences between `is` and `==`?\n",
        "*   For many math operations, the order does not matter. (For example, `a + b` = `b + a`). What are some operations where order does matter? Does order matter in all cases?\n",
        "*   ...Or anything that you might be curious about! Have fun :)"
      ]
    },
    {
      "cell_type": "code",
      "execution_count": null,
      "metadata": {
        "id": "xbe9IvRCudWI"
      },
      "outputs": [],
      "source": [
        "# Optionally explore here!\n",
        "\n",
        "# What if you try using different types in boolean operations.\n",
        "# For example, is a number True?\n",
        "# Is 0 True?\n",
        "# Is a string True?\n",
        "# How about a float?\n",
        "# What happens when you try to use boolean operations like and/or on these types?"
      ]
    },
    {
      "cell_type": "code",
      "execution_count": null,
      "metadata": {
        "id": "PKjajp994gKv"
      },
      "outputs": [],
      "source": [
        "# Optionally explore here!\n",
        "\n",
        "# How is the equal sign (=) in Python the same or different from\n",
        "# the equal sign (=) you might see in a math class?\n",
        "# Another thing you could explore is the similarities and differences between is and ==?"
      ]
    },
    {
      "cell_type": "code",
      "execution_count": null,
      "metadata": {
        "id": "-NMN21D34ggz"
      },
      "outputs": [],
      "source": [
        "# Optionally explore here!\n",
        "\n",
        "# For many math operations, the order does not matter.\n",
        "# (For example, a + b = b + a).\n",
        "# What are some operations where order does matter?\n",
        "# Does order matter in all cases?"
      ]
    }
  ],
  "metadata": {
    "colab": {
      "collapsed_sections": [
        "e5EtF5qpEoWH",
        "QGqkjXtfJL-f",
        "iiN2sjdAJv_v",
        "Sc3zz0vJ7Dns",
        "1vRWCHqouUsk"
      ],
      "provenance": [],
      "include_colab_link": true
    },
    "kernelspec": {
      "display_name": "Python 3 (ipykernel)",
      "language": "python",
      "name": "python3"
    },
    "language_info": {
      "codemirror_mode": {
        "name": "ipython",
        "version": 3
      },
      "file_extension": ".py",
      "mimetype": "text/x-python",
      "name": "python",
      "nbconvert_exporter": "python",
      "pygments_lexer": "ipython3",
      "version": "3.10.11"
    }
  },
  "nbformat": 4,
  "nbformat_minor": 0
}