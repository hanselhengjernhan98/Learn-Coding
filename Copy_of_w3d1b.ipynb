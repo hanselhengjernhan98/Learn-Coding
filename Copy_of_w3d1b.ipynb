{
  "cells": [
    {
      "cell_type": "markdown",
      "metadata": {
        "id": "view-in-github",
        "colab_type": "text"
      },
      "source": [
        "<a href=\"https://colab.research.google.com/github/hanselhengjernhan98/Learn-Coding/blob/main/Copy_of_w3d1b.ipynb\" target=\"_parent\"><img src=\"https://colab.research.google.com/assets/colab-badge.svg\" alt=\"Open In Colab\"/></a>"
      ]
    },
    {
      "cell_type": "code",
      "execution_count": 3,
      "metadata": {
        "id": "KmzQquM-a3Y-",
        "vscode": {
          "languageId": "python"
        },
        "colab": {
          "base_uri": "https://localhost:8080/"
        },
        "outputId": "ec6458b3-73bb-4432-98b7-a214b3e5717a"
      },
      "outputs": [
        {
          "output_type": "stream",
          "name": "stdout",
          "text": [
            "  Preparing metadata (setup.py) ... \u001b[?25l\u001b[?25hdone\n",
            "  Building wheel for jamcoders (setup.py) ... \u001b[?25l\u001b[?25hdone\n"
          ]
        }
      ],
      "source": [
        "%config InteractiveShell.ast_node_interactivity=\"none\"\n",
        "import sys\n",
        "if 'google.colab' in sys.modules:\n",
        "    !pip install --force-reinstall git+https://github.com/jamcoders/jamcoders-public-2023.git --quiet\n",
        "from jamcoders.base_utils import *\n",
        "from jamcoders.week2.labw2d4b import *"
      ]
    },
    {
      "cell_type": "markdown",
      "metadata": {
        "id": "FV6sAgwDNO8m"
      },
      "source": [
        "# Week 2 Day 4, Lab B, More Recursion\n"
      ]
    },
    {
      "cell_type": "markdown",
      "metadata": {
        "id": "zhT7AUsVMFXP"
      },
      "source": [
        "\n",
        "#### A side note about recursion\n",
        "\n",
        "Recursion is tough. And you may think that most of the examples you have seen of recursion can be easily replaced with different code using `for` loops. However, it is a powerful tool that we can use to solve some complicated problems very cleanly. We will see some examples of these in the days to come, and you might be surprised how elegant a recursive solution can be!\n",
        "\n",
        "Another main takeaway from recursion, is the problem solving strategy of breaking a big problem into smaller repetitive problems, which is a fundamental concept of computer science\n",
        "\n",
        "It is hard, and you won’t get it right away, but all the TAs and lecturers are here to guide you through it! You can do it!! 🤜 🤛"
      ]
    },
    {
      "cell_type": "markdown",
      "metadata": {
        "id": "qZiXaLvxMFXQ"
      },
      "source": [
        "# Table of Contents  \n",
        "\n",
        "**[Question 1: List Slicing](#1)**\n",
        "\n",
        "**[Question 2: Boolean Recursion](#2)**\n",
        "\n",
        "**[Question 3: Counting Arrangements and Factorials](#3)**\n"
      ]
    },
    {
      "cell_type": "markdown",
      "metadata": {
        "id": "0UcL6tU6xocE"
      },
      "source": [
        "## Question 1: List Slicing Review"
      ]
    },
    {
      "cell_type": "markdown",
      "metadata": {
        "id": "9wPu5MaRxwTA"
      },
      "source": [
        "In recursion, we often have to split the inputs into different parts.\n",
        "\n",
        "For example, sometimes we might break the input in half and call the function on both halves. Sometimes we might break the input to handle the first thing, and then recursively call the function on the rest of the input.\n",
        "\n",
        "We can often break a list into multiple parts using **slicing**"
      ]
    },
    {
      "cell_type": "markdown",
      "metadata": {
        "id": "WcFnkBsFrdCy"
      },
      "source": [
        "#### **1.1** Write a function that takes in a list `lst`, and returns a list that only contains the first element of `lst`\n",
        "\n",
        "If the list is `[1,2,3]`, you should return `[1]`. If the list is empty `[]`, you should return an empty list as well `[]`\n",
        "\n",
        "*Note: Make sure you use list slicing (use a colon `':'`) in your answer*"
      ]
    },
    {
      "cell_type": "code",
      "execution_count": 12,
      "metadata": {
        "id": "wnDXwc7orLfz",
        "vscode": {
          "languageId": "python"
        },
        "colab": {
          "base_uri": "https://localhost:8080/"
        },
        "outputId": "7d4777e3-9a98-448c-933b-bacdaba79b71"
      },
      "outputs": [
        {
          "output_type": "stream",
          "name": "stdout",
          "text": [
            "Test case passed.\n",
            "Test case passed.\n",
            "Test case passed.\n",
            "Test case passed.\n"
          ]
        }
      ],
      "source": [
        "def first_element(lst):\n",
        "    return lst[:1]\n",
        "\n",
        "\n",
        "# Use your function here to test that it returns the first element of the list.\n",
        "assert_equal(got=first_element([2,5,7,9]), want=[2])\n",
        "assert_equal(got=first_element([2]), want=[2])\n",
        "assert_equal(got=first_element([]), want=[])\n",
        "assert_equal(got=first_element([7,2,3,4,5,6,7]), want=[7])"
      ]
    },
    {
      "cell_type": "markdown",
      "metadata": {
        "id": "3pKF5ZBRrs0H"
      },
      "source": [
        "#### **1.2** Write a function to return everything except the first element of a list"
      ]
    },
    {
      "cell_type": "code",
      "execution_count": 13,
      "metadata": {
        "id": "feOIdBpPrz9Z",
        "vscode": {
          "languageId": "python"
        },
        "colab": {
          "base_uri": "https://localhost:8080/"
        },
        "outputId": "df650169-b0c0-4753-d067-cb76d583015b"
      },
      "outputs": [
        {
          "output_type": "stream",
          "name": "stdout",
          "text": [
            "Test case passed.\n",
            "Test case passed.\n",
            "Test case passed.\n"
          ]
        }
      ],
      "source": [
        "def except_first(lst):\n",
        "    return lst[1:]\n",
        "\n",
        "\n",
        "# Use your function here to test that it returns everything except the first element of the list.\n",
        "assert_equal(got=except_first([2,5,7,9]), want=[5,7,9])\n",
        "assert_equal(got=except_first([2]), want=[])\n",
        "assert_equal(got=except_first([2,3,4,5,6,7]), want=[3,4,5,6,7])"
      ]
    },
    {
      "cell_type": "markdown",
      "metadata": {
        "id": "kLRHqMYVI_Ai"
      },
      "source": [
        "#### **1.3** Write a function to return everything in the first half of the list. If there is an odd number of items in the list, make the first half one less than the second half.\n",
        "\n",
        "**Example**: If the list has 7 items, return the first 3 items in the list. For example, for the list `[1, 2, 3, 4, 5, 6, 7]`, the first half should return `[1, 2, 3]`."
      ]
    },
    {
      "cell_type": "code",
      "execution_count": 14,
      "metadata": {
        "id": "_qLQsKNeJVKR",
        "vscode": {
          "languageId": "python"
        },
        "colab": {
          "base_uri": "https://localhost:8080/"
        },
        "outputId": "e9c1f676-703a-4900-dc7f-f31af4536b46"
      },
      "outputs": [
        {
          "output_type": "stream",
          "name": "stdout",
          "text": [
            "Test case passed.\n",
            "\n",
            "--------- Test case failed. ---------\n",
            "Want: [3] (type: list)\n",
            "Got:  [3, 5] (type: list)\n",
            "-------------------------------------\n",
            "\n",
            "\n",
            "--------- Test case failed. ---------\n",
            "Want: [] (type: list)\n",
            "Got:  [2] (type: list)\n",
            "-------------------------------------\n",
            "\n",
            "\n",
            "--------- Test case failed. ---------\n",
            "Want: [1, 2, 3] (type: list)\n",
            "Got:  [1, 2, 3, 4] (type: list)\n",
            "-------------------------------------\n",
            "\n"
          ]
        }
      ],
      "source": [
        "def second_half(lst):\n",
        "    length = len(lst)\n",
        "    half_length = length // 2\n",
        "    return lst[half_length:]\n",
        "\n",
        "\n",
        "\n",
        "# Test your code here\n",
        "assert_equal(got=first_half([2,5,7,9]), want=[2,5])\n",
        "assert_equal(got=first_half([3,5,7]), want=[3])\n",
        "assert_equal(got=first_half([2]), want=[])\n",
        "assert_equal(got=first_half([1,2,3,4,5,6,7]), want=[1,2,3])"
      ]
    },
    {
      "cell_type": "markdown",
      "metadata": {
        "id": "1Ka_0U3eJlpP"
      },
      "source": [
        "#### **1.3** Write a function to return everything in the second half of the list. If there is an odd number of items in the list, make the second half one more than the first half.\n",
        "\n",
        "**Example**: If the list has 7 items, return the last 4 items in the list. For example, for the list `[1, 2, 3, 4, 5, 6, 7]`, the first half should return `[4,5,6,7]`."
      ]
    },
    {
      "cell_type": "code",
      "execution_count": 15,
      "metadata": {
        "id": "AYj5FqmUJ945",
        "vscode": {
          "languageId": "python"
        },
        "colab": {
          "base_uri": "https://localhost:8080/"
        },
        "outputId": "de5911db-1a1c-47c4-8ef1-6f580f3c2b8d"
      },
      "outputs": [
        {
          "output_type": "stream",
          "name": "stdout",
          "text": [
            "[4, 5, 6, 7]\n",
            "[4, 5, 6]\n",
            "Test case passed.\n",
            "Test case passed.\n",
            "Test case passed.\n",
            "Test case passed.\n"
          ]
        }
      ],
      "source": [
        "original_list = [1, 2, 3, 4, 5, 6, 7]\n",
        "result = second_half(original_list)\n",
        "print(result)\n",
        "\n",
        "another_list = [1, 2, 3, 4, 5, 6]\n",
        "result_another = second_half(another_list)\n",
        "print(result_another)\n",
        "\n",
        "\n",
        "\n",
        "# Test your function here\n",
        "assert_equal(got=second_half([2,5,7,9]), want=[7,9])\n",
        "assert_equal(got=second_half([3,5,7]), want=[5,7])\n",
        "assert_equal(got=second_half([2]), want=[2])\n",
        "assert_equal(got=second_half([1,2,3,4,5,6,7]), want=[4,5,6,7])"
      ]
    },
    {
      "cell_type": "markdown",
      "metadata": {
        "id": "6KkDCgdbKF0i"
      },
      "source": [
        "#####  **1.4** Run this cell to confirm that your functions `first_element()`, `except_first()`, `first_half()`, `second_half()` also work for strings! If everything works, good job! Otherwise, take another look at your functions and make sure everything works"
      ]
    },
    {
      "cell_type": "code",
      "execution_count": 16,
      "metadata": {
        "id": "QV2uyCL0Kcyq",
        "vscode": {
          "languageId": "python"
        },
        "colab": {
          "base_uri": "https://localhost:8080/"
        },
        "outputId": "e2eca5ed-cd05-4e45-e8c4-af3f1845bdfb"
      },
      "outputs": [
        {
          "output_type": "stream",
          "name": "stdout",
          "text": [
            "Test case passed.\n",
            "Test case passed.\n",
            "\n",
            "--------- Test case failed. ---------\n",
            "Want: [1, 2] (type: list)\n",
            "Got:  [1, 2, 3] (type: list)\n",
            "-------------------------------------\n",
            "\n",
            "Test case passed.\n",
            "Test case passed.\n",
            "Test case passed.\n",
            "Test case passed.\n",
            "Test case passed.\n"
          ]
        }
      ],
      "source": [
        "test_list = [1,2,3,4,5]\n",
        "assert_equal([1], first_element(test_list))\n",
        "assert_equal([2,3,4,5], except_first(test_list))\n",
        "assert_equal([1,2], first_half(test_list))\n",
        "assert_equal([3,4,5], second_half(test_list))\n",
        "\n",
        "test_string = \"jam_coders\"\n",
        "assert_equal(\"j\", first_element(test_string))\n",
        "assert_equal(\"am_coders\", except_first(test_string))\n",
        "assert_equal(\"jam_c\", first_half(test_string))\n",
        "assert_equal(\"oders\", second_half(test_string))"
      ]
    },
    {
      "cell_type": "markdown",
      "metadata": {
        "id": "xQtkDtgJkdEw"
      },
      "source": [
        "## Question 2: Boolean Recursion\n",
        "\n",
        "Often, we see recursive functions that return `list`s or `int`s or `float`s or `string`s. However, sometimes we see recursions that return `boolean` values! In this question, we will **use recursion** to write a function called `is_in(lst, item)` that takes in a list called `lst` and returns `True` if the `item` is in the `lst`, and `False` otherwise\n",
        "\n",
        "Recursive solutions may not have just one base case, it can have multiple base cases. This question should be solved by checking for two base cases.\n",
        "\n",
        "1. When the list `lst` is empty\n",
        "2. When the first item of the list `lst` is equal to the `item`\n",
        "\n",
        "> Note: There may be other ways of solving it, feel free to experiment with different methods"
      ]
    },
    {
      "cell_type": "markdown",
      "metadata": {
        "id": "uWiiwVpskwFa"
      },
      "source": [
        "**2.1** There are many ways to write this function, but let's do it recursively. For the first base case, what should we return (`True` or `False`) if `lst` is empty?\n",
        "\n"
      ]
    },
    {
      "cell_type": "code",
      "execution_count": 9,
      "metadata": {
        "id": "HBaUdLjRoqd8",
        "vscode": {
          "languageId": "python"
        },
        "colab": {
          "base_uri": "https://localhost:8080/"
        },
        "outputId": "0ab223d9-8891-4f18-ffb2-d26ea3207b35"
      },
      "outputs": [
        {
          "output_type": "stream",
          "name": "stdout",
          "text": [
            "Your answer to Question 2.1 is correct!\n"
          ]
        }
      ],
      "source": [
        "# Answer by filling in the value of the variable\n",
        "first_base_case_return = False\n",
        "\n",
        "check_first_basecase(first_base_case_return)"
      ]
    },
    {
      "cell_type": "markdown",
      "metadata": {
        "id": "1Hf86kjJoq_f"
      },
      "source": [
        "**2.2** For the second base case, should we return `True` or `False` if the first element `lst[0] == item`?"
      ]
    },
    {
      "cell_type": "code",
      "execution_count": 10,
      "metadata": {
        "id": "y1huI3fxpCzN",
        "vscode": {
          "languageId": "python"
        },
        "colab": {
          "base_uri": "https://localhost:8080/"
        },
        "outputId": "9d1e6c4d-6c30-4071-97b4-5d94765b0bc7"
      },
      "outputs": [
        {
          "output_type": "stream",
          "name": "stdout",
          "text": [
            "Your answer to Question 2.2 is correct!\n"
          ]
        }
      ],
      "source": [
        "# Answer by filling in the value of the variable\n",
        "second_base_case_return = True\n",
        "\n",
        "check_second_basecase(second_base_case_return)"
      ]
    },
    {
      "cell_type": "markdown",
      "metadata": {
        "id": "u5w2ibPfo5lZ"
      },
      "source": [
        "**2.3** For the recursive case, suppose that we know that the first element is not the item. How can we call `is_in(lst, item)` to check the remainder of the list, excluding the first element that we already know is not the item?\n",
        "\n",
        "In other words, we already know the first element is not the item, or else we would have triggered the second base case. So, we can call `is_in()` using the `lst` without the first element, searching for the same item as before."
      ]
    },
    {
      "cell_type": "code",
      "execution_count": 18,
      "metadata": {
        "id": "DFeCbtcEpGNi",
        "vscode": {
          "languageId": "python"
        }
      },
      "outputs": [],
      "source": [
        "#is_in(lst[1:], item)\n"
      ]
    },
    {
      "cell_type": "markdown",
      "metadata": {
        "id": "uwLLQvy4qlSa"
      },
      "source": [
        "**2.4** Now we are ready to write the function! Complete the function `is_in`\n",
        "\n",
        "> Note: This question heavily relies on the list slicing from question 1, and you may use your previous functions if you'd like. These functions include: `first_element()`, `except_first()`, `first_half()`, `second_half()`."
      ]
    },
    {
      "cell_type": "code",
      "execution_count": 23,
      "metadata": {
        "id": "AErL_fMwmMUp",
        "vscode": {
          "languageId": "python"
        },
        "colab": {
          "base_uri": "https://localhost:8080/"
        },
        "outputId": "b6b899dd-3196-415a-f714-691513d6e198"
      },
      "outputs": [
        {
          "output_type": "stream",
          "name": "stdout",
          "text": [
            "Test case passed.\n",
            "Test case passed.\n",
            "Test case passed.\n",
            "Test case passed.\n"
          ]
        }
      ],
      "source": [
        "def is_in(lst, item):\n",
        "    \"\"\"\n",
        "    Args:\n",
        "        lst (list(object)): A list of objects to search in.\n",
        "        item (object): An item to search for.\n",
        "\n",
        "    Returns (bool):\n",
        "        Whether item is in lst.\n",
        "    \"\"\"\n",
        "    if not lst:\n",
        "        return False\n",
        "\n",
        "\n",
        "    if lst[0] == item:\n",
        "        return True\n",
        "\n",
        "\n",
        "    return is_in(lst[1:], item)\n",
        "\n",
        "\n",
        "\n",
        "\n",
        "assert_equal(got = is_in([1, 2, 3], 3), want = True)\n",
        "assert_equal(got = is_in(['j', 'c', 22], 'c'), want= True)\n",
        "assert_equal(got=is_in(['r', 2, 'hello'], 'bye'), want=False)\n",
        "assert_equal(got=is_in([], 'jon'), want=False)"
      ]
    },
    {
      "cell_type": "markdown",
      "metadata": {
        "id": "WjJ_qasOnrFy"
      },
      "source": [
        "**2.5 Challenge $-$ Optional**\n",
        "\n",
        "The rest of the question is a challenge problem. For the next part of the question, Elijah wants to write `is_in2(lst, item)` that does the same thing as `is_in(lst, item)`, except it follows a different logic:\n",
        "  * if the length of the `lst` is `0`, return `False` because `item` is not in an empty list.\n",
        "  * if the length of the `lst` is `1` and the element is `item` (In otherwords, `lst[0] == item`), then we have found the element and `return True`.\n",
        "  * call `is_in2()` on the first half of `lst`, keep track of the `return` boolean value.\n",
        "  * call `is_in2()` on the second half of `lst`, keep track of the `return` boolean value.\n",
        "  * return `True` if the value is either in the first half of `lst` or the second half of `lst`, and `False` otherwise."
      ]
    },
    {
      "cell_type": "markdown",
      "metadata": {
        "id": "BWX96fChr-Ub"
      },
      "source": [
        "Explain in words why the logic above makes sense. This is the most important part of the question, so please ask us to explain this recursion to you before you move on if you are not sure!"
      ]
    },
    {
      "cell_type": "code",
      "execution_count": null,
      "metadata": {
        "id": "_7Yg-CpSsJu6",
        "vscode": {
          "languageId": "python"
        }
      },
      "outputs": [],
      "source": [
        "# Write your answer in words here!"
      ]
    },
    {
      "cell_type": "markdown",
      "metadata": {
        "id": "AMZ9mcKKrKJ4"
      },
      "source": [
        "In words, what are the base cases and recursive case?"
      ]
    },
    {
      "cell_type": "code",
      "execution_count": null,
      "metadata": {
        "id": "VeyGiQg2rS78",
        "vscode": {
          "languageId": "python"
        }
      },
      "outputs": [],
      "source": [
        "# Write your answer in words here!"
      ]
    },
    {
      "cell_type": "markdown",
      "metadata": {
        "id": "cm17eW2JrXDy"
      },
      "source": [
        "Now code `is_in2(lst, item)`"
      ]
    },
    {
      "cell_type": "code",
      "execution_count": null,
      "metadata": {
        "id": "177CzFSvrVTI",
        "vscode": {
          "languageId": "python"
        }
      },
      "outputs": [],
      "source": [
        "def is_in2(lst, item):\n",
        "    \"\"\"\n",
        "    Args:\n",
        "        lst (list(object)): A list of objects to seach in.\n",
        "        item (object): An item to search for.\n",
        "\n",
        "    Returns (bool):\n",
        "        Whether item is in lst.\n",
        "    \"\"\"\n",
        "    # Your code here!\n",
        "\n",
        "    # A summary of the key steps:\n",
        "    # 1. handle the empty list\n",
        "    # 2. handle the list with a single element\n",
        "    # 3. split the list into two halves (we have already handled the case of an empty list)\n",
        "    # 4. return True if the item is either in the left, OR in the right!\n",
        "\n",
        "\n",
        "# Test your code here!\n",
        "assert_equal(got =is_in2([1, 2, 3], 3), want=True)\n",
        "assert_equal(got=is_in2(['j', 'c', 22], 'c'), want=True)\n",
        "assert_equal(got=is_in2(['r', 2, 'hello'], 'bye'), want=False)\n",
        "assert_equal(got=is_in2([], 'jon'), want=False)\n",
        "assert_equal(got=is_in2(['jon'], 'jon'), want=True)"
      ]
    },
    {
      "cell_type": "markdown",
      "metadata": {
        "id": "Zp0gKKL4MFXV"
      },
      "source": [
        "## 3. Counting Arrangements and Factorials\n",
        "\n",
        "**3.1** `count_arrangements`\n",
        "\n",
        "Suppose there are $N$ students in JamCoders. How many different ways can the students sit in the computer lab assuming there are only $N$ places to sit?\n",
        "\n",
        "*Hint:* Suppose there are $5$ students ($N = 5$). Then, in the first seat, there are $5$ students who can sit in that seat. In the second seat, there are $4$ remaining students who can sit in that seat. In the third, there are $3$ remaining possible students, and so on. So the total number of arrangements of students is $5 \\times 4 \\times 3 \\times 2 \\times 1 = 5! = 120$.\n",
        "\n",
        "*Hint:* If there are 0 students, there is only 1 way to seat 0 people....nobody sits anywhere\n",
        "\n",
        "**Example** There are $N = 5$ students, so we have $5 \\times 4 \\times 3 \\times 2 \\times 1 = 120$ arrangements\n",
        "\n",
        "Seems like there are countless options to rearrange your seats! :)"
      ]
    },
    {
      "cell_type": "code",
      "execution_count": 26,
      "metadata": {
        "vscode": {
          "languageId": "python"
        },
        "id": "g3lmLjvZMFXV"
      },
      "outputs": [],
      "source": [
        "def count_arrangements(N):\n",
        "    \"\"\"\n",
        "    Computes the number of arrangements of students, given N students and N seats.\n",
        "\n",
        "    Args:\n",
        "        N (int):\n",
        "            The number of students and seats.\n",
        "\n",
        "    Returns (int):\n",
        "        The number of arrangements of students.\n",
        "    \"\"\"\n",
        "\n",
        "    if N == 0:\n",
        "        return 1\n",
        "\n",
        "    return N * count_arrangements(N - 1)\n",
        "\n"
      ]
    },
    {
      "cell_type": "code",
      "execution_count": 25,
      "metadata": {
        "vscode": {
          "languageId": "python"
        },
        "id": "97wvTVdWMFXW",
        "colab": {
          "base_uri": "https://localhost:8080/"
        },
        "outputId": "e53e4e68-c9f2-4ef6-8f53-f77c80d85247"
      },
      "outputs": [
        {
          "output_type": "stream",
          "name": "stdout",
          "text": [
            "Test case passed.\n",
            "Test case passed.\n",
            "Test case passed.\n"
          ]
        }
      ],
      "source": [
        "assert_equal(got=count_arrangements(5), want=120)\n",
        "assert_equal(got=count_arrangements(20), want=2432902008176640000)\n",
        "assert_equal(got=count_arrangements(1), want=1)"
      ]
    },
    {
      "cell_type": "markdown",
      "metadata": {
        "id": "fqm3GPY7MFXW"
      },
      "source": [
        "**3.2 Modified Factorial**\n",
        "\n",
        "You may not know it, but if you finished **3.1**, you basically coded the math factorial function with ~3 lines of code!\n",
        "\n",
        "Now to make sure we really understand how recursive factorial works. You are to code a `modified_factorial` function, that takes in an input number `n` and an integer `k` and returns the factorial of `n` which stops at `k`. It is guaranteed that $k$ will always be less than $n$\n",
        "\n",
        "**Example** `modified_factorial(5,3)` will return $5 \\times 4 \\times 3 = 60$ because $k$ is $3$, the factorial multiplication will stop at $3$\n",
        "\n",
        "Think about how this affects the base case!"
      ]
    },
    {
      "cell_type": "code",
      "execution_count": 30,
      "metadata": {
        "vscode": {
          "languageId": "python"
        },
        "id": "MNc5SYZtMFXW"
      },
      "outputs": [],
      "source": [
        "def modified_factorial(n, k):\n",
        "\n",
        "    if n == k:\n",
        "        return k\n",
        "\n",
        "\n",
        "    return n * modified_factorial(n - 1, k)\n"
      ]
    },
    {
      "cell_type": "code",
      "execution_count": 28,
      "metadata": {
        "vscode": {
          "languageId": "python"
        },
        "id": "ic1C3u8eMFXW",
        "colab": {
          "base_uri": "https://localhost:8080/"
        },
        "outputId": "d816fff6-376f-48ce-c4e8-45787dfa4990"
      },
      "outputs": [
        {
          "output_type": "stream",
          "name": "stdout",
          "text": [
            "Test case passed.\n",
            "Test case passed.\n",
            "Test case passed.\n"
          ]
        }
      ],
      "source": [
        "assert_equal(got=modified_factorial(5,3), want=60)\n",
        "assert_equal(got=modified_factorial(20,18), want=6840)\n",
        "assert_equal(got=modified_factorial(2,1), want=2)"
      ]
    },
    {
      "cell_type": "markdown",
      "metadata": {
        "id": "cnDgEYlWMFXW"
      },
      "source": [
        "## Congratulations on completing today's notebook! You're great :)"
      ]
    },
    {
      "cell_type": "markdown",
      "metadata": {
        "id": "EoHBa9DpMFXa"
      },
      "source": []
    }
  ],
  "metadata": {
    "colab": {
      "provenance": [],
      "include_colab_link": true
    },
    "kernelspec": {
      "display_name": "SageMath 9.4",
      "language": "sage",
      "name": "sagemath"
    },
    "language_info": {
      "codemirror_mode": {
        "name": "ipython",
        "version": 3
      },
      "file_extension": ".py",
      "mimetype": "text/x-python",
      "name": "sage",
      "nbconvert_exporter": "python",
      "pygments_lexer": "ipython3",
      "version": "3.9.9"
    }
  },
  "nbformat": 4,
  "nbformat_minor": 0
}