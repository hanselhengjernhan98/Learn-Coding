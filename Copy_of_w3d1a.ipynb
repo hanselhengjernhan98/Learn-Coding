{
  "cells": [
    {
      "cell_type": "markdown",
      "metadata": {
        "id": "view-in-github",
        "colab_type": "text"
      },
      "source": [
        "<a href=\"https://colab.research.google.com/github/hanselhengjernhan98/Learn-Coding/blob/main/Copy_of_w3d1a.ipynb\" target=\"_parent\"><img src=\"https://colab.research.google.com/assets/colab-badge.svg\" alt=\"Open In Colab\"/></a>"
      ]
    },
    {
      "cell_type": "code",
      "execution_count": 5,
      "metadata": {
        "id": "3H1sPwWaMEob",
        "colab": {
          "base_uri": "https://localhost:8080/"
        },
        "outputId": "da3285d8-5f90-41b3-f792-5c8e0bb71829"
      },
      "outputs": [
        {
          "output_type": "stream",
          "name": "stdout",
          "text": [
            "  Preparing metadata (setup.py) ... \u001b[?25l\u001b[?25hdone\n",
            "  Building wheel for jamcoders (setup.py) ... \u001b[?25l\u001b[?25hdone\n"
          ]
        }
      ],
      "source": [
        "%config InteractiveShell.ast_node_interactivity=\"none\"\n",
        "import sys\n",
        "if 'google.colab' in sys.modules:\n",
        "  !pip install --force-reinstall git+https://github.com/jamcoders/jamcoders-public-2023.git --quiet\n",
        "from jamcoders.base_utils import *\n",
        "from jamcoders.week2.labw2d4a import *\n",
        "\n",
        "orr_counter = 0"
      ]
    },
    {
      "cell_type": "markdown",
      "metadata": {
        "id": "AmxaxO_oMEoe"
      },
      "source": [
        "# Week 3 Day 1, Lab A, More Recursion\n"
      ]
    },
    {
      "cell_type": "markdown",
      "metadata": {
        "id": "32PxdKWDMEof"
      },
      "source": [
        "# Table of Contents  \n",
        "\n",
        "**[Question 1: Skip Print](#1)**\n",
        "\n",
        "**[Question 2: What Would Python Do](#2)**\n",
        "\n",
        "**[Question 3: Now We're Even](#3)**"
      ]
    },
    {
      "cell_type": "markdown",
      "metadata": {
        "id": "Pao_-9urMEof"
      },
      "source": [
        "<a name=\"1\"></a>\n",
        "## Q1: Skip Print\n",
        "\n",
        "Write a function `skipping_print` which takes `n` as an argument and prints every other number from $n$ down to $0$ in decrements of 2.\n",
        "\n",
        "For example, `skipping_print(5)` should print `5, 3, 1` and `skipping_print(8)` should print `8, 6, 4, 2, 0`"
      ]
    },
    {
      "cell_type": "code",
      "execution_count": 1,
      "metadata": {
        "id": "E7bmMJ-rMEog"
      },
      "outputs": [],
      "source": [
        "def skipping_print(n):\n",
        "    while n >= 0:\n",
        "        print(n)\n",
        "        n -= 2\n",
        "\n",
        "\n",
        "\n",
        "\n"
      ]
    },
    {
      "cell_type": "code",
      "execution_count": 2,
      "metadata": {
        "id": "GIyJi9vWMEog",
        "outputId": "a443ca8c-ea46-480b-bd15-427c1e67f694",
        "colab": {
          "base_uri": "https://localhost:8080/"
        }
      },
      "outputs": [
        {
          "output_type": "stream",
          "name": "stdout",
          "text": [
            "5\n",
            "3\n",
            "1\n"
          ]
        }
      ],
      "source": [
        "# Run this code block. Make sure it prints\n",
        "# >>> 5\n",
        "# >>> 3\n",
        "# >>> 1\n",
        "skipping_print(5)"
      ]
    },
    {
      "cell_type": "code",
      "execution_count": 7,
      "metadata": {
        "id": "pFCvN_KEMEoh",
        "outputId": "e2f2f357-a1da-4af0-ce8e-026240115300",
        "colab": {
          "base_uri": "https://localhost:8080/"
        }
      },
      "outputs": [
        {
          "output_type": "stream",
          "name": "stdout",
          "text": [
            "8\n",
            "6\n",
            "4\n",
            "2\n",
            "0\n"
          ]
        }
      ],
      "source": [
        "# Run this code block. Make sure it prints\n",
        "# >>> 8\n",
        "# >>> 6\n",
        "# >>> 4\n",
        "# >>> 2\n",
        "# >>> 0\n",
        "skipping_print(8)"
      ]
    },
    {
      "cell_type": "markdown",
      "metadata": {
        "id": "Kz4_C7wbMEoh"
      },
      "source": [
        "<a name=\"2\"></a>\n",
        "## Q2: What Would Python Do? 🐍\n",
        "\n",
        "**WWPD #1**: After running the following lines of code, what would be printed?\n",
        "\n",
        "```python\n",
        "def jam(coders):\n",
        "    if coders <= 0:\n",
        "        return 0\n",
        "    return coders + jam(coders - 1) + jam(coders - 2)\n",
        "print(jam(4))\n",
        "\n",
        "```"
      ]
    },
    {
      "cell_type": "code",
      "execution_count": 6,
      "metadata": {
        "id": "zQgLMlavMEoi",
        "colab": {
          "base_uri": "https://localhost:8080/"
        },
        "outputId": "402ae977-6e72-4618-d6ba-5e966f80ca2b"
      },
      "outputs": [
        {
          "output_type": "stream",
          "name": "stdout",
          "text": [
            "Your answer to Question WWPD #1 is correct!\n",
            "Congrats! You got it on your first try. Call Orr over to congratulate you :)\n"
          ]
        }
      ],
      "source": [
        "# Enter your answer here\n",
        "# Provide your answer as an integer.\n",
        "answer = 14\n",
        "# This code checks for correctness. Do not modify it.\n",
        "warmup_check1(answer, orr_counter)\n",
        "orr_counter += 1"
      ]
    },
    {
      "cell_type": "markdown",
      "metadata": {
        "id": "Um3bm5sXMEoi"
      },
      "source": [
        "**WWPD #2**: After running the following lines of code, what would be printed?\n",
        "\n",
        "```python\n",
        "def baygon(roach):\n",
        "    if roach <= 0:\n",
        "        return 0\n",
        "    return baygon(roach - 1) + baygon(roach - 2)\n",
        "print(baygon(4))\n",
        "\n",
        "```"
      ]
    },
    {
      "cell_type": "code",
      "execution_count": 9,
      "metadata": {
        "id": "KvnaOkh_MEoj",
        "colab": {
          "base_uri": "https://localhost:8080/"
        },
        "outputId": "c4805ea1-9a37-4346-a827-3dc5eea5afee"
      },
      "outputs": [
        {
          "output_type": "stream",
          "name": "stdout",
          "text": [
            "Your answer to Question WWPD #2 is correct!\n"
          ]
        }
      ],
      "source": [
        "# Enter your answer here\n",
        "# Provide your answer as an integer.\n",
        "answer = 0\n",
        "# This code checks for correctness. Do not modify it.\n",
        "warmup_check2(answer)"
      ]
    },
    {
      "cell_type": "markdown",
      "metadata": {
        "id": "BIDmW_D0MEoj"
      },
      "source": [
        "**WWPD #3**: After running the following lines of code, what would be printed?\n",
        "\n",
        "*Hint: `L += [element]` adds `element` to the end of `L`---just like `L.append(element)`*.\n",
        "\n",
        "\n",
        "```python\n",
        "def mystery(num):\n",
        "    if num == 0:\n",
        "        return [0]\n",
        "    result = []\n",
        "    result += [num]\n",
        "    result += mystery(num - 1)\n",
        "    result += [num]\n",
        "    return result\n",
        "\n",
        "print(mystery(3))\n",
        "```"
      ]
    },
    {
      "cell_type": "code",
      "execution_count": 11,
      "metadata": {
        "id": "sRzOHNMjMEoj",
        "colab": {
          "base_uri": "https://localhost:8080/"
        },
        "outputId": "99903908-6364-418e-d1f9-8e2f089249d9"
      },
      "outputs": [
        {
          "output_type": "stream",
          "name": "stdout",
          "text": [
            "Your answer to Question WWPD #3 is correct!\n"
          ]
        }
      ],
      "source": [
        "# Enter your answer here\n",
        "# Provide your answer as a list.\n",
        "answer = [3, 2, 1, 0, 1, 2, 3]\n",
        "# This code checks for correctness. Do not modify it.\n",
        "warmup_check3(answer)"
      ]
    },
    {
      "cell_type": "markdown",
      "metadata": {
        "id": "S4XYfviRMEoj"
      },
      "source": [
        "<a name=\"3\"></a>\n",
        "## Question 3: Now We're Even\n",
        "\n",
        "**3.1** Write a recursive function `count_even` which returns the number of even numbers in a list of integers."
      ]
    },
    {
      "cell_type": "code",
      "execution_count": 15,
      "metadata": {
        "id": "1F4ciyxEMEoj",
        "colab": {
          "base_uri": "https://localhost:8080/"
        },
        "outputId": "8adfa8a3-3714-45e6-9871-3ee39df1c297"
      },
      "outputs": [
        {
          "output_type": "stream",
          "name": "stdout",
          "text": [
            "Test case passed.\n",
            "Test case passed.\n",
            "Test case passed.\n",
            "Test case passed.\n"
          ]
        }
      ],
      "source": [
        "def count_even(lst):\n",
        "    if not lst:\n",
        "        return 0  # Base case: empty list, no even numbers\n",
        "    else:\n",
        "        if lst[0] % 2 == 0:\n",
        "            return 1 + count_even(lst[1:])  # Current element is even\n",
        "        else:\n",
        "            return count_even(lst[1:])  # Current element is not even\n",
        "\n",
        "\n",
        "\n",
        "\n",
        "#Test cases\n",
        "\n",
        "assert_equal(got=count_even([0,4,6,8,1,4,5,5]), want=5)\n",
        "assert_equal(got=count_even([]), want=0)\n",
        "assert_equal(got=count_even([1,3,5,7,7,9,1515]), want=0)\n",
        "assert_equal(got=count_even([0,0,0,0,0,0,2]), want=7)\n"
      ]
    },
    {
      "cell_type": "markdown",
      "metadata": {
        "id": "0w_nUpQhMEok"
      },
      "source": [
        "**3.2** Write a recursive function `sum_even` which returns the sum of even numbers in a list of integers."
      ]
    },
    {
      "cell_type": "code",
      "execution_count": 17,
      "metadata": {
        "id": "VDELVzX_MEok",
        "colab": {
          "base_uri": "https://localhost:8080/"
        },
        "outputId": "9f5a9e30-651a-4ff3-807e-9efbeb438ee6"
      },
      "outputs": [
        {
          "output_type": "stream",
          "name": "stdout",
          "text": [
            "Test case passed.\n",
            "Test case passed.\n",
            "Test case passed.\n",
            "Test case passed.\n"
          ]
        }
      ],
      "source": [
        "def sum_even(lst):\n",
        "    if not lst:\n",
        "        return 0\n",
        "    else:\n",
        "        if lst[0] % 2 == 0:\n",
        "            return lst[0] + sum_even(lst[1:])\n",
        "        else:\n",
        "            return sum_even(lst[1:])\n",
        "\n",
        "\n",
        "\n",
        "\n",
        "\n",
        "\n",
        "#Test cases\n",
        "\n",
        "assert_equal(got=sum_even([0,4,6,8,1,4,5,5]), want=22)\n",
        "assert_equal(got=sum_even([]), want=0)\n",
        "assert_equal(got=sum_even([1,3,5,7,7,9,1515]), want=0)\n",
        "assert_equal(got=sum_even([0,0,0,0,0,0,2]), want=2)"
      ]
    },
    {
      "cell_type": "code",
      "execution_count": null,
      "metadata": {
        "id": "pQt43RTFMEok"
      },
      "outputs": [],
      "source": []
    }
  ],
  "metadata": {
    "language_info": {
      "name": "python"
    },
    "orig_nbformat": 4,
    "colab": {
      "provenance": [],
      "include_colab_link": true
    },
    "kernelspec": {
      "name": "python3",
      "display_name": "Python 3"
    }
  },
  "nbformat": 4,
  "nbformat_minor": 0
}