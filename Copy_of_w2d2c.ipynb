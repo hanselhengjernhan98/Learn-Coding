{
  "cells": [
    {
      "cell_type": "markdown",
      "metadata": {
        "id": "view-in-github",
        "colab_type": "text"
      },
      "source": [
        "<a href=\"https://colab.research.google.com/github/hanselhengjernhan98/Learn-Coding/blob/main/Copy_of_w2d2c.ipynb\" target=\"_parent\"><img src=\"https://colab.research.google.com/assets/colab-badge.svg\" alt=\"Open In Colab\"/></a>"
      ]
    },
    {
      "cell_type": "markdown",
      "metadata": {
        "id": "s5lrCWpLLHhu"
      },
      "source": [
        "# Week 2, Day 2, Part C\n",
        "## Functions, For Loops, Nested For Loops, While Loops, String Split() and Join()"
      ]
    },
    {
      "cell_type": "code",
      "execution_count": 2,
      "metadata": {
        "id": "CIW2LdFwLHhv",
        "colab": {
          "base_uri": "https://localhost:8080/"
        },
        "outputId": "5f8a4b3d-3b6e-4cf6-d3de-8c9550051500"
      },
      "outputs": [
        {
          "output_type": "stream",
          "name": "stdout",
          "text": [
            "  Preparing metadata (setup.py) ... \u001b[?25l\u001b[?25hdone\n",
            "  Building wheel for jamcoders (setup.py) ... \u001b[?25l\u001b[?25hdone\n"
          ]
        }
      ],
      "source": [
        "# Always run this code.\n",
        "%config InteractiveShell.ast_node_interactivity=\"none\"\n",
        "import sys\n",
        "if 'google.colab' in sys.modules:\n",
        "    !pip install --force-reinstall git+https://github.com/jamcoders/jamcoders-public-2023.git --quiet\n",
        "from jamcoders.base_utils import *"
      ]
    },
    {
      "cell_type": "markdown",
      "metadata": {
        "id": "OztVLcJsLHhw"
      },
      "source": [
        "<br>\n",
        "<br>\n",
        "\n",
        "## 7. Ready, *SET*, go!\n"
      ]
    },
    {
      "cell_type": "markdown",
      "metadata": {
        "id": "hj3Fi9EDLHhw"
      },
      "source": [
        "### 7.1\n",
        "Write a function `in_the_list` that takes in a list `lst` and a target element `target` that returns `True` if `target` is in `lst` and `False` otherwise. **Use a `for` loop.**"
      ]
    },
    {
      "cell_type": "code",
      "execution_count": 3,
      "metadata": {
        "id": "9DiFFJbvLHhw"
      },
      "outputs": [],
      "source": [
        "def in_the_list(lst, target):\n",
        "    for element in lst:\n",
        "        if element == target:\n",
        "            return True\n",
        "    return False\n",
        "\n"
      ]
    },
    {
      "cell_type": "markdown",
      "metadata": {
        "id": "TPpSmBZnLHhw"
      },
      "source": [
        "Now let's test your code. Run the below cell."
      ]
    },
    {
      "cell_type": "code",
      "execution_count": 4,
      "metadata": {
        "id": "wl0lYFtbLHhw",
        "colab": {
          "base_uri": "https://localhost:8080/"
        },
        "outputId": "c1f85557-4de3-48c7-f7b1-eb5a55383816"
      },
      "outputs": [
        {
          "output_type": "stream",
          "name": "stdout",
          "text": [
            "Test case passed.\n",
            "Test case passed.\n"
          ]
        }
      ],
      "source": [
        "my_playlist = [\"protoje\", \"chronixx\", \"koffee\", \"sevana\", \"bobmarley\"]\n",
        "\n",
        "# Do you listen to the artist who gave a founding donation for JamCoders?\n",
        "has_early_donor = in_the_list(my_playlist, \"chronixx\")\n",
        "\n",
        "# This tests your solution\n",
        "assert_equal(got=has_early_donor, want=True)\n",
        "assert_equal(got=in_the_list(my_playlist, \"gaga\"), want=False)"
      ]
    },
    {
      "cell_type": "markdown",
      "metadata": {
        "id": "eCkSCQQHLHhw"
      },
      "source": [
        "### 7.2\n",
        "Write a function `has_overlaps` which takes in two lists, `lst1` and `lst2`, and returns `True` if any element from `lst1` is also in `lst2` and `False` otherwise. **You can do this using `for` loops.**"
      ]
    },
    {
      "cell_type": "code",
      "execution_count": 5,
      "metadata": {
        "id": "X_e97TLXLHhx"
      },
      "outputs": [],
      "source": [
        "def has_overlaps(lst1, lst2):\n",
        "    for element1 in lst1:\n",
        "        for element2 in lst2:\n",
        "            if element1 == element2:\n",
        "                return True\n",
        "    return False\n"
      ]
    },
    {
      "cell_type": "markdown",
      "metadata": {
        "id": "vfcb3evTLHhx"
      },
      "source": [
        "Test your code's output by running the below code. You're at the plant store and want to know if they have fertilzer for any of the plants in your garden."
      ]
    },
    {
      "cell_type": "code",
      "execution_count": 6,
      "metadata": {
        "id": "ELQfhltlLHhx",
        "colab": {
          "base_uri": "https://localhost:8080/"
        },
        "outputId": "cff01bcd-1faa-48d2-b5c9-139cf9e23134"
      },
      "outputs": [
        {
          "output_type": "stream",
          "name": "stdout",
          "text": [
            "Test case passed.\n",
            "Test case passed.\n",
            "Test case passed.\n"
          ]
        }
      ],
      "source": [
        "plant_store = ['hibiscus', 'rose', 'orchid', 'bouganvillea']\n",
        "my_garden = ['hibiscus', 'bouganvillea', 'hydrangea']\n",
        "spice_garden = ['balck pepper', 'cinnamon', 'vanilla']\n",
        "\n",
        "assert_equal(got=has_overlaps(plant_store, my_garden), want=True)\n",
        "assert_equal(got=has_overlaps(spice_garden, my_garden), want=False)\n",
        "assert_equal(got=has_overlaps(spice_garden, []), want=False)\n",
        "\n"
      ]
    },
    {
      "cell_type": "markdown",
      "metadata": {
        "id": "kLxJEYI4LHhx"
      },
      "source": [
        "### 7.3\n",
        "Write a function called `intersection` which takes in two lists, `lst1` and `lst2`, and returns a list containing all the elements present in both lists. **Do this using any combination of `for` loops and/or conditional operators you prefer. Use a `for` loop at least once.**"
      ]
    },
    {
      "cell_type": "code",
      "execution_count": 7,
      "metadata": {
        "id": "Jfgx8HxhLHhx",
        "colab": {
          "base_uri": "https://localhost:8080/"
        },
        "outputId": "7ffec736-9093-43fb-8680-4667fdab0e6e"
      },
      "outputs": [
        {
          "output_type": "stream",
          "name": "stdout",
          "text": [
            "Test case passed.\n",
            "Test case passed.\n",
            "Test case passed.\n"
          ]
        }
      ],
      "source": [
        "def intersection(lst1, lst2):\n",
        "    common_elements = []\n",
        "    for element1 in lst1:\n",
        "        if element1 in lst2:\n",
        "            common_elements.append(element1)\n",
        "    return common_elements\n",
        "\n",
        "\n",
        "# This tests your solution\n",
        "assert_equal(got=intersection([1, 2, 3], [2, 3, 4]), want=[2, 3])\n",
        "assert_equal(got=intersection([1, 2, 3], []), want=[])\n",
        "assert_equal(got=intersection([1,2,3,4,5,6,7], [5,6,7,8,9,10]), want=[5,6,7])\n"
      ]
    },
    {
      "cell_type": "markdown",
      "metadata": {
        "id": "DCw-BUrHLHhy"
      },
      "source": [
        "<br>\n",
        "<br>\n",
        "\n",
        "## 8. Sum Fun!"
      ]
    },
    {
      "cell_type": "markdown",
      "metadata": {
        "id": "N5UCs4LtLHhy"
      },
      "source": [
        "### 8.1\n",
        "Write a function called `sum_list` that accepts a list as a parameter and returns the sum of all the elements in the list. Use a for loop."
      ]
    },
    {
      "cell_type": "code",
      "execution_count": 9,
      "metadata": {
        "id": "Dr3qfqI5LHhy",
        "colab": {
          "base_uri": "https://localhost:8080/"
        },
        "outputId": "21cd22da-9d78-4194-fbb5-21929d24b99b"
      },
      "outputs": [
        {
          "output_type": "stream",
          "name": "stdout",
          "text": [
            "Test case passed.\n",
            "Test case passed.\n",
            "Test case passed.\n"
          ]
        }
      ],
      "source": [
        "def sum_list(lst):\n",
        "\n",
        "    total_sum = 0\n",
        "    for element in lst:\n",
        "        total_sum += element\n",
        "    return total_sum\n",
        "\n",
        "\n",
        "# This tests your solution\n",
        "assert_equal(got=sum_list([50, 50, 3]), want=103)\n",
        "assert_equal(got=sum_list([50, 50, 3, -20, -20, -60]), want=3)\n",
        "assert_equal(got=sum_list([]), want=0)"
      ]
    },
    {
      "cell_type": "markdown",
      "metadata": {
        "id": "rYIhkTwqLHhy"
      },
      "source": [
        "### 8.2\n",
        "Write a function called `cumulative_sum` that takes in a list `lst` and returns a second list that represents the cumulative sum. In other words, the i-th element in the final list should be equal to the sum of the elements from index 0 to index i in the input list.\n",
        "\n",
        "**For example:**\n",
        "\n",
        "*   `cumulative_sum([1, 2, 3])` will output: `[1, 3, 6]`\n",
        "*   `cumulative_sum([5, 10, 15])` will output: `[5, 15, 30]`\n",
        "*   `cumulative_sum([1,-1,1,-1])` will output: `[1,0,1,0]`\n",
        "*   `cumulative_sum([])` will output: `[]`\n",
        "\n",
        "\n",
        "\n",
        "\n",
        "\n",
        "\n",
        "\n"
      ]
    },
    {
      "cell_type": "code",
      "execution_count": 10,
      "metadata": {
        "id": "AIw0gh93LHhy",
        "colab": {
          "base_uri": "https://localhost:8080/"
        },
        "outputId": "f981ce3f-407c-4e3f-88f2-93f8ac768a69"
      },
      "outputs": [
        {
          "output_type": "stream",
          "name": "stdout",
          "text": [
            "Test case passed.\n",
            "Test case passed.\n",
            "Test case passed.\n",
            "Test case passed.\n"
          ]
        }
      ],
      "source": [
        "def cumulative_sum(lst):\n",
        "    \"\"\"\n",
        "    Returns a list representing the cumulative sum of elements.\n",
        "\n",
        "    Input: lst (list)\n",
        "    Output: list\n",
        "    \"\"\"\n",
        "    cumulative_sums = []\n",
        "    total_sum = 0\n",
        "    for element in lst:\n",
        "        total_sum += element\n",
        "        cumulative_sums.append(total_sum)\n",
        "    return cumulative_sums\n",
        "\n",
        "\n",
        "\n",
        "\n",
        "\n",
        "# This tests your solution\n",
        "assert_equal(got=cumulative_sum([1, 2, 3]), want=[1, 3, 6])\n",
        "assert_equal(got=cumulative_sum([5, 10, 15]), want=[5, 15, 30])\n",
        "assert_equal(got=cumulative_sum([1,-1,1,-1]), want=[1,0,1,0])\n",
        "assert_equal(got=cumulative_sum([]), want=[])"
      ]
    },
    {
      "cell_type": "markdown",
      "metadata": {
        "id": "aaS57JQFLHhy"
      },
      "source": [
        "### 8.3\n",
        "Write a function `largest_cumulative_sum` that takes in a list `lst`, and **returns a single integer `i`** representing the index of the element where the cumulative sum of the elements from $0$ to $i$ is the largest. You are trying to return the index of the element in the list that gives the highest cumulative sum.\n",
        "\n",
        "Try to do this using only one loop.\n",
        "\n",
        "**For exmaple:**\n",
        "\n",
        "*   `largest_cumulative_sum([1, 1, 1])` will output: `2`\n",
        "*   `largest_cumulative_sum([10, -6, 4, 8, -5])` will output: `3`\n",
        "*   `largest_cumulative_sum([20, -15, 3, 1, 1, 1, 5, 2])` will output: `0`\n"
      ]
    },
    {
      "cell_type": "code",
      "execution_count": 13,
      "metadata": {
        "id": "X283tmGJLHhy",
        "colab": {
          "base_uri": "https://localhost:8080/"
        },
        "outputId": "893e279e-bf68-43b0-a814-04a34e92cd2a"
      },
      "outputs": [
        {
          "output_type": "stream",
          "name": "stdout",
          "text": [
            "2\n",
            "3\n",
            "0\n",
            "Test case passed.\n",
            "Test case passed.\n",
            "Test case passed.\n"
          ]
        }
      ],
      "source": [
        "def largest_cumulative_sum(lst):\n",
        "    \"\"\"\n",
        "    Returns the index of the element with the largest cumulative sum.\n",
        "\n",
        "    Input: lst (list)\n",
        "    Output: int\n",
        "    \"\"\"\n",
        "    largest_sum = float('-inf')\n",
        "    largest_index = -1\n",
        "    current_sum = 0\n",
        "\n",
        "    for i, element in enumerate(lst):\n",
        "        current_sum += element\n",
        "        if current_sum > largest_sum:\n",
        "            largest_sum = current_sum\n",
        "            largest_index = i\n",
        "\n",
        "    return largest_index\n",
        "\n",
        "# Test cases\n",
        "print(largest_cumulative_sum([1, 1, 1]))  # Output: 2\n",
        "print(largest_cumulative_sum([10, -6, 4, 8, -5]))  # Output: 3\n",
        "print(largest_cumulative_sum([20, -15, 3, 1, 1, 1, 5, 2]))  # Output: 0\n",
        "\n",
        "# This tests your solution\n",
        "assert_equal(got=largest_cumulative_sum([1,1,1]), want=2)\n",
        "assert_equal(got=largest_cumulative_sum([10, -6, 4, 8, -5]), want=3)\n",
        "assert_equal(got=largest_cumulative_sum([20, -15, 3, 1, 1, 1, 5, 2]), want=0)"
      ]
    },
    {
      "cell_type": "markdown",
      "metadata": {
        "id": "KB2RhUurLHhz"
      },
      "source": [
        "<br>\n",
        "<br>\n",
        "\n",
        "## 9. Prime Time"
      ]
    },
    {
      "cell_type": "markdown",
      "metadata": {
        "id": "3bFeh6W9LHhz"
      },
      "source": [
        "### 9.1\n",
        "A **prime number** is a positive integer that is not divisible by any positive integer other than 1 and itself. For example, 5 is a prime number (it can only be evenly divided by 1 and 5), but 6 is not a prime number (as it can be divided by 1, 2, 3, and 6). For this exercise, 1 is also a prime number.\n",
        "\n",
        "Using a `for` loop, write a function called `is_prime` that accepts an integer `x` and **checks if `x` is divisible by any number from `2` to `x - 1` inclusive**. If a number in this range is found that divides `x`, this means `x` is not prime and the function will return `False`. If no such number is found, this means the number is only divisble by 1 and itself, and the function will return `True`.\n",
        "\n",
        "**Note**:\n",
        "\n",
        "The modulo operator can be used to check the remainder when a number is divided by another number. For example, `10 % 5 = 0` and `12 % 5 = 2`. Use the modulo operator when writing `is_prime` to check if `x` is divisble by a number.\n",
        "\n",
        "<!-- Write a function `isPrime` that takes in an integer `x`, and returns the boolean `True` if the number is prime, and false otherwise. As a reminder, a prime number is a number that is only divisible by itself and 1.\n",
        "\n",
        "_Hint: Use the modulo operator to check if x is divisible by a number._ -->"
      ]
    },
    {
      "cell_type": "code",
      "execution_count": 14,
      "metadata": {
        "id": "kD8ExLzDLHhz",
        "colab": {
          "base_uri": "https://localhost:8080/"
        },
        "outputId": "d6045e6f-4eee-4dfa-b829-bc1cf4a6524c"
      },
      "outputs": [
        {
          "output_type": "stream",
          "name": "stdout",
          "text": [
            "Test case passed.\n",
            "Test case passed.\n",
            "Test case passed.\n",
            "Test case passed.\n",
            "Test case passed.\n",
            "\n",
            "--------- Test case failed. ---------\n",
            "Want: True (type: bool)\n",
            "Got:  False (type: bool)\n",
            "-------------------------------------\n",
            "\n"
          ]
        }
      ],
      "source": [
        "def is_prime(x):\n",
        "    \"\"\"\n",
        "    Returns True if x is a prime number, otherwise False.\n",
        "\n",
        "    Input: x (int)\n",
        "    Output: bool\n",
        "    \"\"\"\n",
        "    if x <= 1:\n",
        "        return False\n",
        "\n",
        "    for i in range(2, x):\n",
        "        if x % i == 0:\n",
        "            return False\n",
        "\n",
        "    return True\n",
        "\n",
        "\n",
        "# This tests your solution\n",
        "assert_equal(got=is_prime(2), want=True)\n",
        "assert_equal(got=is_prime(5), want=True)\n",
        "assert_equal(got=is_prime(8), want=False)\n",
        "assert_equal(got=is_prime(97), want=True)\n",
        "assert_equal(got=is_prime(100), want=False)\n",
        "assert_equal(got=is_prime(1), want=True)"
      ]
    },
    {
      "cell_type": "markdown",
      "metadata": {
        "id": "JC-0zwzXLHhz"
      },
      "source": [
        "### 9.2\n",
        "Write a function `primes_to_x` that takes in an integer `x`, and returns a list of all the prime numbers larger than `0` and smaller than or equal to `x`. **Use a while loop at least once.** Note that `1` is considered a prime number."
      ]
    },
    {
      "cell_type": "code",
      "execution_count": 17,
      "metadata": {
        "id": "5SuKqqTmLHhz",
        "colab": {
          "base_uri": "https://localhost:8080/"
        },
        "outputId": "748f987f-e585-46c7-d68e-f1c3b706d1c0"
      },
      "outputs": [
        {
          "output_type": "stream",
          "name": "stdout",
          "text": [
            "[2, 3, 5, 7]\n",
            "[2, 3, 5, 7, 11, 13, 17, 19]\n",
            "[2, 3, 5]\n",
            "\n",
            "--------- Test case failed. ---------\n",
            "Want: [1, 2, 3, 5, 7, 11, 13, 17, 19, 23, 29] (type: list)\n",
            "Got:  [2, 3, 5, 7, 11, 13, 17, 19, 23, 29] (type: list)\n",
            "-------------------------------------\n",
            "\n",
            "Test case passed.\n",
            "\n",
            "--------- Test case failed. ---------\n",
            "Want: [1] (type: list)\n",
            "Got:  [] (type: list)\n",
            "-------------------------------------\n",
            "\n"
          ]
        }
      ],
      "source": [
        "def is_prime(n):\n",
        "    if n <= 1:\n",
        "        return False\n",
        "\n",
        "    for i in range(2, n):\n",
        "        if n % i == 0:\n",
        "            return False\n",
        "\n",
        "    return True\n",
        "\n",
        "def primes_to_x(x):\n",
        "    \"\"\"\n",
        "    Returns a list of prime numbers smaller than or equal to x.\n",
        "\n",
        "    Input: x (int)\n",
        "    Output: list of ints\n",
        "    \"\"\"\n",
        "    primes = []\n",
        "    number = 1\n",
        "\n",
        "    while number <= x:\n",
        "        if is_prime(number):\n",
        "            primes.append(number)\n",
        "        number += 1\n",
        "\n",
        "    return primes\n",
        "\n",
        "# Test cases\n",
        "print(primes_to_x(10))  # Output: [2, 3, 5, 7]\n",
        "print(primes_to_x(20))  # Output: [2, 3, 5, 7, 11, 13, 17, 19]\n",
        "print(primes_to_x(5))  # Output: [2, 3, 5]\n",
        "\n",
        "\n",
        "# This tests your solution\n",
        "assert_equal(got=primes_to_x(30), want=[1, 2, 3, 5, 7, 11, 13, 17, 19, 23, 29])\n",
        "assert_equal(got=primes_to_x(0), want=[])\n",
        "assert_equal(got=primes_to_x(1), want=[1])"
      ]
    },
    {
      "cell_type": "markdown",
      "metadata": {
        "id": "14x68i-nLHhz"
      },
      "source": [
        "### 9.3\n",
        "Write a function called `next_prime` that takes in an integer `x`, and returns the first prime number strictly greater than `x`."
      ]
    },
    {
      "cell_type": "code",
      "execution_count": 18,
      "metadata": {
        "id": "1yXSG1I4LHhz",
        "colab": {
          "base_uri": "https://localhost:8080/"
        },
        "outputId": "0998dd6d-4cd1-4658-967d-34f217c42bda"
      },
      "outputs": [
        {
          "output_type": "stream",
          "name": "stdout",
          "text": [
            "7\n",
            "11\n",
            "23\n",
            "Test case passed.\n",
            "Test case passed.\n",
            "Test case passed.\n",
            "Test case passed.\n",
            "Test case passed.\n",
            "Test case passed.\n",
            "Test case passed.\n",
            "Test case passed.\n",
            "Test case passed.\n",
            "Test case passed.\n",
            "Test case passed.\n"
          ]
        }
      ],
      "source": [
        "def is_prime(n):\n",
        "    if n <= 1:\n",
        "        return False\n",
        "\n",
        "    for i in range(2, n):\n",
        "        if n % i == 0:\n",
        "            return False\n",
        "\n",
        "    return True\n",
        "\n",
        "def next_prime(x):\n",
        "    \"\"\"\n",
        "    Returns the first prime number strictly greater than x.\n",
        "\n",
        "    Input: x (int)\n",
        "    Output: int\n",
        "    \"\"\"\n",
        "    prime = x + 1\n",
        "\n",
        "    while True:\n",
        "        if is_prime(prime):\n",
        "            return prime\n",
        "        prime += 1\n",
        "\n",
        "# Test cases\n",
        "print(next_prime(5))  # Output: 7\n",
        "print(next_prime(10))  # Output: 11\n",
        "print(next_prime(20))  # Output: 23\n",
        "\n",
        "\n",
        "# This tests your solution\n",
        "assert_equal(got=next_prime(47), want=53)\n",
        "assert_equal(got=next_prime(1), want=2)\n",
        "\n",
        "primes_to_thirty = primes_to_x(30)\n",
        "for i in range(len(primes_to_thirty)-1):\n",
        "    assert_equal(got=next_prime(primes_to_thirty[i]), want=primes_to_thirty[i+1])"
      ]
    },
    {
      "cell_type": "markdown",
      "metadata": {
        "id": "GsX0usdYLHh0"
      },
      "source": [
        "<br>\n",
        "<br>\n",
        "\n",
        "## 10. String Split() and Join()"
      ]
    },
    {
      "cell_type": "markdown",
      "metadata": {
        "id": "ZjAGjId1LHh0"
      },
      "source": [
        "**THIS QUESTION IS OPTIONAL BUT MIGHT USEFUL IF YOU'RE TRYING TO IMPLEMENT THE CALCULATOR FUNCTION IN THE CHALLENGE NOTEBOOK**\n",
        "### 10.1\n",
        "\n",
        "A string of a sentence can be split into a list where each word of the sentence is an element of the list. In Python, this can be done using the `split()` method.\n",
        "\n",
        "For example, if we have a variable called `full_name` with a value of `\"Usain Bolt\"`, we can split this name into a list containing two elements, with the first element being `\"Usain\"` and the second element being `\"Bolt\"` by calling ```full_name.split()``` and printing the results.\n",
        "\n",
        "Create a variable called `full_name` with the value of `\"Shelly-Ann Fraser-Pryce\"`."
      ]
    },
    {
      "cell_type": "code",
      "execution_count": null,
      "metadata": {
        "id": "HobM2XnbLHh0"
      },
      "outputs": [],
      "source": [
        "\n"
      ]
    },
    {
      "cell_type": "markdown",
      "metadata": {
        "id": "1zsW2-X2LHh0"
      },
      "source": [
        "### 10.2\n",
        "Create another variable called name_list and use the String `split()` method to make the value of `name_list` be a list containing the first name and then the last name from the name in `full_name`."
      ]
    },
    {
      "cell_type": "code",
      "execution_count": 19,
      "metadata": {
        "id": "hZhJVKeWLHh0",
        "colab": {
          "base_uri": "https://localhost:8080/"
        },
        "outputId": "4dc4a6a8-cff8-4c4b-9bf2-b9495ed5d354"
      },
      "outputs": [
        {
          "output_type": "stream",
          "name": "stdout",
          "text": [
            "['Shelly-Ann', 'Fraser-Pryce']\n"
          ]
        }
      ],
      "source": [
        "full_name = \"Shelly-Ann Fraser-Pryce\"\n",
        "print(full_name.split())  # Output: ['Shelly-Ann', 'Fraser-Pryce']\n",
        "\n"
      ]
    },
    {
      "cell_type": "markdown",
      "metadata": {
        "id": "-EI3uKjhLHh0"
      },
      "source": [
        "### 10.3\n",
        "Use the `print()` function to print the value of `name_list`."
      ]
    },
    {
      "cell_type": "code",
      "execution_count": 22,
      "metadata": {
        "id": "5EmmgZSdLHh0",
        "colab": {
          "base_uri": "https://localhost:8080/"
        },
        "outputId": "b89c664d-fd34-420b-fd27-5db9f86ead89"
      },
      "outputs": [
        {
          "output_type": "stream",
          "name": "stdout",
          "text": [
            "['Shelly-Ann', 'Fraser-Pryce']\n"
          ]
        }
      ],
      "source": [
        "full_name = \"Shelly-Ann Fraser-Pryce\"\n",
        "name_list = full_name.split()\n",
        "print(name_list)  # Output: ['Shelly-Ann', 'Fraser-Pryce']\n"
      ]
    },
    {
      "cell_type": "markdown",
      "metadata": {
        "id": "iMqi88WzLHh0"
      },
      "source": [
        "### 10.4\n",
        "Remembering that you can access each character of a string just like you can access each element of a list (i.e. by using indexes), write a function called `hash_extract` that takes in a string `s`, and returns a list of all the words that start with a hashtag (`#`).\n",
        "\n",
        "Example: Running\n",
        "```python3\n",
        "hash_extract(\"I'm so excited to code for #JamCoders! Looking to learn lots of #Python and #ComputerScience.\")\n",
        "```\n",
        "will output `['#JamCoders!', '#Python', '#ComputerScience.']`"
      ]
    },
    {
      "cell_type": "code",
      "execution_count": null,
      "metadata": {
        "id": "UX0Dc4-cLHh0"
      },
      "outputs": [],
      "source": [
        "def hash_extract(s):\n",
        "    # Write your code here.\n",
        "\n",
        "\n",
        "\n",
        "# This tests your solution\n",
        "tweet = \"I'm so excited to code for #JamCoders! Looking to learn lots of #Python and #ComputerScience.\"\n",
        "assert_equal(got=hash_extract(tweet), want=['#JamCoders!', '#Python', '#ComputerScience.'])"
      ]
    },
    {
      "cell_type": "markdown",
      "metadata": {
        "id": "WXPMlATcLHh0"
      },
      "source": [
        "### 10.5\n",
        "Now that you have a list of the hashtags contained in the tweet, this list can be joined into a single string using the `.join()` method.\n",
        "\n",
        "**For example, the below cells demonstrate the relationship between the `split()` method and the `join()` method.**\n",
        "\n",
        "First, we split the full name into a list containing the first and last names as separate elements. Run the below code to see the result."
      ]
    },
    {
      "cell_type": "code",
      "execution_count": 25,
      "metadata": {
        "id": "125FOlkbLHh1",
        "colab": {
          "base_uri": "https://localhost:8080/"
        },
        "outputId": "35caadef-6490-4ee3-f5cc-39b422336d2a"
      },
      "outputs": [
        {
          "output_type": "stream",
          "name": "stdout",
          "text": [
            "['Usain', 'Bolt']\n"
          ]
        }
      ],
      "source": [
        "full_name = \"Usain Bolt\"\n",
        "name_list = full_name.split()\n",
        "print(name_list)"
      ]
    },
    {
      "cell_type": "markdown",
      "metadata": {
        "id": "eS-EMGuELHh1"
      },
      "source": [
        "Then, we can rejoin this list into a single string using `join`.\n",
        "\n",
        "Here are some examples:\n",
        "\n",
        "$~$\n",
        "\n",
        "```python3\n",
        "print(\"X\".join(['Usain', 'Bolt']))\n",
        "```\n",
        "will print:\n",
        "`UsainXBolt`\n",
        "\n",
        "$~$\n",
        "```python3\n",
        "print(\"YY\".join(['Usain', 'Bolt']))\n",
        "```\n",
        "will print:\n",
        "`UsainYYBolt`\n",
        "\n",
        "$~$\n",
        "```python3\n",
        "print(\"=========\".join(['Usain', 'Bolt']))\n",
        "```\n",
        "will print:\n",
        "`Usain=========Bolt`\n",
        "\n",
        "$~$\n",
        "```python3\n",
        "print(\" \".join(['Usain', 'Bolt']))\n",
        "```\n",
        "will print:\n",
        "`Usain Bolt`\n",
        "\n",
        "$~$\n",
        "\n",
        "\n",
        "Run the below code to see what happens."
      ]
    },
    {
      "cell_type": "code",
      "execution_count": 26,
      "metadata": {
        "id": "y-L0ktrKLHh1",
        "colab": {
          "base_uri": "https://localhost:8080/"
        },
        "outputId": "8f936cde-37e5-426f-e94d-b41751708ba1"
      },
      "outputs": [
        {
          "output_type": "stream",
          "name": "stdout",
          "text": [
            "Usain🏃Bolt\n"
          ]
        }
      ],
      "source": [
        "combined_name_list = \"🏃\".join(name_list)\n",
        "print(combined_name_list)"
      ]
    },
    {
      "cell_type": "markdown",
      "metadata": {
        "id": "gcChX9BPLHh1"
      },
      "source": [
        "### 10.6\n",
        "We need to create a shortened version of a tweet to pique a user's interest before they see the full tweet. A possible use case for this is in a push notification that's sent to a user's phone, which they can then click on to see the full tweet.\n",
        "\n",
        "Create a function called `get_tweet_highlight` that returns the first four words of any given string `s` passed to it. If the tweet has fewer than 4 words, the function should return the full tweet. Do this using the `split()` and `join()` methods."
      ]
    },
    {
      "cell_type": "code",
      "execution_count": 27,
      "metadata": {
        "id": "T5iRFaL7LHh2",
        "colab": {
          "base_uri": "https://localhost:8080/"
        },
        "outputId": "e2e96813-2303-4f10-d6be-93beca53ff1d"
      },
      "outputs": [
        {
          "output_type": "stream",
          "name": "stdout",
          "text": [
            "Exciting news! Just launched\n",
            "Join us for the\n",
            "Test case passed.\n",
            "Test case passed.\n",
            "Test case passed.\n"
          ]
        }
      ],
      "source": [
        "def get_tweet_highlight(s):\n",
        "    words = s.split()  # Split the string into a list of words\n",
        "\n",
        "    if len(words) <= 4:\n",
        "        return s\n",
        "    else:\n",
        "        highlight = ' '.join(words[:4])\n",
        "        return highlight\n",
        "\n",
        "# Test cases\n",
        "tweet1 = \"Exciting news! Just launched a new feature on our platform.\"\n",
        "print(get_tweet_highlight(tweet1))  # Output: \"Exciting news! Just launched a new\"\n",
        "\n",
        "tweet2 = \"Join us for the webinar on AI and its impact.\"\n",
        "print(get_tweet_highlight(tweet2))  # Output: \"Join us for the webinar\"\n",
        "\n",
        "\n",
        "# This tests your solution\n",
        "assert_equal(got=get_tweet_highlight(\"Happy birthday to Avia!\"), want='Happy birthday to Avia!')\n",
        "assert_equal(got=get_tweet_highlight(\"The mitochondria is the powerhouse of the cell\"), want='The mitochondria is the')\n",
        "ANTHEM = \"\"\"Eternal Father bless our land\n",
        "Guard us with Thy mighty hand\n",
        "Keep us free from evil powers\n",
        "Be our light through countless hours\n",
        "To our leaders, Great Defender,\n",
        "Grant true wisdom from above\n",
        "Justice, truth be ours forever\n",
        "Jamaica, land we love\n",
        "Jamaica, Jamaica, Jamaica, land we love.\"\"\"\n",
        "assert_equal(got=get_tweet_highlight(ANTHEM), want=\"Eternal Father bless our\")"
      ]
    },
    {
      "cell_type": "markdown",
      "metadata": {
        "id": "uC0Xi0qXLHh2"
      },
      "source": [
        "### 10.7\n",
        "Rewrite your `get_tweet_highlight` function from 9.5 to add a string of three dots (i.e. `\"...\"`) to the end of the tweet highlight before it is returned."
      ]
    },
    {
      "cell_type": "code",
      "execution_count": 34,
      "metadata": {
        "id": "UYWnnVG1LHh2",
        "colab": {
          "base_uri": "https://localhost:8080/"
        },
        "outputId": "cf6fad95-f2b3-4a76-960f-676446746f2c"
      },
      "outputs": [
        {
          "output_type": "stream",
          "name": "stdout",
          "text": [
            "Exciting news! Just launched...\n",
            "Join us for the...\n",
            "Test case passed.\n",
            "Test case passed.\n",
            "Test case passed.\n"
          ]
        }
      ],
      "source": [
        "def get_tweet_highlight(s):\n",
        "    \"\"\"\n",
        "    Returns the first four words of the input string with \"...\" at the end,\n",
        "    or the full tweet if it has fewer than four words.\n",
        "\n",
        "    Input: s (str)\n",
        "    Output: str\n",
        "    \"\"\"\n",
        "    words = s.split()  # Split the string into a list of words\n",
        "\n",
        "    if len(words) <= 4:\n",
        "        return s\n",
        "    else:\n",
        "        highlight = ' '.join(words[:4]) + \"...\"\n",
        "        return highlight\n",
        "\n",
        "# Test cases\n",
        "tweet1 = \"Exciting news! Just launched a new feature on our platform.\"\n",
        "print(get_tweet_highlight(tweet1))  # Output: \"Exciting news! Just launched a new...\"\n",
        "\n",
        "tweet2 = \"Join us for the webinar on AI and its impact.\"\n",
        "print(get_tweet_highlight(tweet2))  # Output: \"Join us for the webinar on...\"\n",
        "\n",
        "\n",
        "# This tests your solution\n",
        "assert_equal(got=get_tweet_highlight(\"Happy birthday to Avia!\"), want='Happy birthday to Avia!')\n",
        "assert_equal(got=get_tweet_highlight(\"The mitochondria is the powerhouse of the cell\"), want='The mitochondria is the...')\n",
        "assert_equal(got=get_tweet_highlight(ANTHEM), want=\"Eternal Father bless our...\")"
      ]
    },
    {
      "cell_type": "markdown",
      "metadata": {
        "id": "6x2vXqGhLHh2"
      },
      "source": [
        "<br>\n",
        "<br>\n",
        "\n",
        "## 11. List Interweave"
      ]
    },
    {
      "cell_type": "markdown",
      "metadata": {
        "id": "S6_83z41LHh2"
      },
      "source": [
        "Write a function `interweave` that takes in two lists, `lst1` and `lst2`, and returns a list of the elements from `lst1` and `lst2` that first places an element from `lst1`, then places an element from `lst2`, and continues to do that until all the elements have been placed in the new list. You may assume that the list lengths are equivalent.\n",
        "\n",
        "**For example:**\n",
        "\n",
        "`interweave([1, 2, 3], [4, 5, 6])`\n",
        "will print: `[1, 4, 2, 5, 3, 6]`\n",
        "<br>\n",
        "<br>\n",
        "\n",
        "`interweave([13, 4, 6, 8], [17, 2, 1, 5])` will print:  `[13, 17, 4, 2, 6, 1, 8, 5]`"
      ]
    },
    {
      "cell_type": "code",
      "execution_count": 24,
      "metadata": {
        "id": "5nXCgcjXLHh2",
        "colab": {
          "base_uri": "https://localhost:8080/"
        },
        "outputId": "c81f09eb-8065-4c49-e5eb-08a0fa9deefe"
      },
      "outputs": [
        {
          "output_type": "stream",
          "name": "stdout",
          "text": [
            "Test case passed.\n",
            "Test case passed.\n",
            "Test case passed.\n"
          ]
        }
      ],
      "source": [
        "def interweave(lst1, lst2):\n",
        "    result = []\n",
        "\n",
        "    for i, j in zip(lst1, lst2):\n",
        "        result.append(i)\n",
        "        result.append(j)\n",
        "\n",
        "    return result\n",
        "\n",
        "\n",
        "# This tests your solution\n",
        "assert_equal(got=interweave([1, 2, 3], [4, 5, 6]), want=[1, 4, 2, 5, 3, 6])\n",
        "assert_equal(got=interweave([13, 4, 6, 8], [17, 2, 1, 5]), want=[13, 17, 4, 2, 6, 1, 8, 5])\n",
        "assert_equal(got=interweave([], []), want=[])"
      ]
    },
    {
      "cell_type": "markdown",
      "metadata": {
        "id": "O4vOucYfLHh2"
      },
      "source": [
        "## Bonus!\n",
        "\n",
        "In Python you can also interweive lists using the `zip` function. See what happens when you run the following code!"
      ]
    },
    {
      "cell_type": "code",
      "execution_count": null,
      "metadata": {
        "id": "PUqMM3rkLHh2"
      },
      "outputs": [],
      "source": [
        "print(list(zip([1, 2, 3], [4, 5, 6])))"
      ]
    },
    {
      "cell_type": "markdown",
      "metadata": {
        "id": "QVPeuUjFLHh3"
      },
      "source": [
        "What does zip do if the lists have different lengths? Try this out, and write your answer as a comment in the cell below:"
      ]
    },
    {
      "cell_type": "code",
      "execution_count": null,
      "metadata": {
        "id": "KfE886jBLHh3"
      },
      "outputs": [],
      "source": [
        "# You answer here\n"
      ]
    },
    {
      "cell_type": "code",
      "execution_count": null,
      "metadata": {
        "id": "vVOGsysBLHh3"
      },
      "outputs": [],
      "source": []
    }
  ],
  "metadata": {
    "colab": {
      "provenance": [],
      "include_colab_link": true
    },
    "kernelspec": {
      "display_name": "Python 3 (ipykernel)",
      "language": "python",
      "name": "python3"
    },
    "language_info": {
      "codemirror_mode": {
        "name": "ipython",
        "version": 3
      },
      "file_extension": ".py",
      "mimetype": "text/x-python",
      "name": "python",
      "nbconvert_exporter": "python",
      "pygments_lexer": "ipython3",
      "version": "3.10.11"
    }
  },
  "nbformat": 4,
  "nbformat_minor": 0
}