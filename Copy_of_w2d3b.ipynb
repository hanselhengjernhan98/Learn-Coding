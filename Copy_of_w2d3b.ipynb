{
  "cells": [
    {
      "cell_type": "markdown",
      "metadata": {
        "id": "view-in-github",
        "colab_type": "text"
      },
      "source": [
        "<a href=\"https://colab.research.google.com/github/hanselhengjernhan98/Learn-Coding/blob/main/Copy_of_w2d3b.ipynb\" target=\"_parent\"><img src=\"https://colab.research.google.com/assets/colab-badge.svg\" alt=\"Open In Colab\"/></a>"
      ]
    },
    {
      "cell_type": "code",
      "execution_count": 1,
      "metadata": {
        "id": "KmzQquM-a3Y-",
        "colab": {
          "base_uri": "https://localhost:8080/"
        },
        "outputId": "e11b16d8-227f-484c-9253-ba291b949ab8"
      },
      "outputs": [
        {
          "output_type": "stream",
          "name": "stdout",
          "text": [
            "  Preparing metadata (setup.py) ... \u001b[?25l\u001b[?25hdone\n",
            "  Building wheel for jamcoders (setup.py) ... \u001b[?25l\u001b[?25hdone\n"
          ]
        }
      ],
      "source": [
        "%config InteractiveShell.ast_node_interactivity=\"none\"\n",
        "import sys\n",
        "if 'google.colab' in sys.modules:\n",
        "  !pip install --force-reinstall git+https://github.com/jamcoders/jamcoders-public-2023.git --quiet\n",
        "from jamcoders.base_utils import *"
      ]
    },
    {
      "cell_type": "markdown",
      "metadata": {
        "id": "FV6sAgwDNO8m"
      },
      "source": [
        "# Week 2 Day 5: More Recursion\n"
      ]
    },
    {
      "cell_type": "markdown",
      "metadata": {
        "id": "QkxVOkCDx-SP"
      },
      "source": [
        "## Question 0: Definitions and Examples\n",
        "\n",
        "Starting from the basics:"
      ]
    },
    {
      "cell_type": "markdown",
      "metadata": {
        "id": "o-66ieYuyCit"
      },
      "source": [
        "What is recursion? Answer in words, and give an example (either in words or in code)"
      ]
    },
    {
      "cell_type": "code",
      "execution_count": 2,
      "metadata": {
        "id": "QzgfwtMjyGMV"
      },
      "outputs": [],
      "source": [
        "# Recursion is a function which calls itself."
      ]
    },
    {
      "cell_type": "markdown",
      "metadata": {
        "id": "NLtMc52DyIGV"
      },
      "source": [
        "What is a base case? If unsure, refer to question 0.5 in the previous lab."
      ]
    },
    {
      "cell_type": "code",
      "execution_count": 3,
      "metadata": {
        "id": "JSRHEE6UyQJu"
      },
      "outputs": [],
      "source": [
        "# This terminates the recursive process."
      ]
    },
    {
      "cell_type": "markdown",
      "metadata": {
        "id": "63Imt7IfyRsK"
      },
      "source": [
        "What is a recursive case?"
      ]
    },
    {
      "cell_type": "code",
      "execution_count": 4,
      "metadata": {
        "id": "BDLjuBkNyP7Q"
      },
      "outputs": [],
      "source": [
        "# it breaks down the problem into smaller parts, making progress toward the base case."
      ]
    },
    {
      "cell_type": "markdown",
      "metadata": {
        "id": "0UcL6tU6xocE"
      },
      "source": [
        "## Question 1: List slicing and warm up\n",
        "\n",
        "Some warm up, since the AC is so cold!"
      ]
    },
    {
      "cell_type": "markdown",
      "metadata": {
        "id": "9wPu5MaRxwTA"
      },
      "source": [
        "In recursion, we often have to split the inputs into different parts.\n",
        "\n",
        "For example, sometimes we might break the input in half and call the function on both halves. Sometimes we might break the input to handle the first thing, and then recursively call the function on the rest of the input.\n",
        "\n",
        "So, we will practice slicing.\n",
        "\n",
        "*Note: `pass` does not do anything. Delete it when you add your code.*"
      ]
    },
    {
      "cell_type": "markdown",
      "metadata": {
        "id": "WcFnkBsFrdCy"
      },
      "source": [
        "Write a function to return the first element of a list"
      ]
    },
    {
      "cell_type": "code",
      "execution_count": null,
      "metadata": {
        "id": "wnDXwc7orLfz"
      },
      "outputs": [],
      "source": [
        "def first_element(lst):\n",
        "    \"\"\"\n",
        "    Args:\n",
        "        lst (list(object)):\n",
        "            A list of objects.\n",
        "\n",
        "    Returns (object):\n",
        "        The first element of lst. If the list is empty, return the empty list.\n",
        "    \"\"\"\n",
        "    # Your code here!\n",
        "    pass\n",
        "\n",
        "# Use your function here to test that it returns the first element of the list."
      ]
    },
    {
      "cell_type": "markdown",
      "metadata": {
        "id": "3pKF5ZBRrs0H"
      },
      "source": [
        "Write a function to return everything except the first element of a list"
      ]
    },
    {
      "cell_type": "code",
      "execution_count": 4,
      "metadata": {
        "id": "feOIdBpPrz9Z",
        "colab": {
          "base_uri": "https://localhost:8080/"
        },
        "outputId": "ad22e472-5f6a-4fc6-c6cf-140ac5f4c9ff"
      },
      "outputs": [
        {
          "output_type": "stream",
          "name": "stdout",
          "text": [
            "The first element equals to 5\n"
          ]
        }
      ],
      "source": [
        "def first_element(lst):\n",
        "    \"\"\"\n",
        "    Args:\n",
        "        lst (list(object)):\n",
        "            A list of objects.\n",
        "\n",
        "    Returns (object):\n",
        "        The first element of lst. If the list is empty, return None.\n",
        "    \"\"\"\n",
        "    if not lst:  # Check if the list is empty\n",
        "        return None  # Return None for an empty list\n",
        "    else:\n",
        "        return lst[0]  # Return the first element of the list\n",
        "\n",
        "my_list = [5, 10, 15, 20]\n",
        "first_element = first_element(my_list)\n",
        "print(\"The first element equals to\", first_element)"
      ]
    },
    {
      "cell_type": "markdown",
      "metadata": {
        "id": "kLRHqMYVI_Ai"
      },
      "source": [
        "Write a function to return everything in the first half of the list. If there is an odd number of items in the list, make the first half one less than the second half.\n",
        "\n",
        "For example, for the list `[1, 2, 3, 4, 5, 6, 7]`, the first half should return `[1, 2, 3]`"
      ]
    },
    {
      "cell_type": "code",
      "execution_count": 6,
      "metadata": {
        "id": "_qLQsKNeJVKR",
        "colab": {
          "base_uri": "https://localhost:8080/"
        },
        "outputId": "25223368-bfbb-41e0-b7cb-97607b7774ee"
      },
      "outputs": [
        {
          "output_type": "stream",
          "name": "stdout",
          "text": [
            "1st half of list is: [1, 2, 3]\n"
          ]
        }
      ],
      "source": [
        "def first_half(lst):\n",
        "    \"\"\"\n",
        "    Args:\n",
        "        lst (list(object)):\n",
        "            A list of objects.\n",
        "\n",
        "    Returns (list(object)):\n",
        "        A list containing the first half of lst. If the length of lst is an odd number (2k+1),\n",
        "        the output will contain the first k items in lst.\n",
        "    \"\"\"\n",
        "    half_length = len(lst)//2\n",
        "    return lst[:half_length]\n",
        "\n",
        "my_list = [1, 2, 3, 4, 5, 6, 7]\n",
        "first_half_list = first_half(my_list)\n",
        "print(\"1st half of list is:\", first_half_list)\n",
        "\n",
        "# Use your function here to test that the function returns everything except the first element of the list"
      ]
    },
    {
      "cell_type": "markdown",
      "metadata": {
        "id": "1Ka_0U3eJlpP"
      },
      "source": [
        "Write a function to return everything in the second half of the list. If there is an odd number, make the second half that you return have one more element than the first half.\n",
        "\n",
        "For example, for the list `[1, 2, 3, 4, 5, 6, 7]`, the second half should return `[4, 5, 6, 7]`"
      ]
    },
    {
      "cell_type": "code",
      "execution_count": 9,
      "metadata": {
        "id": "AYj5FqmUJ945",
        "colab": {
          "base_uri": "https://localhost:8080/"
        },
        "outputId": "5acb8b1a-86e0-453a-a5ac-0f4970f6f689"
      },
      "outputs": [
        {
          "output_type": "stream",
          "name": "stdout",
          "text": [
            "2nd half of list is: [4, 5, 6, 7]\n"
          ]
        }
      ],
      "source": [
        "def second_half(lst):\n",
        "    \"\"\"\n",
        "    Args:\n",
        "        lst (list(object)):\n",
        "            A list of objects.\n",
        "\n",
        "    Returns (list(object)):\n",
        "       A list containing the second half of lst. If the length of lst is an odd number (2k+1),\n",
        "       the output will contain the last k+1 items in lst.\n",
        "    \"\"\"\n",
        "    #Your code here!\n",
        "    half_length = len(lst)//2\n",
        "    return lst[half_length:]\n",
        "\n",
        "\n",
        "\n",
        "my_list = [1, 2, 3, 4, 5, 6, 7]\n",
        "second_half_list = second_half(my_list)\n",
        "print(\"2nd half of list is:\", second_half_list)\n",
        "# Use your function here to test that the function returns everything except the first element of the list"
      ]
    },
    {
      "cell_type": "markdown",
      "metadata": {
        "id": "6KkDCgdbKF0i"
      },
      "source": [
        "Modify your code if needed, or verify that your code for `first_element()`, `except_first()`, `first_half()`, `second_half()` also work for strings!"
      ]
    },
    {
      "cell_type": "code",
      "execution_count": 10,
      "metadata": {
        "id": "QV2uyCL0Kcyq",
        "colab": {
          "base_uri": "https://localhost:8080/",
          "height": 250
        },
        "outputId": "11b8d785-2771-4e86-d97d-f48c3110e8ab"
      },
      "outputs": [
        {
          "output_type": "error",
          "ename": "TypeError",
          "evalue": "ignored",
          "traceback": [
            "\u001b[0;31m---------------------------------------------------------------------------\u001b[0m",
            "\u001b[0;31mTypeError\u001b[0m                                 Traceback (most recent call last)",
            "\u001b[0;32m<ipython-input-10-dd26c6c8ff15>\u001b[0m in \u001b[0;36m<cell line: 2>\u001b[0;34m()\u001b[0m\n\u001b[1;32m      1\u001b[0m \u001b[0mtest_list\u001b[0m \u001b[0;34m=\u001b[0m \u001b[0;34m[\u001b[0m\u001b[0;36m1\u001b[0m\u001b[0;34m,\u001b[0m\u001b[0;36m2\u001b[0m\u001b[0;34m,\u001b[0m\u001b[0;36m3\u001b[0m\u001b[0;34m,\u001b[0m\u001b[0;36m4\u001b[0m\u001b[0;34m,\u001b[0m\u001b[0;36m5\u001b[0m\u001b[0;34m]\u001b[0m\u001b[0;34m\u001b[0m\u001b[0;34m\u001b[0m\u001b[0m\n\u001b[0;32m----> 2\u001b[0;31m \u001b[0massert_equal\u001b[0m\u001b[0;34m(\u001b[0m\u001b[0;34m[\u001b[0m\u001b[0;36m1\u001b[0m\u001b[0;34m]\u001b[0m\u001b[0;34m,\u001b[0m \u001b[0mfirst_element\u001b[0m\u001b[0;34m(\u001b[0m\u001b[0mtest_list\u001b[0m\u001b[0;34m)\u001b[0m\u001b[0;34m)\u001b[0m\u001b[0;34m\u001b[0m\u001b[0;34m\u001b[0m\u001b[0m\n\u001b[0m\u001b[1;32m      3\u001b[0m \u001b[0massert_equal\u001b[0m\u001b[0;34m(\u001b[0m\u001b[0;34m[\u001b[0m\u001b[0;36m2\u001b[0m\u001b[0;34m,\u001b[0m\u001b[0;36m3\u001b[0m\u001b[0;34m,\u001b[0m\u001b[0;36m4\u001b[0m\u001b[0;34m,\u001b[0m\u001b[0;36m5\u001b[0m\u001b[0;34m]\u001b[0m\u001b[0;34m,\u001b[0m \u001b[0mexcept_first\u001b[0m\u001b[0;34m(\u001b[0m\u001b[0mtest_list\u001b[0m\u001b[0;34m)\u001b[0m\u001b[0;34m)\u001b[0m\u001b[0;34m\u001b[0m\u001b[0;34m\u001b[0m\u001b[0m\n\u001b[1;32m      4\u001b[0m \u001b[0massert_equal\u001b[0m\u001b[0;34m(\u001b[0m\u001b[0;34m[\u001b[0m\u001b[0;36m1\u001b[0m\u001b[0;34m,\u001b[0m\u001b[0;36m2\u001b[0m\u001b[0;34m]\u001b[0m\u001b[0;34m,\u001b[0m \u001b[0mfirst_half\u001b[0m\u001b[0;34m(\u001b[0m\u001b[0mtest_list\u001b[0m\u001b[0;34m)\u001b[0m\u001b[0;34m)\u001b[0m\u001b[0;34m\u001b[0m\u001b[0;34m\u001b[0m\u001b[0m\n\u001b[1;32m      5\u001b[0m \u001b[0massert_equal\u001b[0m\u001b[0;34m(\u001b[0m\u001b[0;34m[\u001b[0m\u001b[0;36m3\u001b[0m\u001b[0;34m,\u001b[0m\u001b[0;36m4\u001b[0m\u001b[0;34m,\u001b[0m\u001b[0;36m5\u001b[0m\u001b[0;34m]\u001b[0m\u001b[0;34m,\u001b[0m \u001b[0msecond_half\u001b[0m\u001b[0;34m(\u001b[0m\u001b[0mtest_list\u001b[0m\u001b[0;34m)\u001b[0m\u001b[0;34m)\u001b[0m\u001b[0;34m\u001b[0m\u001b[0;34m\u001b[0m\u001b[0m\n",
            "\u001b[0;31mTypeError\u001b[0m: 'int' object is not callable"
          ]
        }
      ],
      "source": [
        "test_list = [1,2,3,4,5]\n",
        "assert_equal([1], first_element(test_list))\n",
        "assert_equal([2,3,4,5], except_first(test_list))\n",
        "assert_equal([1,2], first_half(test_list))\n",
        "assert_equal([3,4,5], second_half(test_list))\n",
        "\n",
        "test_string = \"jam_coders\"\n",
        "assert_equal(\"j\", first_element(test_string))\n",
        "assert_equal(\"am_coders\", except_first(test_string))\n",
        "assert_equal(\"jam_c\", first_half(test_string))\n",
        "assert_equal(\"oders\", second_half(test_string))"
      ]
    },
    {
      "cell_type": "markdown",
      "metadata": {
        "id": "xQtkDtgJkdEw"
      },
      "source": [
        "## Question 2: Boolean Recursion\n",
        "\n",
        "Often, we see recursive functions that return `list`s or `int`s or `float`s or `string`s. However, sometimes we see recursions that return `boolean` values!"
      ]
    },
    {
      "cell_type": "markdown",
      "metadata": {
        "id": "FX5pyraCu4FX"
      },
      "source": [
        "In this question, we will **use recursion** to write a function called `is_in(lst, item)` that takes in a list called `lst` and returns `True` if the `item` is in the `lst`, and `False` otherwise\n",
        "\n",
        "> Side note: You may think that most of the examples you have seen of recursion can be easily replaced with different code. For example, here, without recursion we can simply say:\n",
        "> ```python\n",
        "> def is_in(lst, item):\n",
        ">   return (item in lst)\n",
        "> ```\n",
        "> However, many times recursion is more natural. We are doing this example in preparation for other lectures and exercises to come!"
      ]
    },
    {
      "cell_type": "markdown",
      "metadata": {
        "id": "uWiiwVpskwFa"
      },
      "source": [
        "There are many ways to write this function, but let's do it recursively. For the first base case, what should we return (`True` or `False`) if `lst` is empty?\n",
        "\n"
      ]
    },
    {
      "cell_type": "code",
      "execution_count": null,
      "metadata": {
        "id": "HBaUdLjRoqd8"
      },
      "outputs": [],
      "source": [
        "# it will be empty and False"
      ]
    },
    {
      "cell_type": "markdown",
      "metadata": {
        "id": "1Hf86kjJoq_f"
      },
      "source": [
        "For the second base case, should we return `True` or `False` if the first element `lst[0] == item`?"
      ]
    },
    {
      "cell_type": "code",
      "execution_count": null,
      "metadata": {
        "id": "y1huI3fxpCzN"
      },
      "outputs": [],
      "source": [
        "# it will be True"
      ]
    },
    {
      "cell_type": "markdown",
      "metadata": {
        "id": "u5w2ibPfo5lZ"
      },
      "source": [
        "For the recursive case, suppose that we know that the first element is not the item. How can we call `is_in(lst, item)` to check the remainder of the list, excluding the first element that we already know is not the item?\n",
        "\n",
        "In other words, we already know the first element is not the item, or else we would have triggered the second base case. So, we can call `is_in()` using the `lst` without the first element, searching for the same item as before."
      ]
    },
    {
      "cell_type": "code",
      "execution_count": null,
      "metadata": {
        "id": "DFeCbtcEpGNi"
      },
      "outputs": [],
      "source": [
        "#"
      ]
    },
    {
      "cell_type": "markdown",
      "metadata": {
        "id": "uwLLQvy4qlSa"
      },
      "source": [
        "Now we are ready to write the function!\n",
        "\n",
        "> Note: This question heavily relies on the list slicing from question 1, and you may use your previous functions if you'd like. These functions include: `first_element()`, `except_first()`, `first_half()`, `second_half()`."
      ]
    },
    {
      "cell_type": "code",
      "execution_count": 13,
      "metadata": {
        "id": "AErL_fMwmMUp",
        "colab": {
          "base_uri": "https://localhost:8080/"
        },
        "outputId": "9ce4e965-d210-4719-e5f4-d1f7fd2cbc80"
      },
      "outputs": [
        {
          "output_type": "stream",
          "name": "stdout",
          "text": [
            "Is 9 in the list? True\n",
            "Test case passed.\n",
            "Test case passed.\n",
            "Test case passed.\n"
          ]
        }
      ],
      "source": [
        "def is_in(lst, item):\n",
        "    \"\"\"\n",
        "    Args:\n",
        "        lst (list(object)): A list of objects to search in.\n",
        "        item (object): An item to search for.\n",
        "\n",
        "    Returns (bool):\n",
        "        Whether item is in lst.\n",
        "    \"\"\"\n",
        "\n",
        "    # ===First base case===: the list has length zero so we return False.\n",
        "    if len(lst) == 0:\n",
        "        return False\n",
        "\n",
        "    first_item = lst[0]\n",
        "\n",
        "    # ===Second base case===: the first thing in the list is the item we are searching for.\n",
        "    if first_item == item:\n",
        "        return True\n",
        "\n",
        "    rest_of_list = lst[1:]\n",
        "\n",
        "    # ===Recursive case===: we search for the item in the rest of the list\n",
        "    return is_in(rest_of_list, item)\n",
        "\n",
        "my_list = [3, 6, 9, 12, 15]\n",
        "item_to_find = 9\n",
        "print(\"Is\", item_to_find, \"in the list?\", is_in(my_list, item_to_find))\n",
        "\n",
        "\n",
        "\n",
        "assert_equal(True, is_in([1, 2, 3], 3))\n",
        "assert_equal(True, is_in(['j', 'c', 22], 'c'))\n",
        "assert_equal(False, is_in(['r', 2, 'hello'], 'bye'))"
      ]
    },
    {
      "cell_type": "markdown",
      "metadata": {
        "id": "WjJ_qasOnrFy"
      },
      "source": [
        "**Challenge $-$ Optional**\n",
        "\n",
        "The rest of the question is a challenge problem. For the next part of the question, Elijah wants to write `is_in2(lst, item)` that does the same thing as `is_in(lst, item)`, except it follows a different logic:\n",
        "  * if the length of the `lst` is `0`, return `False` because `item` is not in an empty list.\n",
        "  * if the length of the `lst` is `1` and the element is `item` (In otherwords, `lst[0] == item`), then we have found the element and `return True`.\n",
        "  * call `is_in2()` on the first half of `lst`, keep track of the `return` boolean value.\n",
        "  * call `is_in2()` on the second half of `lst`, keep track of the `return` boolean value.\n",
        "  * return `True` if the value is either in the first half of `lst` or the second half of `lst`, and `False` otherwise."
      ]
    },
    {
      "cell_type": "markdown",
      "metadata": {
        "id": "BWX96fChr-Ub"
      },
      "source": [
        "Explain in words why the logic above makes sense. This is the most important part of the question, so please ask us to explain this recursion to you before you move on if you are not sure!"
      ]
    },
    {
      "cell_type": "code",
      "execution_count": null,
      "metadata": {
        "id": "_7Yg-CpSsJu6"
      },
      "outputs": [],
      "source": [
        "# Write your answer in words here!"
      ]
    },
    {
      "cell_type": "markdown",
      "metadata": {
        "id": "AMZ9mcKKrKJ4"
      },
      "source": [
        "In words, what are the base cases and recursive case?"
      ]
    },
    {
      "cell_type": "code",
      "execution_count": null,
      "metadata": {
        "id": "VeyGiQg2rS78"
      },
      "outputs": [],
      "source": [
        "# Write your answer in words here!"
      ]
    },
    {
      "cell_type": "markdown",
      "metadata": {
        "id": "cm17eW2JrXDy"
      },
      "source": [
        "Now code `is_in2(lst, item)`"
      ]
    },
    {
      "cell_type": "code",
      "execution_count": null,
      "metadata": {
        "id": "177CzFSvrVTI"
      },
      "outputs": [],
      "source": [
        "def is_in2(lst, item):\n",
        "    \"\"\"\n",
        "    Args:\n",
        "        lst (list(object)): A list of objects to seach in.\n",
        "        item (object): An item to search for.\n",
        "\n",
        "    Returns (bool):\n",
        "        Whether item is in lst.\n",
        "    \"\"\"\n",
        "    # Your code here!\n",
        "\n",
        "    # A summary of the key steps:\n",
        "    # 1. handle the empty list\n",
        "    # 2. handle the list with a single element\n",
        "    # 3. split the list into two halves (we have already handled the case of an empty list)\n",
        "    # 4. return True if the item is either in the left, OR in the right!\n",
        "\n",
        "    pass\n",
        "\n",
        "# Test your code here!\n",
        "assert_equal(True, is_in2([1, 2, 3], 3))\n",
        "assert_equal(True, is_in2(['j', 'c', 22], 'c'))\n",
        "assert_equal(False, is_in2(['r', 2, 'hello'], 'bye'))"
      ]
    },
    {
      "cell_type": "markdown",
      "metadata": {
        "id": "dypp0gHKK984"
      },
      "source": [
        "## Question 3: Ping Pong\n",
        "\n",
        "Anakai and Michael like playing ping pong together (this may or may not be true). Let's write functions to play ping pong!\n",
        "\n"
      ]
    },
    {
      "cell_type": "markdown",
      "metadata": {
        "id": "9mT78Bz-UlTE"
      },
      "source": [
        "Help Anakai write a function called `ping(n)`:\n",
        "  * if `n == 0`, then `return`.\n",
        "  * If `n > 0`: `ping(n)` should `print('ping')` then call `pong(n - 1)`.\n",
        "  * you haven't written `pong()` yet, but we will write that next!"
      ]
    },
    {
      "cell_type": "code",
      "execution_count": 20,
      "metadata": {
        "id": "X4ERTMB4RPBb",
        "colab": {
          "base_uri": "https://localhost:8080/"
        },
        "outputId": "384f1fcc-84a5-4c66-de45-3024f7864600"
      },
      "outputs": [
        {
          "output_type": "stream",
          "name": "stdout",
          "text": [
            "ping\n",
            "ping\n",
            "ping\n",
            "ping\n",
            "ping\n"
          ]
        }
      ],
      "source": [
        "def ping(n):\n",
        "    \"\"\"\n",
        "    Args:\n",
        "        n (int): Number of ping-pong steps to make.\n",
        "\n",
        "    Returns:\n",
        "        None\n",
        "    \"\"\"\n",
        "    if n == 0:\n",
        "        return\n",
        "    else:\n",
        "        print('ping')\n",
        "        ping(n - 1)\n",
        "\n",
        "# Example usage\n",
        "ping(5)  # Call the ping function to play ping pong\n"
      ]
    },
    {
      "cell_type": "markdown",
      "metadata": {
        "id": "Em0Xn3NLRv5F"
      },
      "source": [
        "Help Michael write a function called `pong(n)`:\n",
        "* if `n == 0`, then `return`.\n",
        "* `pong(n)` should `print('pong')` then call `ping(n - 1)`.\n",
        "* you have already written `ping()`!\n",
        "\n",
        "**If you call both `ping(n)` and `pong(n)`, you will go into an infinite loop. Make sure you are calling `ping(n - 1)` and `pong(n - 1)`. You will also go into an infinite loop if you forget the base case**\n",
        "\n"
      ]
    },
    {
      "cell_type": "code",
      "execution_count": 21,
      "metadata": {
        "id": "uj40lngLTBvy"
      },
      "outputs": [],
      "source": [
        "def pong(n):\n",
        "    \"\"\"\n",
        "    Args:\n",
        "        n (int): Number of ping-pong steps to make.\n",
        "\n",
        "    Returns:\n",
        "        None\n",
        "    \"\"\"\n",
        "    if n == 0:\n",
        "        return\n",
        "    else:\n",
        "        print('pong')\n",
        "        ping(n - 1)"
      ]
    },
    {
      "cell_type": "markdown",
      "metadata": {
        "id": "mzzk0PyDTLzp"
      },
      "source": [
        "Try running `ping(5)`. Can you explain what happens and why?"
      ]
    },
    {
      "cell_type": "code",
      "execution_count": null,
      "metadata": {
        "id": "tx6dhO6BTUml"
      },
      "outputs": [],
      "source": [
        "# run ping(5). 5 pings."
      ]
    },
    {
      "cell_type": "markdown",
      "metadata": {
        "id": "1TIjgLy5UaEY"
      },
      "source": [
        "What are the base and recursive cases?"
      ]
    },
    {
      "cell_type": "code",
      "execution_count": 22,
      "metadata": {
        "id": "KwCZ774wUeIX",
        "colab": {
          "base_uri": "https://localhost:8080/",
          "height": 143
        },
        "outputId": "4b716831-57af-46c4-a3bd-ef8ca68cc75c"
      },
      "outputs": [
        {
          "output_type": "error",
          "ename": "SyntaxError",
          "evalue": "ignored",
          "traceback": [
            "\u001b[0;36m  File \u001b[0;32m\"<ipython-input-22-1a5fb223a9dc>\"\u001b[0;36m, line \u001b[0;32m1\u001b[0m\n\u001b[0;31m    Base Case: n = 0\u001b[0m\n\u001b[0m         ^\u001b[0m\n\u001b[0;31mSyntaxError\u001b[0m\u001b[0;31m:\u001b[0m invalid syntax\n"
          ]
        }
      ],
      "source": [
        "Base Case: n = 0\n",
        "\n",
        "Recursive Case: else\n"
      ]
    },
    {
      "cell_type": "markdown",
      "metadata": {
        "id": "lGwuBJPdU0x2"
      },
      "source": [
        "**This may be confusing, so the rest of this problem is optional**\n",
        "\n",
        "Natnael watches them play, and notices that he knows how long the game will last just by looking at `n`. He thinks this is bad because there is no skill involved. So, he writes a function called `is_success(n)` that will return `True` with `n` percent chance.\n",
        "\n",
        "Run his code a few times to understand how `is_success(n)` works. Notice that you will get different results every time you run it.  "
      ]
    },
    {
      "cell_type": "code",
      "execution_count": 23,
      "metadata": {
        "id": "bP52g--1agPe",
        "colab": {
          "base_uri": "https://localhost:8080/"
        },
        "outputId": "8a3afb64-08bf-4876-fd51-35ee3c85a95c"
      },
      "outputs": [
        {
          "output_type": "stream",
          "name": "stdout",
          "text": [
            "False\n",
            "False\n",
            "False\n",
            "False\n",
            "True\n",
            "True\n",
            "True\n"
          ]
        }
      ],
      "source": [
        "# Run this a few times to understand how is_success(n) works\n",
        "from random import randrange\n",
        "\n",
        "# Here is Natnael's code\n",
        "def is_success(n):\n",
        "    \"\"\"\n",
        "    Args:\n",
        "        n (int): An integer between 0 and 100.\n",
        "\n",
        "    Returns (bool):\n",
        "        With probability n/100, returns True. Otherwise, returns False.\n",
        "    \"\"\"\n",
        "    return randrange(100) < n\n",
        "\n",
        "# Here is how you could use it.\n",
        "print(is_success(0))\n",
        "print(is_success(30))\n",
        "print(is_success(40))\n",
        "print(is_success(50))\n",
        "print(is_success(60))\n",
        "print(is_success(70))\n",
        "print(is_success(100))"
      ]
    },
    {
      "cell_type": "markdown",
      "metadata": {
        "id": "GiS_4jl7cChj"
      },
      "source": [
        "Create `ping_skillz(p, q)` and `pong_skillz(p, q)`. Use `is_success` so that with `n` percent chance, they call the other function.\n",
        "\n",
        "For `ping_skillz(p, q)`:\n",
        "  * with `p` percent chance: print `'ping!'` and call `pong(p, q)`\n",
        "  * with `100 - p` percent chance: print `'ping failed'` and `return`\n",
        "\n",
        "For `pong_skillz(p, q)`:\n",
        "  * with `q` percent chance: print `'pong!'` and call `ping(p, q)`\n",
        "  * with `100 - q` percent chance: print `'pong failed'` and `return`"
      ]
    },
    {
      "cell_type": "code",
      "execution_count": null,
      "metadata": {
        "id": "mUhDRz1zb2wH"
      },
      "outputs": [],
      "source": [
        "def ping_skillz(p, q):\n",
        "    \"\"\"\n",
        "    Args:\n",
        "        p (int): The probability of success of ping_skillz. This is an integer between 0 and 100.\n",
        "        q (int): The probability of success of pong_skillz. This is an integer between 0 and 100.\n",
        "\n",
        "    Returns:\n",
        "        None.\n",
        "    \"\"\"\n",
        "    # Code here! Remember to use is_success to check if we successfully went to pong() or not!\n",
        "    pass\n",
        "\n",
        "def pong_skillz(p, q):\n",
        "    \"\"\"\n",
        "    Args:\n",
        "        p (int): The probability of success of ping_skillz. This is an integer between 0 and 100.\n",
        "        q (int): The probability of success of pong_skillz. This is an integer between 0 and 100.\n",
        "\n",
        "    Returns:\n",
        "        None.\n",
        "    \"\"\"\n",
        "    # Code here! Remember to use is_success to check if we sucessfully went to ping() or not!\n",
        "    pass\n",
        "\n",
        "# Test your code here!"
      ]
    },
    {
      "cell_type": "markdown",
      "metadata": {
        "id": "k1pU3PX1ec9y"
      },
      "source": [
        "**Very, very optional**\n",
        "\n",
        "Run `ping_skillz(50, 50)` ten times, recording the average number of combined `ping!`s and `pong!`s. On average, how many combined `ping!`s and `pong!`s are printed out?\n",
        "\n",
        "*You can manually run it 10 times and calculate the sum (which we recommend), or you can write a function to help if you have extra time.*\n",
        "\n",
        "\n",
        "\n",
        "\n",
        "\n"
      ]
    },
    {
      "cell_type": "code",
      "execution_count": null,
      "metadata": {
        "id": "hxYWD7K_eyRr"
      },
      "outputs": [],
      "source": [
        "# Your answer for the average number. Feel free to show your calculation eg:\n",
        "# print( (1 + 0 + 2 + 0 ... ) / 10 )"
      ]
    },
    {
      "cell_type": "markdown",
      "metadata": {
        "id": "4dcPMFfiicFV"
      },
      "source": [
        "**Very, very, very optional**\n",
        "\n",
        "The following is extremely challenging brain teaser that you should save for the end of the lab and attempt only if you have time.\n",
        "\n",
        "Can you use math to reason about why you got the answer above? That is, if `p == q == 0.5`, how many combined `ping!`s and `pong!`s would you expect to see printed on average?"
      ]
    },
    {
      "cell_type": "code",
      "execution_count": null,
      "metadata": {
        "id": "Dy37O7pKAgEC"
      },
      "outputs": [],
      "source": [
        "# Explain your reasoning and any math you used"
      ]
    },
    {
      "cell_type": "markdown",
      "metadata": {
        "id": "YnTOsgKJkKol"
      },
      "source": [
        "## Question 4: Repetition\n",
        "\n",
        "More exercises!"
      ]
    },
    {
      "cell_type": "markdown",
      "metadata": {
        "id": "YgVmtFmxwyNy"
      },
      "source": [
        "Write a recursive function `print_natural(n)` to print out the first `n` natural numbers in descending order. The logic is:\n",
        "* If `n <= 0` then we're done. `return`.\n",
        "* Otherwise, `print(n)`, and recursively call `print_natural()`.\n",
        "\n",
        "*Hint: what should be the argument in the recursive call to print_natural()?*"
      ]
    },
    {
      "cell_type": "markdown",
      "metadata": {
        "id": "bMHLNmcIyJ5T"
      },
      "source": [
        "What is the base case? What is the recursive case?"
      ]
    },
    {
      "cell_type": "code",
      "execution_count": null,
      "metadata": {
        "id": "oow8i6rpyhhe"
      },
      "outputs": [],
      "source": [
        "# A few words here, be short."
      ]
    },
    {
      "cell_type": "markdown",
      "metadata": {
        "id": "4-REawcDyjve"
      },
      "source": [
        "Write the function below"
      ]
    },
    {
      "cell_type": "code",
      "execution_count": 27,
      "metadata": {
        "id": "Z790G2oNlhXL",
        "colab": {
          "base_uri": "https://localhost:8080/"
        },
        "outputId": "c8e01143-4c72-42a9-b103-054b67b38840"
      },
      "outputs": [
        {
          "output_type": "stream",
          "name": "stdout",
          "text": [
            "5\n",
            "4\n",
            "3\n",
            "2\n",
            "1\n"
          ]
        }
      ],
      "source": [
        "def print_natural(n):\n",
        "    \"\"\"\n",
        "    Args:\n",
        "        n (int): The number of natural numbers to print.\n",
        "\n",
        "    Returns:\n",
        "        None.\n",
        "    \"\"\"\n",
        "\n",
        "    if n <= 0:\n",
        "        return\n",
        "    else:\n",
        "        print(n)\n",
        "        print_natural(n - 1)\n",
        "\n",
        "\n",
        "print_natural(5)\n"
      ]
    },
    {
      "cell_type": "markdown",
      "metadata": {
        "id": "_kziKyEHxd1T"
      },
      "source": [
        "Write a recursive function `sum_natural(n)` to `return` the sum of the first `n` natural numbers. You may have seen this iteratively before in a previous lab, so this is a different way to do this with recursion! Identify the base case and recursive case."
      ]
    },
    {
      "cell_type": "code",
      "execution_count": null,
      "metadata": {
        "id": "nDvOtueaysIb"
      },
      "outputs": [],
      "source": [
        "#base is the <=0, recursive is the n-1"
      ]
    },
    {
      "cell_type": "markdown",
      "metadata": {
        "id": "IultgDpxyt6J"
      },
      "source": [
        "Write the function:"
      ]
    },
    {
      "cell_type": "code",
      "execution_count": 32,
      "metadata": {
        "id": "PjLNJP5mx-Ji",
        "colab": {
          "base_uri": "https://localhost:8080/"
        },
        "outputId": "9bef0e05-b4eb-4feb-df34-5da1195b1a65"
      },
      "outputs": [
        {
          "output_type": "stream",
          "name": "stdout",
          "text": [
            "The sum is: 6\n"
          ]
        }
      ],
      "source": [
        "def sum_natural(n):\n",
        "    \"\"\"\n",
        "    Args:\n",
        "        n (int): A natural number.\n",
        "\n",
        "    Returns (int):\n",
        "        The sum 1 + 2 + 3 + ... + n.\n",
        "    \"\"\"\n",
        "\n",
        "    if n == 0:\n",
        "        return 0\n",
        "    else:\n",
        "        return n + sum_natural(n - 1)\n",
        "        n-1\n",
        "\n",
        "result = sum_natural(3)\n",
        "print(\"The sum is:\", result)"
      ]
    },
    {
      "cell_type": "markdown",
      "metadata": {
        "id": "hxWnHiiVzPz_"
      },
      "source": [
        "## Question 5: Palindrome Revisited\n"
      ]
    },
    {
      "cell_type": "markdown",
      "metadata": {
        "id": "6xmLP90pzaPK"
      },
      "source": [
        "Recall we had an entire lecture on palindromes. You may have noticed that a palindrome is like an onion. You may think that is because they both stink. But there is yet another similarity: you can peel the palindrome layer by layer.\n",
        "\n",
        "For example: Suppose you wanted to check if `'racecar'` is a palindrome. You could look at the first and last letter, and if they are the same, recursively check the rest of the string to see if `'aceca'` is a palindrome.  You could keep on peeling away the first and last letters layer by layer until you have a single letter `e`, which is a palindrome.\n",
        "\n",
        "Just as we have done before, brainstorm the logic of the function below"
      ]
    },
    {
      "cell_type": "code",
      "execution_count": null,
      "metadata": {
        "id": "qCcv5zDB0xZt"
      },
      "outputs": [],
      "source": [
        "# What are the base cases?\n",
        "\n",
        "# What are the recursive cases?\n",
        "\n",
        "# Write some tentative logic for how the code will work in words"
      ]
    },
    {
      "cell_type": "markdown",
      "metadata": {
        "id": "MC1QKdwO05kj"
      },
      "source": [
        "Try to code the recursive function `is_palindrome(string)` that returns `True` if `string` is a palindrome, and `False` otherwise. Make sure it works for both even and odd length `string`s."
      ]
    },
    {
      "cell_type": "code",
      "execution_count": 35,
      "metadata": {
        "id": "GwLc1Ywn04-5",
        "colab": {
          "base_uri": "https://localhost:8080/"
        },
        "outputId": "193b0e80-8752-4aeb-b48a-e516861a2e59"
      },
      "outputs": [
        {
          "output_type": "stream",
          "name": "stdout",
          "text": [
            "True\n",
            "False\n",
            "True\n",
            "True\n",
            "True\n",
            "True\n",
            "True\n",
            "False\n",
            "False\n"
          ]
        }
      ],
      "source": [
        "def is_palindrome(string):\n",
        "    \"\"\"\n",
        "    Args:\n",
        "        string (str): The string to check for palindrome property.\n",
        "\n",
        "    Returns (bool):\n",
        "        True if string is a palindrome, False otherwise.\n",
        "    \"\"\"\n",
        "    # Base case: If the string has length 0 or 1, it's a palindrome\n",
        "    if len(string) <= 1:\n",
        "        return True\n",
        "\n",
        "    # Check if the first and last characters are the same\n",
        "    if string[0] != string[-1]:\n",
        "        return False\n",
        "    else:\n",
        "      return True\n",
        "\n",
        "\n",
        "# Example usage\n",
        "print(is_palindrome(\"racecar\"))  # Should print True\n",
        "print(is_palindrome(\"hello\"))    # Should print False\n",
        "\n",
        "\n",
        "print(is_palindrome(\"\") == True)\n",
        "print(is_palindrome(\"racecar\") == True)\n",
        "print(is_palindrome(\"raccar\") == True)\n",
        "print(is_palindrome(\n",
        "    \"Madam Im Adam\".lower().replace(\" \", \"\")\n",
        ") == True)\n",
        "print(is_palindrome(\"Eve\".lower()) == True)\n",
        "print(is_palindrome(\"racYXYXcar\") == False)\n",
        "print(is_palindrome(\"racXYXYXXzYXYXczar\") == False)"
      ]
    },
    {
      "cell_type": "markdown",
      "metadata": {
        "id": "bqM4l-w72p3A"
      },
      "source": [
        "## Question 6: Challenge!"
      ]
    },
    {
      "cell_type": "markdown",
      "metadata": {
        "id": "p6BLjYi72web"
      },
      "source": [
        "**This is a very challenging problem. We recommend finishing Notebook A before trying this question**\n",
        "\n",
        "Given a positive integer `n`, find all combinations of numbers between `1` and `n` that sum up to `n`.\n",
        "\n",
        "For example `combinations(5)` should return the following list:\n",
        "```python\n",
        "[\n",
        "    [5],\n",
        "    [4, 1],\n",
        "    [3, 2],\n",
        "    [3, 1, 1],\n",
        "    [2, 2, 1],\n",
        "    [2, 1, 1, 1],\n",
        "    [1, 1, 1, 1, 1]\n",
        "]\n",
        "```\n",
        "\n",
        "**Remark:** Some additional possible combinations include `[1,2,1,1]`, `[1,1,2,1]` and `[1,1,1,2]` which are all equal to the combination `[2,1,1,1]` that appeared above, up to the order of the elements. We want `combinations` to return only a single ordering of each possible combination, as shown above $-$ the ordering in which the items are in descending order.\n",
        "\n",
        "**Hints**\n",
        " 1. This is a question where recursion may be more natural than other methods.\n",
        " 2. Consider coding an additional helper function: `combinations_helper(n, max_allowed)` that returns a list of combinations of numbers between 1 and `max_allowed` that sum up to `n`."
      ]
    },
    {
      "cell_type": "code",
      "execution_count": null,
      "metadata": {
        "id": "LC36bB5B4U_b"
      },
      "outputs": [],
      "source": [
        "# Required\n",
        "def combinations(n):\n",
        "    \"\"\"\n",
        "    Args:\n",
        "        n (int): A natural number.\n",
        "\n",
        "    Returns (list(list(int))):\n",
        "        The list of all lists of natural numbers that sum up to n.\n",
        "    \"\"\"\n",
        "    pass\n",
        "\n",
        "# Recommended, delete if you don't use\n",
        "def combinations_helper(n, max_allowed):\n",
        "    \"\"\"\n",
        "    Args:\n",
        "        n (int):\n",
        "            A natural number.\n",
        "        max_allowed (int):\n",
        "            A natural number.\n",
        "\n",
        "    Returns (list(list(int))):\n",
        "        The list of all lists of natural numbers between 1 and max_allowed that sum up to n.\n",
        "    \"\"\"\n",
        "    pass\n",
        "\n",
        "\n",
        "print(combinations(5) == [\n",
        "    [5],\n",
        "    [4, 1],\n",
        "    [3, 2],\n",
        "    [3, 1, 1],\n",
        "    [2, 2, 1],\n",
        "    [2, 1, 1, 1],\n",
        "    [1, 1, 1, 1, 1]\n",
        "])"
      ]
    },
    {
      "cell_type": "markdown",
      "metadata": {
        "id": "TrFkNIqJGhoh"
      },
      "source": [
        "**Extra challenge:**\n",
        "\n",
        "Can you return the results in a list of lists?"
      ]
    },
    {
      "cell_type": "code",
      "execution_count": null,
      "metadata": {
        "id": "LkMZ9CpjGqNX"
      },
      "outputs": [],
      "source": []
    }
  ],
  "metadata": {
    "colab": {
      "provenance": [],
      "include_colab_link": true
    },
    "kernelspec": {
      "display_name": "Python 3 (ipykernel)",
      "language": "python",
      "name": "python3"
    },
    "language_info": {
      "codemirror_mode": {
        "name": "ipython",
        "version": 3
      },
      "file_extension": ".py",
      "mimetype": "text/x-python",
      "name": "python",
      "nbconvert_exporter": "python",
      "pygments_lexer": "ipython3",
      "version": "3.10.11"
    }
  },
  "nbformat": 4,
  "nbformat_minor": 0
}