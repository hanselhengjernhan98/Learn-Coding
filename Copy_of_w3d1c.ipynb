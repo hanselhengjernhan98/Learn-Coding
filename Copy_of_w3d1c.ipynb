{
  "cells": [
    {
      "cell_type": "markdown",
      "metadata": {
        "id": "view-in-github",
        "colab_type": "text"
      },
      "source": [
        "<a href=\"https://colab.research.google.com/github/hanselhengjernhan98/Learn-Coding/blob/main/Copy_of_w3d1c.ipynb\" target=\"_parent\"><img src=\"https://colab.research.google.com/assets/colab-badge.svg\" alt=\"Open In Colab\"/></a>"
      ]
    },
    {
      "cell_type": "code",
      "execution_count": 6,
      "metadata": {
        "id": "4h54nqTLMG4H",
        "colab": {
          "base_uri": "https://localhost:8080/"
        },
        "outputId": "95b4b57c-c0bc-4e22-efe2-a0ca784552be"
      },
      "outputs": [
        {
          "output_type": "stream",
          "name": "stdout",
          "text": [
            "  Preparing metadata (setup.py) ... \u001b[?25l\u001b[?25hdone\n",
            "  Building wheel for jamcoders (setup.py) ... \u001b[?25l\u001b[?25hdone\n"
          ]
        }
      ],
      "source": [
        "%config InteractiveShell.ast_node_interactivity=\"none\"\n",
        "import sys\n",
        "if 'google.colab' in sys.modules:\n",
        "    !pip install --force-reinstall git+https://github.com/jamcoders/jamcoders-public-2023.git --quiet\n",
        "from jamcoders.base_utils import *\n",
        "from jamcoders.week2.labw2d4a import *"
      ]
    },
    {
      "cell_type": "markdown",
      "metadata": {
        "id": "_sTO34moMG4I"
      },
      "source": [
        "# Week 3, Day 1, Lab C: Recursion Challenge\n",
        "\n",
        "**All of today's exercises should use recursion** unless the question says otherwise. As taught in lecture and previous exercises, make sure to always define your base case(s) and recursive case(s)."
      ]
    },
    {
      "cell_type": "markdown",
      "metadata": {
        "id": "wYZ6NgFMMG4J"
      },
      "source": [
        "## 0. Warm-up\n",
        "\n",
        "Count how many words that start with a capital letter the string contains.\n",
        "\n",
        "Hint: `str.split()`, `str1.join(str2)`, and `str.isupper()` are useful functions for this question\n"
      ]
    },
    {
      "cell_type": "code",
      "execution_count": null,
      "metadata": {
        "id": "JjpPBfVtMG4J"
      },
      "outputs": [],
      "source": [
        "def how_many_capital_words(sentence):\n",
        "    if not sentence:\n",
        "        return 0\n",
        "    words = sentence.split()\n",
        "    first_word = words[0]\n",
        "    if first_word and first_word[0].isupper():\n",
        "        return 1 + how_many_capital_words(\" \".join(words[1:]))\n",
        "    else:\n",
        "        return how_many_capital_words(\" \".join(words[1:]))\n",
        "\n"
      ]
    },
    {
      "cell_type": "code",
      "execution_count": null,
      "metadata": {
        "id": "zlA1FboXMG4J",
        "outputId": "37efd20e-9fda-4299-898b-6ec56e87cee2",
        "colab": {
          "base_uri": "https://localhost:8080/"
        }
      },
      "outputs": [
        {
          "output_type": "stream",
          "name": "stdout",
          "text": [
            "Test case passed.\n",
            "Test case passed.\n"
          ]
        }
      ],
      "source": [
        "assert_equal(got=how_many_capital_words(\"I like jamcoders\"), want=1)\n",
        "assert_equal(got=how_many_capital_words(\"i like Jamcoders a Lot\"), want=2)"
      ]
    },
    {
      "cell_type": "markdown",
      "metadata": {
        "id": "CrEwLwdOMG4K"
      },
      "source": [
        "## 1. Recursion with Lists"
      ]
    },
    {
      "cell_type": "markdown",
      "metadata": {
        "id": "rGEieNmnMG4L"
      },
      "source": [
        "### 1.1 `sort_pairs`\n",
        "\n",
        "Given a list of pairs of integers, sort each member of the pair in ascending order."
      ]
    },
    {
      "cell_type": "code",
      "execution_count": null,
      "metadata": {
        "id": "ResHVaCzMG4L"
      },
      "outputs": [],
      "source": [
        "def sort_pairs(lst):\n",
        "    if not lst:\n",
        "        return []\n",
        "    first_pair = lst[0]\n",
        "    sorted_pair = tuple(sorted(first_pair))\n",
        "    rest_sorted = sort_pairs(lst[1:])\n",
        "    return [sorted_pair] + rest_sorted\n",
        "\n",
        "\n",
        "\n"
      ]
    },
    {
      "cell_type": "code",
      "execution_count": null,
      "metadata": {
        "id": "3AVNeiO0MG4M",
        "outputId": "2bd3ff69-3c79-4837-9858-662199c06df4",
        "colab": {
          "base_uri": "https://localhost:8080/"
        }
      },
      "outputs": [
        {
          "output_type": "stream",
          "name": "stdout",
          "text": [
            "\n",
            "--------- Test case failed. ---------\n",
            "Want: [[1, 3], [2, 5], [0, 3]] (type: list)\n",
            "Got:  [(1, 3), (2, 5), (0, 3)] (type: list)\n",
            "-------------------------------------\n",
            "\n",
            "Test case passed.\n"
          ]
        }
      ],
      "source": [
        "assert_equal(got=sort_pairs([[1, 3], [5, 2], [3, 0]]), want=[[1, 3], [2, 5], [0, 3]])\n",
        "assert_equal(got=sort_pairs([]), want=[])"
      ]
    },
    {
      "cell_type": "markdown",
      "metadata": {
        "id": "X48GNeXUMG4M"
      },
      "source": [
        "### 1.2 `deep_add`\n",
        "\n",
        "Add all the integers in the list (whose elements might also be lists of lists).\n",
        "\n",
        "Hint: You can use `type(object) == object_type` or `isinstance(object, object_type)` to check the type of an object\n"
      ]
    },
    {
      "cell_type": "code",
      "execution_count": null,
      "metadata": {
        "id": "lEPYfa5nMG4M"
      },
      "outputs": [],
      "source": [
        "def deep_add(lst):\n",
        "\n",
        "    if not lst:\n",
        "        return 0\n",
        "\n",
        "    total_sum = 0\n",
        "\n",
        "    for item in lst:\n",
        "\n",
        "        if isinstance(item, int):\n",
        "            total_sum += item\n",
        "        elif isinstance(item, list):\n",
        "            total_sum += deep_add(item)\n",
        "    return total_sum\n"
      ]
    },
    {
      "cell_type": "code",
      "execution_count": null,
      "metadata": {
        "id": "2aKncAZKMG4M",
        "outputId": "4d25856a-e83b-4dea-b3f4-d8044b3abf18",
        "colab": {
          "base_uri": "https://localhost:8080/"
        }
      },
      "outputs": [
        {
          "output_type": "stream",
          "name": "stdout",
          "text": [
            "Test case passed.\n",
            "Test case passed.\n"
          ]
        }
      ],
      "source": [
        "assert_equal(got=deep_add([3, 5, [1, 3], 6]), want=18)\n",
        "assert_equal(got=deep_add([2]), want=2)"
      ]
    },
    {
      "cell_type": "markdown",
      "metadata": {
        "id": "KE4xFKaNMG4N"
      },
      "source": [
        "### 1.3 `spell_check`\n",
        "Spelling can be hard! A TA has accidentally spelled ```Jamcoders``` as ```Jmacoders``` in a few places. Write a recursive function to replace every instance of \"Jmacoders\" in a list with \"Jamcoders\"."
      ]
    },
    {
      "cell_type": "code",
      "execution_count": 1,
      "metadata": {
        "id": "pe2t1Ri-MG4N"
      },
      "outputs": [],
      "source": [
        "def spell_check(lst):\n",
        "\n",
        "    if not lst:\n",
        "        return []\n",
        "\n",
        "    first_element = lst[0]\n",
        "    corrected_element = first_element.replace(\"Jmacoders\", \"Jamcoders\")\n",
        "    rest_corrected = spell_check(lst[1:])\n",
        "    return [corrected_element] + rest_corrected\n",
        "\n",
        "\n"
      ]
    },
    {
      "cell_type": "code",
      "execution_count": 2,
      "metadata": {
        "id": "dJGahmDCMG4N",
        "outputId": "10ac7712-6450-41d7-dcc8-4e8bd98233cf",
        "colab": {
          "base_uri": "https://localhost:8080/",
          "height": 197
        }
      },
      "outputs": [
        {
          "output_type": "error",
          "ename": "NameError",
          "evalue": "ignored",
          "traceback": [
            "\u001b[0;31m---------------------------------------------------------------------------\u001b[0m",
            "\u001b[0;31mNameError\u001b[0m                                 Traceback (most recent call last)",
            "\u001b[0;32m<ipython-input-2-56def461b2b3>\u001b[0m in \u001b[0;36m<cell line: 1>\u001b[0;34m()\u001b[0m\n\u001b[0;32m----> 1\u001b[0;31m \u001b[0massert_equal\u001b[0m\u001b[0;34m(\u001b[0m\u001b[0mgot\u001b[0m\u001b[0;34m=\u001b[0m\u001b[0mspell_check\u001b[0m\u001b[0;34m(\u001b[0m\u001b[0;34m[\u001b[0m\u001b[0;34m\"Jamcoders\"\u001b[0m\u001b[0;34m,\u001b[0m \u001b[0;34m\"Is\"\u001b[0m\u001b[0;34m,\u001b[0m \u001b[0;34m\"Not\"\u001b[0m\u001b[0;34m,\u001b[0m \u001b[0;34m\"Spelled\"\u001b[0m\u001b[0;34m,\u001b[0m \u001b[0;34m\"Jmacoders\"\u001b[0m\u001b[0;34m,\u001b[0m \u001b[0;34m\"Right?\"\u001b[0m\u001b[0;34m]\u001b[0m\u001b[0;34m)\u001b[0m\u001b[0;34m,\u001b[0m \u001b[0mwant\u001b[0m\u001b[0;34m=\u001b[0m\u001b[0;34m[\u001b[0m\u001b[0;34m\"Jamcoders\"\u001b[0m\u001b[0;34m,\u001b[0m \u001b[0;34m\"Is\"\u001b[0m\u001b[0;34m,\u001b[0m \u001b[0;34m\"Not\"\u001b[0m\u001b[0;34m,\u001b[0m \u001b[0;34m\"Spelled\"\u001b[0m\u001b[0;34m,\u001b[0m \u001b[0;34m\"Jamcoders\"\u001b[0m\u001b[0;34m,\u001b[0m \u001b[0;34m\"Right?\"\u001b[0m\u001b[0;34m]\u001b[0m\u001b[0;34m)\u001b[0m\u001b[0;34m\u001b[0m\u001b[0;34m\u001b[0m\u001b[0m\n\u001b[0m",
            "\u001b[0;31mNameError\u001b[0m: name 'assert_equal' is not defined"
          ]
        }
      ],
      "source": [
        "assert_equal(got=spell_check([\"Jamcoders\", \"Is\", \"Not\", \"Spelled\", \"Jmacoders\", \"Right?\"]), want=[\"Jamcoders\", \"Is\", \"Not\", \"Spelled\", \"Jamcoders\", \"Right?\"])"
      ]
    },
    {
      "cell_type": "markdown",
      "metadata": {
        "id": "Fq40TOOEMG4N"
      },
      "source": [
        "### 1.4 `find_max_population`\n",
        "\n",
        "The following is a list of places in Jamaica and their population. Each entry is a list with two elements: the first is the name of the place, and the second is the population.\n",
        "\n",
        "`[(\"Spanish Town\", 147152), (\"Kingston\", 1041203), (\"Montego Bay\", 110115), (\"Portmore\", 182153)]`.\n",
        "\n",
        "The function should return the population of the most populous city.\n",
        "\n",
        "Note: Do not use the *max* function."
      ]
    },
    {
      "cell_type": "code",
      "execution_count": null,
      "metadata": {
        "id": "KLsFqMa2MG4N"
      },
      "outputs": [],
      "source": [
        "def find_max_population(lst):\n",
        "\n",
        "    if not lst:\n",
        "        return 0\n",
        "    first_population = lst[0][1]\n",
        "    max_population_rest = find_max_population(lst[1:])\n",
        "    return max(first_population, max_population_rest)\n",
        "\n"
      ]
    },
    {
      "cell_type": "code",
      "execution_count": null,
      "metadata": {
        "id": "aor_NVjWMG4O"
      },
      "outputs": [],
      "source": [
        "assert_equal(got=find_max_population([(\"Spanish Town\", 147152),(\"Kingston\", 1041203), (\"Montego Bay\", 110115), (\"Portmore\", 182153)]), want=1041203)"
      ]
    },
    {
      "cell_type": "markdown",
      "metadata": {
        "id": "9-XEACEfMG4O"
      },
      "source": [
        "## 2. Recursion and Counting\n",
        "### 2.1 `count_arrangements`\n",
        "\n",
        "Suppose there are $N$ students in JamCoders. How many different ways can the students sit in the computer lab assuming there are only $N$ places to sit?\n",
        "\n",
        "*Hint:* Suppose there are $5$ students ($N = 5$). Then, in the first seat, there are $5$ students who can sit in that seat. In the second seat, there are $4$ remaining students who can sit in that seat. In the third, there are $3$ remaining possible students, and so on. So the total number of arrangements of students is $5 \\times 4 \\times 3 \\times 2 \\times 1 = 5! = 120$.\n",
        "\n",
        "<br> > Input: `N = 5`\n",
        "<br> > Output: `120`\n",
        "\n",
        "Seems like we have countless options to rearrange your seats! :)"
      ]
    },
    {
      "cell_type": "code",
      "execution_count": 14,
      "metadata": {
        "id": "M3T9cNixMG4O"
      },
      "outputs": [],
      "source": [
        "def count_arrangements(N):\n",
        "  if N == 0:\n",
        "        return 1  # Base case\n",
        "  else:\n",
        "        return N * count_arrangements(N - 1)\n"
      ]
    },
    {
      "cell_type": "code",
      "execution_count": 15,
      "metadata": {
        "id": "xEgxuXhDMG4O",
        "outputId": "5638b189-da47-4208-c699-36143a45b740",
        "colab": {
          "base_uri": "https://localhost:8080/"
        }
      },
      "outputs": [
        {
          "output_type": "stream",
          "name": "stdout",
          "text": [
            "Test case passed.\n",
            "Test case passed.\n",
            "Test case passed.\n"
          ]
        }
      ],
      "source": [
        "assert_equal(got=count_arrangements(5), want=120)\n",
        "assert_equal(got=count_arrangements(20), want=2432902008176640000)\n",
        "assert_equal(got=count_arrangements(1), want=1)"
      ]
    },
    {
      "cell_type": "markdown",
      "metadata": {
        "id": "Sb2TysjxMG4O"
      },
      "source": [
        "### 2.2 `count_parking`\n",
        "\n",
        "You have recently built a parking lot and wish to test it out by filling it completely with vehicles.\n",
        "\n",
        "The parking lot can be modelled as a long strip of squares, one next to the other. When a scooter parks, it takes up exactly one square. When a car parks, it takes up exactly two (adjacent) squares.\n",
        "\n",
        "Depending on how many (and in what order) cars and scooters park in the lot, it can look substantially different. You'd like to count how many possible ways there are for cars and scooters to park.\n",
        "\n",
        "For example, suppose your parking lot consists of 5 squares. Then there are 8 ways to fill it:\n",
        "- Scooter, Scooter, Scooter, Scooter, Scooter\n",
        "- Scooter, Scooter, Scooter, Car\n",
        "- Scooter, Scooter, Car, Scooter\n",
        "- Scooter, Car, Scooter, Scooter\n",
        "- Car, Scooter, Scooter, Scooter\n",
        "- Scooter, Car, Car\n",
        "- Car, Scooter, Car\n",
        "- Car, Car, Scooter\n",
        "\n",
        "Write recursive code that calculates the number of parking arrangements.\n",
        "\n",
        "Hint: Think about the first vehicle in the left side of the parking lot. If it's a scooter, how much space is left after it? What if it's a car?\n",
        "\n",
        "Reminder: Write your solution that takes into account a basecase that handles the case where the input _```N```_ can become a negative number (-N) during its calculation."
      ]
    },
    {
      "cell_type": "code",
      "execution_count": 16,
      "metadata": {
        "id": "ob46QITwMG4P"
      },
      "outputs": [],
      "source": [
        "def count_parking(N):\n",
        "    \"\"\"\n",
        "    Computes the number of arrangements of vehicles in a parking lot with N squares.\n",
        "\n",
        "    Args:\n",
        "        N (int):\n",
        "            The number of squares in the parking lot.\n",
        "\n",
        "    Returns (int):\n",
        "        The number of arrangements of vehicles.\n",
        "    \"\"\"\n",
        "    if N < 0:\n",
        "        return 0  # Base case\n",
        "    elif N == 0:\n",
        "        return 1  # Base case\n",
        "    else:\n",
        "        return count_parking(N - 1) + count_parking(N - 2)\n",
        "\n",
        "\n",
        "\n"
      ]
    },
    {
      "cell_type": "code",
      "execution_count": 17,
      "metadata": {
        "id": "RljWRJPIMG4P",
        "outputId": "2343d388-3dc6-42cf-b949-f8a916cbd450",
        "colab": {
          "base_uri": "https://localhost:8080/"
        }
      },
      "outputs": [
        {
          "output_type": "stream",
          "name": "stdout",
          "text": [
            "Test case passed.\n",
            "Test case passed.\n",
            "Test case passed.\n",
            "Test case passed.\n",
            "Test case passed.\n",
            "Test case passed.\n",
            "Test case passed.\n"
          ]
        }
      ],
      "source": [
        "assert_equal(got=count_parking(1), want=1)\n",
        "assert_equal(got=count_parking(2), want=2)\n",
        "assert_equal(got=count_parking(3), want=3)\n",
        "assert_equal(got=count_parking(4), want=5)\n",
        "assert_equal(got=count_parking(5), want=8)\n",
        "assert_equal(got=count_parking(6), want=13)\n",
        "assert_equal(got=count_parking(7), want=21)"
      ]
    },
    {
      "cell_type": "markdown",
      "metadata": {
        "id": "0vRSqBaAMG4P"
      },
      "source": [
        "Have you seen this sequence of numbers before?"
      ]
    },
    {
      "cell_type": "markdown",
      "metadata": {
        "id": "YFfHOxY9MG4P"
      },
      "source": [
        "### 2.3 `count_parking2`\n",
        "It turns out that there are way more types of vehicles than just scooters and cars. Given a list of integers, each containing the size of a different vehicle, return the number of ways they can be arranged to fill the parking lot.\n",
        "\n",
        "You may use a`for` loop to iterate through `lst` but a recursive call still needs to be used.\n",
        "\n",
        "Note: `count_parking2(N, [1, 2])` is equivalent to `count_parking(N)`."
      ]
    },
    {
      "cell_type": "code",
      "execution_count": 20,
      "metadata": {
        "id": "bYNUcgrOMG4P"
      },
      "outputs": [],
      "source": [
        "def count_parking2(N, lst):\n",
        "    \"\"\"\n",
        "    Computes the number of arrangements of vehicles in a parking lot with N squares.\n",
        "\n",
        "    Args:\n",
        "        N (int):\n",
        "            The number of squares in the parking lot.\n",
        "        lst (List[int]):\n",
        "            The sizes of available vehicles.\n",
        "\n",
        "    Returns (int):\n",
        "        The number of arrangements of vehicles.\n",
        "    \"\"\"\n",
        "    if N < 0:\n",
        "        return 0  # Base case\n",
        "    elif N == 0:\n",
        "        return 1\n",
        "    else:\n",
        "        total_arrangements = 0\n",
        "        for i in lst:\n",
        "            if N - i >= 0:\n",
        "                total_arrangements += count_parking2(N - i, lst)\n",
        "        return total_arrangements\n",
        "\n"
      ]
    },
    {
      "cell_type": "code",
      "execution_count": 21,
      "metadata": {
        "id": "IPtQBxPcMG4P",
        "outputId": "e59db3b0-db47-49aa-cdaa-8bf0ea59877d",
        "colab": {
          "base_uri": "https://localhost:8080/"
        }
      },
      "outputs": [
        {
          "output_type": "stream",
          "name": "stdout",
          "text": [
            "Test case passed.\n",
            "Test case passed.\n",
            "Test case passed.\n",
            "Test case passed.\n",
            "Test case passed.\n",
            "Test case passed.\n"
          ]
        }
      ],
      "source": [
        "assert_equal(got=count_parking2(2, [3, 4, 6]), want=0)\n",
        "assert_equal(got=count_parking2(5, [1, 2, 3]), want=13)\n",
        "assert_equal(got=count_parking2(20, [5, 5, 6]), want=16)\n",
        "assert_equal(got=count_parking2(15, [1, 1]), want=32768)\n",
        "assert_equal(got=count_parking2(6, [1, 2]), want=13)\n",
        "assert_equal(got=count_parking2(23, [2, 4, 6, 8, 10, 12]), want=0)"
      ]
    },
    {
      "cell_type": "markdown",
      "metadata": {
        "id": "qfFM7MquMG4Q"
      },
      "source": [
        "### 2.4 `count_paths`\n",
        "\n",
        "You are stuck in an N x M grid and need to escape! You start at the top left corner of the grid, and the only exit is in the bottom right corner of the grid. In each minute, you can move either one square down or one square to the right (but not up, left, diagonally, etc.). You can already see that it will take you (N - 1) + (M - 1) minutes to escape, but now you're wondering how many different paths you can take to the exit.\n",
        "\n",
        "For example, if you are in a 3 x 3 grid, there are 6 ways to get to the exit:\n",
        "- Right, Right, Down, Down\n",
        "- Right, Down, Right, Down\n",
        "- Right, Down, Down, Right\n",
        "- Down, Right, Right, Down\n",
        "- Down, Right, Down, Right\n",
        "- Down, Down, Right, Right\n",
        "\n",
        "Write recursive code that calculates the number of paths.\n",
        "\n",
        "Hint: Think about your first action. If you move right, what happens to the \"available spaces\" on the grid? What if you move down?"
      ]
    },
    {
      "cell_type": "code",
      "execution_count": 22,
      "metadata": {
        "id": "h1zy-2QHMG4Q"
      },
      "outputs": [],
      "source": [
        "def count_paths(N, M):\n",
        "    \"\"\"\n",
        "    Computes the number of paths from the start to the exit of an N x M grid.\n",
        "\n",
        "    Args:\n",
        "        N (int):\n",
        "            The height of the grid.\n",
        "        M (int):\n",
        "            The width of the grid.\n",
        "\n",
        "    Returns (int):\n",
        "        The number of paths from the start to the exit.\n",
        "    \"\"\"\n",
        "    if N == 1 or M == 1:\n",
        "        return 1  # Base case: If N or M is 1, there's only one way to move (straight down or straight right)\n",
        "    else:\n",
        "        return count_paths(N - 1, M) + count_paths(N, M - 1)\n",
        "        # Recursive case: sum of paths from moving down and paths from moving right\n",
        "\n",
        "\n"
      ]
    },
    {
      "cell_type": "code",
      "execution_count": 23,
      "metadata": {
        "id": "JLRWzKMgMG4Q",
        "outputId": "57b8f847-fb62-46b6-f37e-ec55e1bb18c4",
        "colab": {
          "base_uri": "https://localhost:8080/"
        }
      },
      "outputs": [
        {
          "output_type": "stream",
          "name": "stdout",
          "text": [
            "Test case passed.\n",
            "Test case passed.\n",
            "Test case passed.\n",
            "Test case passed.\n",
            "Test case passed.\n"
          ]
        }
      ],
      "source": [
        "assert_equal(got=count_paths(1, 1), want=1)\n",
        "assert_equal(got=count_paths(1, 3), want=1)\n",
        "assert_equal(got=count_paths(3, 3), want=6)\n",
        "assert_equal(got=count_paths(6, 2), want=6)\n",
        "assert_equal(got=count_paths(3, 6), want=21)"
      ]
    },
    {
      "cell_type": "code",
      "source": [],
      "metadata": {
        "id": "CpTwodakYkHp"
      },
      "execution_count": null,
      "outputs": []
    }
  ],
  "metadata": {
    "language_info": {
      "name": "python"
    },
    "orig_nbformat": 4,
    "colab": {
      "provenance": [],
      "include_colab_link": true
    },
    "kernelspec": {
      "name": "python3",
      "display_name": "Python 3"
    }
  },
  "nbformat": 4,
  "nbformat_minor": 0
}