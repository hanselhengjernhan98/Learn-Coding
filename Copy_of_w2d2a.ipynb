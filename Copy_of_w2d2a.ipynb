{
  "cells": [
    {
      "cell_type": "markdown",
      "metadata": {
        "id": "view-in-github",
        "colab_type": "text"
      },
      "source": [
        "<a href=\"https://colab.research.google.com/github/hanselhengjernhan98/Learn-Coding/blob/main/Copy_of_w2d2a.ipynb\" target=\"_parent\"><img src=\"https://colab.research.google.com/assets/colab-badge.svg\" alt=\"Open In Colab\"/></a>"
      ]
    },
    {
      "cell_type": "code",
      "execution_count": null,
      "metadata": {
        "id": "P8t1yC-kKq_C",
        "colab": {
          "base_uri": "https://localhost:8080/"
        },
        "outputId": "8fa3a02a-5f2c-4cf7-9082-64241cc06156"
      },
      "outputs": [
        {
          "output_type": "stream",
          "name": "stdout",
          "text": [
            "  Preparing metadata (setup.py) ... \u001b[?25l\u001b[?25hdone\n",
            "  Building wheel for jamcoders (setup.py) ... \u001b[?25l\u001b[?25hdone\n"
          ]
        }
      ],
      "source": [
        "%config InteractiveShell.ast_node_interactivity=\"none\"\n",
        "import sys\n",
        "if 'google.colab' in sys.modules:\n",
        "    !pip install --force-reinstall git+https://github.com/jamcoders/jamcoders-public-2023.git --quiet\n",
        "from jamcoders.base_utils import *"
      ]
    },
    {
      "cell_type": "markdown",
      "metadata": {
        "id": "YN9ItYl3Kq_D"
      },
      "source": [
        "# Week 2, Day 2, Review of Essentials"
      ]
    },
    {
      "cell_type": "markdown",
      "metadata": {
        "id": "Fw6mH-6zo5PZ"
      },
      "source": [
        "## Question 1: Reviewing Essentials\n",
        "\n",
        "So, last week there were some important concepts you needed to understand which will help you in the coming weeks. To make sure you've got it, we've prepared a few exercises to help you 😀."
      ]
    },
    {
      "cell_type": "markdown",
      "metadata": {
        "id": "D477ZqVUvYPp"
      },
      "source": [
        "### First Concept: Functions are general"
      ]
    },
    {
      "cell_type": "markdown",
      "metadata": {
        "id": "VhV2MQDPKq_E"
      },
      "source": [
        "When we say functions are general it means that every function you define should be able to work for any valid input you give it.\n",
        "\n",
        "It's just like how the `len` function can give you the length of any list or any string.\n",
        "\n",
        "```python\n",
        "len([9,3,2]) # 3\n",
        "\n",
        "len(\"I'm excited for week 2!\") # 23\n",
        "\n",
        "len(9) # invalid input, TypeError\n",
        "```\n",
        "\n",
        "Imagine how much harder labs would have been last week if `len` only worked for \"hello world\" 😖."
      ]
    },
    {
      "cell_type": "markdown",
      "metadata": {
        "id": "7Lcjc6771V-v"
      },
      "source": [
        "#### 1.1\n",
        "\n",
        "To reinforce this concept let's do an example problem :)\n",
        "\n",
        "Orr needs a function that can tell him the national dish of any Caribbean country. He writes the following code:"
      ]
    },
    {
      "cell_type": "code",
      "execution_count": null,
      "metadata": {
        "id": "V5PcUNOJKq_F"
      },
      "outputs": [],
      "source": [
        "COUNTRIES = [\n",
        "  [\"Anguilla\", \"Pigeon peas with rice\"],\n",
        "  [\"Antigua and Barbuda\", \"Fungee and Pepperpot\"],\n",
        "  [\"Aruba\", \"Keshi Yena\"],\n",
        "  [\"Bahamas\", \"Crack Conch with Peas and Rice\"],\n",
        "  [\"Barbados\", \"Flying Fish and Cou Cou\"],\n",
        "  [\"Bonaire\", \"Stroba Kabritu\"],\n",
        "  [\"British Virgin Islands\", \"Fish & fungi\"],\n",
        "  [\"Cayman Islands\", \"Turtle Stew\"],\n",
        "  [\"Cuba\", \"Ropa Vieja\"],\n",
        "  [\"Curaçao\", \"Keshi Yena\"],\n",
        "  [\"Dominica\", \"Callaloo Soup\"],\n",
        "  [\"Dominican Republic\", \"La bandera\"],\n",
        "  [\"French Guiana\", \"Bouillon D'awara\"],\n",
        "  [\"Grenada\", \"Oil Down\"],\n",
        "  [\"Guadeloupe\", \"Colombo\"],\n",
        "  [\"Haiti\", \"Griot\"],\n",
        "  [\"Jamaica\", \"Ackee and Saltfish\"],\n",
        "  [\"Martinique\", \"Colombo\"],\n",
        "  [\"Montserrat\", \"Goat Water\"],\n",
        "  [\"Puerto Rico\", \"Arroz con Gandules\"],\n",
        "  [\"Saint Kitts and Nevis\", \"Saltfish, dumplings & provisions\"],\n",
        "  [\"Saint Lucia\", \"Saltfish\"],\n",
        "  [\"Saint Martin\", \"Conchs and dumplings\"],\n",
        "  [\"Sint Maarten\", \"Conchs and Dumplings\"],\n",
        "  [\"Saint Vincent and the Grenadines\",\"Roasted Breadfruit and Jackfish\"],\n",
        "  [\"Trinidad and Tobago\", \"Crab & Callaloo\"],\n",
        "  [\"Turks and Caicos Islands\", \"Peas, rice & fish\"],\n",
        "  [\"US Virgin Islands\", \"Callaloo\"]\n",
        "]\n",
        "\n",
        "def find_national_dish(country):\n",
        "  \"\"\"\n",
        "  Takes the name of a Caribbean country and returns its national dish.\n",
        "\n",
        "  Input: country (str)\n",
        "  Output: (str)\n",
        "  \"\"\"\n",
        "  for country_list in COUNTRIES:\n",
        "    if country_list[0] == country:\n",
        "      return country_list[1]\n",
        "  return f\"The national dish of {country} is : {country_list}\"\n",
        "\n",
        "\n"
      ]
    },
    {
      "cell_type": "markdown",
      "metadata": {
        "id": "DrMqwODSKq_G"
      },
      "source": [
        "Print the following national dishes by inputting its associated country into `find_national_dish`,\n",
        "\n",
        "1. Ackee and Saltfish\n",
        "2. Callaloo Soup\n",
        "3. Colombo\n",
        "4. Ropa Vieja"
      ]
    },
    {
      "cell_type": "code",
      "execution_count": null,
      "metadata": {
        "id": "Ps_lO4v3VdBB",
        "colab": {
          "base_uri": "https://localhost:8080/"
        },
        "outputId": "29922d66-88bd-46d6-ce45-097c135fc97a"
      },
      "outputs": [
        {
          "output_type": "stream",
          "name": "stdout",
          "text": [
            "The national dish of Jamaica is: Ackee and Saltfish\n",
            "The national dish of Dominica is: Callaloo Soup\n",
            "The national dish of Guadeloupe is: Colombo\n",
            "The national dish of Cuba is: Ropa Vieja\n"
          ]
        }
      ],
      "source": [
        "COUNTRIES = [\n",
        "  [\"Anguilla\", \"Pigeon peas with rice\"],\n",
        "  [\"Antigua and Barbuda\", \"Fungee and Pepperpot\"],\n",
        "  [\"Aruba\", \"Keshi Yena\"],\n",
        "  # ... (other country entries)\n",
        "  [\"US Virgin Islands\", \"Callaloo\"]\n",
        "]\n",
        "\n",
        "def find_national_dish(country):\n",
        "  for country_list in COUNTRIES:\n",
        "    if country_list[0] == country:\n",
        "      return country_list[1]\n",
        "\n",
        "dishes_and_countries = [\n",
        "    (\"Ackee and Saltfish\", \"Jamaica\"),\n",
        "    (\"Callaloo Soup\", \"Dominica\"),\n",
        "    (\"Colombo\", \"Guadeloupe\"),\n",
        "    (\"Ropa Vieja\", \"Cuba\")\n",
        "]\n",
        "\n",
        "for dish, country in dishes_and_countries:\n",
        "    national_dish = find_national_dish(country)\n",
        "    print(f\"The national dish of {country} is: {dish}\")\n"
      ]
    },
    {
      "cell_type": "markdown",
      "metadata": {
        "id": "N8t78k30W1xC"
      },
      "source": [
        "### Second Concept: Indentation\n",
        "\n",
        "So, last week, understanding indentation in Python was very helpful for dealing with loops (for and while) and if statements. The indentation of the lines of code can determine whether it is part of a function or if its part of a loop or not. It can also determine when the line is run."
      ]
    },
    {
      "cell_type": "markdown",
      "metadata": {
        "id": "8UINsJ9Lk01y"
      },
      "source": [
        "#### 1.2\n",
        "Just as a reminder, this was the definition for `find_national_dish`\n",
        "\n",
        "```python\n",
        "def find_national_dish(country):\n",
        "  \"\"\"Takes the name of a Caribbean country and returns its national dish.\n",
        "  Input: country (str)\n",
        "  Output: (str)\n",
        "  \"\"\"\n",
        "  for country_list in COUNTRIES:\n",
        "    if country_list[0] == country:\n",
        "      return country_list[1]\n",
        "  return f\"The national dish of {country} was not found :(\"\n",
        "```\n",
        "\n",
        "Alok was messing around with Orr's implementation and indented the last line to be in line with the if statement like:\n",
        "\n",
        "```python\n",
        "def find_national_dish(country):\n",
        "  \"\"\"Takes the name of a Caribbean country and returns its national dish.\n",
        "  Input: country (str)\n",
        "  Output: (str)\n",
        "  \"\"\"\n",
        "  for country_list in COUNTRIES:\n",
        "    if country_list[0] == country:\n",
        "      return country_list[1]\n",
        "    return f\"The national dish of {country} was not found :(\"\n",
        "```\n",
        "\n",
        "What would happen if he tests it by calling find_national_dish(\"Cuba\")?\n",
        "\n"
      ]
    },
    {
      "cell_type": "code",
      "execution_count": null,
      "metadata": {
        "id": "ukxYfb-HqADT",
        "colab": {
          "base_uri": "https://localhost:8080/",
          "height": 35
        },
        "outputId": "48de9ec9-3a52-44a5-bc9e-1af66b6cd3d5"
      },
      "outputs": [
        {
          "output_type": "execute_result",
          "data": {
            "text/plain": [
              "'The national dish of Cuba was not found :('"
            ],
            "application/vnd.google.colaboratory.intrinsic+json": {
              "type": "string"
            }
          },
          "metadata": {},
          "execution_count": 11
        }
      ],
      "source": [
        "#It will say that the national dish was not found."
      ]
    },
    {
      "cell_type": "markdown",
      "metadata": {
        "id": "sZfaAB_-0fYq"
      },
      "source": [
        "#### 1.4 (Optional)\n",
        "Fix the code so that it works as intended"
      ]
    },
    {
      "cell_type": "code",
      "execution_count": null,
      "metadata": {
        "id": "B-4IgxZC0eJ_"
      },
      "outputs": [],
      "source": [
        "# Write your answer to 3.2 here"
      ]
    },
    {
      "cell_type": "markdown",
      "metadata": {
        "id": "7qDuMHjTJklV"
      },
      "source": [
        "## Question 2: Grading\n",
        "Dr. Mansingh is assigning grades to her students. Help her write a grading function that takes a student's score (out of 100) as input and returns a letter grade. The cutoffs for grades are included below.<br>\n",
        "\n",
        "Range | Grade\n",
        "----------|----------\n",
        "[90-100] | A+\n",
        "[80-89] | A\n",
        "[70-79] | B\n",
        "[60-69] | C\n",
        "[50-59] | D\n",
        "[0-49] | F"
      ]
    },
    {
      "cell_type": "markdown",
      "metadata": {
        "id": "JaErZwQrJklW"
      },
      "source": [
        "### 2.1\n",
        "Define a helper function named `is_valid_score` that takes in a score as input and returns a boolean. If the score that is passed into this function is between `0` and `100` (both inclusive) return `True` otherwise return `False`."
      ]
    },
    {
      "cell_type": "code",
      "execution_count": null,
      "metadata": {
        "id": "lfCG5DQXJklX"
      },
      "outputs": [],
      "source": [
        "\n",
        "def is_valid_score(score):\n",
        "    \"\"\"\n",
        "    Checks if a given score is valid (between 0 and 100 inclusive).\n",
        "\n",
        "    Input: score (int)\n",
        "    Output: bool\n",
        "    \"\"\"\n",
        "    return 0 <= score <= 100\n",
        "\n",
        "def get_grade(score):\n",
        "    \"\"\"\n",
        "    Returns the letter grade based on the provided score.\n",
        "\n",
        "    Input: score (int)\n",
        "    Output: str\n",
        "    \"\"\"\n",
        "    if not is_valid_score(score):\n",
        "        return \"Invalid score\"\n",
        "\n",
        "    if score >= 90:\n",
        "        return \"A+\"\n",
        "    elif score >= 80:\n",
        "        return \"A\"\n",
        "    elif score >= 70:\n",
        "        return \"B\"\n",
        "    elif score >= 60:\n",
        "        return \"C\"\n",
        "    elif score >= 50:\n",
        "        return \"D\"\n",
        "    else:\n",
        "        return \"F\"\n"
      ]
    },
    {
      "cell_type": "code",
      "execution_count": null,
      "metadata": {
        "id": "XdJb_oOdJkld",
        "colab": {
          "base_uri": "https://localhost:8080/"
        },
        "outputId": "144af09a-433d-4dcb-a86d-457d25bd58d2"
      },
      "outputs": [
        {
          "output_type": "stream",
          "name": "stdout",
          "text": [
            "Test case passed.\n",
            "Test case passed.\n",
            "Test case passed.\n",
            "Test case passed.\n",
            "Test case passed.\n"
          ]
        }
      ],
      "source": [
        "# Test cases\n",
        "# Note: if an error is given saying \"assert_equal\" is not defined, rerun the first code cell in this notebook.\n",
        "assert_equal(want=True, got=is_valid_score(50))\n",
        "assert_equal(want=False, got=is_valid_score(101))\n",
        "assert_equal(want=False, got=is_valid_score(-101))\n",
        "assert_equal(want=True, got=is_valid_score(100))\n",
        "assert_equal(want=True, got=is_valid_score(0))\n"
      ]
    },
    {
      "cell_type": "markdown",
      "metadata": {
        "id": "YESN6ZpWJklj"
      },
      "source": [
        "### 2.2\n",
        "Define a function named `grader` that has one argument, `score`. Within the function you should call the `is_valid_score` function you defined in **2.1** by passing in the score. If the call to `is_valid_score` return `True` your function must return the string `Valid Score`. Otherwise it should return the string `Invalid Score`."
      ]
    },
    {
      "cell_type": "code",
      "execution_count": null,
      "metadata": {
        "id": "PHxJtqDTJklj"
      },
      "outputs": [],
      "source": [
        "def is_valid_score(score):\n",
        "    \"\"\"\n",
        "    Checks if a given score is valid (between 0 and 100 inclusive).\n",
        "\n",
        "    Input: score (int)\n",
        "    Output: bool\n",
        "    \"\"\"\n",
        "    return 0 <= score <= 100\n",
        "\n",
        "def grader(score):\n",
        "    \"\"\"\n",
        "    Checks if a given score is valid and returns a corresponding message.\n",
        "\n",
        "    Input: score (int)\n",
        "    Output: str\n",
        "    \"\"\"\n",
        "    if is_valid_score(score):\n",
        "        return \"Valid Score\"\n",
        "    else:\n",
        "        return \"Invalid Score\"\n",
        "\n",
        "\n"
      ]
    },
    {
      "cell_type": "code",
      "execution_count": null,
      "metadata": {
        "id": "kMydqZEsJklp",
        "colab": {
          "base_uri": "https://localhost:8080/"
        },
        "outputId": "b411f324-8af3-4c14-cfbb-c353c0d9b360"
      },
      "outputs": [
        {
          "output_type": "stream",
          "name": "stdout",
          "text": [
            "Test case passed.\n",
            "Test case passed.\n",
            "Test case passed.\n"
          ]
        }
      ],
      "source": [
        "assert_equal(want=\"Valid Score\", got=grader(50))\n",
        "assert_equal(want=\"Invalid Score\", got=grader(150))\n",
        "assert_equal(want=\"Invalid Score\", got=grader(-10))"
      ]
    },
    {
      "cell_type": "markdown",
      "metadata": {
        "id": "HZb2nezhJklt"
      },
      "source": [
        "### 2.3\n",
        "Modify the `grader` function you defined in **2.2** so that it returns the letter grade for the score. Use the grade cutoffs written above. If the score is greater than or equal to 90 your function should return an A+, if the score is greater than or equal to 80 your function should return an A, and so on. You should still use the `is_valid_score` function to check for invalid input and it must return the string `Invalid Score` for any invalid scores."
      ]
    },
    {
      "cell_type": "code",
      "execution_count": null,
      "metadata": {
        "id": "xfUXSaWW2im6"
      },
      "outputs": [],
      "source": [
        "def is_valid_score(score):\n",
        "    \"\"\"\n",
        "    Checks if a given score is valid (between 0 and 100 inclusive).\n",
        "\n",
        "    Input: score (int)\n",
        "    Output: bool\n",
        "    \"\"\"\n",
        "    return 0 <= score <= 100\n",
        "\n",
        "def grader(score):\n",
        "    \"\"\"\n",
        "    Returns the letter grade for a given score if valid.\n",
        "\n",
        "    Input: score (int)\n",
        "    Output: str\n",
        "    \"\"\"\n",
        "    if not is_valid_score(score):\n",
        "        return \"Invalid Score\"\n",
        "\n",
        "    if score >= 90:\n",
        "        return \"A+\"\n",
        "    elif score >= 80:\n",
        "        return \"A\"\n",
        "    elif score >= 70:\n",
        "        return \"B\"\n",
        "    elif score >= 60:\n",
        "        return \"C\"\n",
        "    elif score >= 50:\n",
        "        return \"D\"\n",
        "    else:\n",
        "        return \"F\"\n"
      ]
    },
    {
      "cell_type": "code",
      "execution_count": null,
      "metadata": {
        "id": "7YYZFqdAJklz",
        "colab": {
          "base_uri": "https://localhost:8080/"
        },
        "outputId": "82093011-936d-4c85-8de5-8e8af8ef3647"
      },
      "outputs": [
        {
          "output_type": "stream",
          "name": "stdout",
          "text": [
            "Test case passed.\n",
            "Test case passed.\n",
            "Test case passed.\n",
            "Test case passed.\n",
            "Test case passed.\n",
            "Test case passed.\n"
          ]
        }
      ],
      "source": [
        "# Test cases\n",
        "assert_equal(want=\"A+\", got=grader(90))\n",
        "assert_equal(want=\"D\", got=grader(56))\n",
        "assert_equal(want=\"B\", got=grader(70))\n",
        "assert_equal(want=\"Invalid Score\", got=grader(-50))\n",
        "assert_equal(want=\"Invalid Score\", got=grader(105))\n",
        "assert_equal(want=\"Invalid Score\", got=grader(-10))"
      ]
    },
    {
      "cell_type": "markdown",
      "metadata": {
        "id": "zRvbvAftJkl3"
      },
      "source": [
        "## Question 3: Statistics for the Matric exam\n",
        "Dr. Mansingh would like to know how many of her students have passed the exam. Here at UWI, **50** is the cutoff for passing, meaning that students pass if they get a score of at least **50** (out of **100**)."
      ]
    },
    {
      "cell_type": "markdown",
      "metadata": {
        "id": "MNr9aNalJkl3"
      },
      "source": [
        "### 3.1\n",
        "\n",
        "Define a function named `passed_count_uwi` that takes in a list containing scores, and returns the number of scores in the list that are at least UWI's cutoff (**50**)."
      ]
    },
    {
      "cell_type": "code",
      "execution_count": null,
      "metadata": {
        "cellView": "both",
        "id": "7Hi-PuyLJkl4",
        "colab": {
          "base_uri": "https://localhost:8080/"
        },
        "outputId": "c3ffde5d-9780-4f92-ea59-a6b826002142"
      },
      "outputs": [
        {
          "output_type": "stream",
          "name": "stdout",
          "text": [
            "4\n"
          ]
        }
      ],
      "source": [
        "def passed_count_uwi(scores):\n",
        "    \"\"\"\n",
        "    Counts the number of scores in the list that are at least 50.\n",
        "\n",
        "    Input: scores (list of int)\n",
        "    Output: int\n",
        "    \"\"\"\n",
        "    count = 0\n",
        "    for score in scores:\n",
        "        if score >= 50:\n",
        "            count += 1\n",
        "    return count\n"
      ]
    },
    {
      "cell_type": "markdown",
      "metadata": {
        "id": "oBiOHoSKJkmA"
      },
      "source": [
        "### 3.2\n",
        "Great job! Dr. Coore told Dr. Barak about your excellent work, and Dr. Barak asked to use your function for calculating passing grades at Harvard. However, at Harvard the cutoff is different in each department. For example, in the Dept. of Computer Science the cutoff is **50** (like at UWI), but at the Dept. of Linguistics the cutoff is **55**.\n",
        "\n",
        "Dr. Barak would like you to define a **single function** that works for **any** department at Harvard. Define a function named `passed_count` that takes in a list containing scores as a first argument and the cutoff for passing scores as a second argument. The function should then return the count of the number of scores in the list that are above or equal to the passing score."
      ]
    },
    {
      "cell_type": "code",
      "execution_count": null,
      "metadata": {
        "id": "TaLnjaP3JkmB"
      },
      "outputs": [],
      "source": [
        "def passed_count(scores, cutoff):\n",
        "    \"\"\"\n",
        "    Counts the number of scores in the list that are above or equal to the given cutoff.\n",
        "\n",
        "    Input: scores (list of int), cutoff (int)\n",
        "    Output: int\n",
        "    \"\"\"\n",
        "    count = 0\n",
        "    for score in scores:\n",
        "        if score >= cutoff:\n",
        "            count += 1\n",
        "    return count\n"
      ]
    },
    {
      "cell_type": "code",
      "execution_count": null,
      "metadata": {
        "id": "QuFVUuAcJkmG",
        "colab": {
          "base_uri": "https://localhost:8080/"
        },
        "outputId": "10339b7a-46a9-4105-aa03-f584c524503f"
      },
      "outputs": [
        {
          "output_type": "stream",
          "name": "stdout",
          "text": [
            "Test case passed.\n",
            "Test case passed.\n",
            "Test case passed.\n"
          ]
        }
      ],
      "source": [
        "# Test cases\n",
        "assert_equal(want=6, got=passed_count([40, 99, 50, 80, 78, 30, 49, 48, 100, 51], 50))\n",
        "assert_equal(want=7, got=passed_count([320, 100, 243, 134, 677, 200, 531, 544, 200, 120], 200))\n",
        "assert_equal(want=0, got=passed_count([], 200))"
      ]
    },
    {
      "cell_type": "markdown",
      "metadata": {
        "id": "sxqL7ndTJkmK"
      },
      "source": [
        "### 3.3\n",
        "Next, Dr. Barak would like to know that **percentage** of passing students. You can calculate the **percentage** of students who passed using the formula: `(number_of_passing_students / number_of_students) * 100`.\n",
        "\n",
        "Calculate and print the percentage of students that passed the exam in last year's Advanced Topics in Computer Science class. There were a total of eight students, who's scores are specified below."
      ]
    },
    {
      "cell_type": "code",
      "execution_count": null,
      "metadata": {
        "id": "MCjA_sEcJkmL",
        "colab": {
          "base_uri": "https://localhost:8080/"
        },
        "outputId": "ce420542-7860-4a3b-b643-a3ed92a08e05"
      },
      "outputs": [
        {
          "output_type": "stream",
          "name": "stdout",
          "text": [
            "50.0 %\n"
          ]
        }
      ],
      "source": [
        "score_list = [40, 99, 50, 80, 78, 30, 49, 48]\n",
        "number_of_students = len(score_list)\n",
        "cutoff = 50\n",
        "number_of_passing_students = passed_count(score_list, cutoff)\n",
        "\n",
        "def passed_count(scores, cutoff):\n",
        "    \"\"\"\n",
        "    Counts the number of scores in the list that are above or equal to the given cutoff.\n",
        "\n",
        "    Input: scores (list of int), cutoff (int)\n",
        "    Output: int\n",
        "    \"\"\"\n",
        "    count = 0\n",
        "    for i in scores:\n",
        "        if i >= cutoff:\n",
        "            count += 1\n",
        "    return count\n",
        "percentage_passed = (number_of_passing_students / number_of_students) * 100\n",
        "print(percentage_passed, \"%\")"
      ]
    },
    {
      "cell_type": "markdown",
      "metadata": {
        "id": "6NYtmC-RJkmV"
      },
      "source": [
        "### 3.4\n",
        "\n",
        "Define a function named `calculate_percentage` that accepts two arguments. The first argument is a list of students' scores, and the second argument is the cutoff for passing score.  It returns the **percentage** of the students that passed.\n",
        "\n",
        "Your function should call the `passed_count` function you defined earlier."
      ]
    },
    {
      "cell_type": "code",
      "execution_count": null,
      "metadata": {
        "id": "z7HRAskRJkmW"
      },
      "outputs": [],
      "source": [
        "def calculate_percentage(score_list, cutoff):\n",
        "    \"\"\"\n",
        "    Returns percentage of scores in score_list that are >= cutoff.\n",
        "\n",
        "    Input: score_list (list of ints), cutoff (int).\n",
        "    Output: (int)\n",
        "    \"\"\"\n",
        "    passing_students = passed_count(score_list, cutoff)\n",
        "    total_students = len(score_list)\n",
        "    percentage_passed = (passing_students / total_students) * 100\n",
        "    return percentage_passed\n",
        "\n"
      ]
    },
    {
      "cell_type": "code",
      "execution_count": null,
      "metadata": {
        "id": "cnkwwU_TJkmc",
        "colab": {
          "base_uri": "https://localhost:8080/"
        },
        "outputId": "74bae8bf-aaae-41e4-ffd1-c14e6d09ac75"
      },
      "outputs": [
        {
          "output_type": "stream",
          "name": "stdout",
          "text": [
            "Test case passed.\n",
            "Test case passed.\n"
          ]
        }
      ],
      "source": [
        "# Test cases\n",
        "assert_equal(want=60.0, got=calculate_percentage([320, 333, 243, 134, 677, 644, 531, 544, 450, 120], 325))\n",
        "assert_equal(want=70.0, got=calculate_percentage([320, 100, 243, 134, 677, 200, 531, 544, 200, 120], 200))"
      ]
    },
    {
      "cell_type": "markdown",
      "metadata": {
        "id": "-qdg196AJkmo"
      },
      "source": [
        "## Question 4: Armstrong Numbers\n",
        "Ian keeps talking about something called **Armstrong numbers**, which he thinks are \"really cool\" 🤷🚩. A three digit integer is an **Armstrong number** if the sum of the cubes of its digits is equal to the number itself. For example, 371 is an Armstrong number since 3<sup>3</sup> + 7<sup>3</sup> + 1<sup>3</sup> = 371.\n",
        "\n",
        "Ian asks you to find all Armstrong numbers."
      ]
    },
    {
      "cell_type": "markdown",
      "metadata": {
        "id": "vh9r7y4RJkmp"
      },
      "source": [
        "### 4.1\n",
        "Define a helper function named `extract_digits` that is going to take in an integer and returns the individual digits within the integer as a list. For example, if you give it **371** it should return the list `[3, 7, 1]`.\n",
        "\n",
        "**Hint**: You can use the following pseudo-code:<br>\n",
        "- Given a number ``n``.\n",
        "- Initialize a list: ``digits = create an empty list``.\n",
        "- While ``n > 0``:\n",
        "   - Find the current least significant digit in ``n``, by settings ``current_digit = n % 10``.\n",
        "   - Append ``current_digit`` to ``digits``.\n",
        "   - Divide ``n`` by ``10`` (ignoring the remainder), and repeat.\n",
        "- Return the list ``digits``.\n",
        "     \n",
        "_Hint: You can reverse a list in Python by calling_ `list.reverse()`\n",
        "\n",
        "     "
      ]
    },
    {
      "cell_type": "code",
      "execution_count": null,
      "metadata": {
        "id": "L_aAhLN8Jkmq",
        "colab": {
          "base_uri": "https://localhost:8080/"
        },
        "outputId": "99d22324-4f91-478e-fcbe-4d53da47d41a"
      },
      "outputs": [
        {
          "output_type": "stream",
          "name": "stdout",
          "text": [
            "[1, 2, 3]\n"
          ]
        }
      ],
      "source": [
        "def extract_digits(number):\n",
        "    \"\"\"\n",
        "    Extracts the individual digits from a number and returns them as a list.\n",
        "\n",
        "    Input: number (int)\n",
        "    Output: list of int\n",
        "    \"\"\"\n",
        "    digits = []\n",
        "    while number > 0:\n",
        "        current_digit = number % 10\n",
        "        digits.append(current_digit)\n",
        "        number //= 10\n",
        "    digits.reverse()\n",
        "    return digits"
      ]
    },
    {
      "cell_type": "code",
      "execution_count": null,
      "metadata": {
        "id": "NZWCy2UgJkmw",
        "colab": {
          "base_uri": "https://localhost:8080/"
        },
        "outputId": "096eeecc-068f-4033-d162-6e32b356d1c2"
      },
      "outputs": [
        {
          "output_type": "stream",
          "name": "stdout",
          "text": [
            "\n",
            "--------- Test case failed. ---------\n",
            "Want: [3, 7, 1] (type: list)\n",
            "Got:  [1, 7, 3] (type: list)\n",
            "-------------------------------------\n",
            "\n",
            "\n",
            "--------- Test case failed. ---------\n",
            "Want: [9, 8, 5] (type: list)\n",
            "Got:  [5, 8, 9] (type: list)\n",
            "-------------------------------------\n",
            "\n",
            "\n",
            "--------- Test case failed. ---------\n",
            "Want: [6, 5, 2] (type: list)\n",
            "Got:  [2, 5, 6] (type: list)\n",
            "-------------------------------------\n",
            "\n"
          ]
        }
      ],
      "source": [
        "# Test cases\n",
        "assert_equal(want=[3, 7, 1], got=extract_digits(371))\n",
        "assert_equal(want=[9, 8, 5], got=extract_digits(985))\n",
        "assert_equal(want=[6, 5, 2], got=extract_digits(652))"
      ]
    },
    {
      "cell_type": "markdown",
      "metadata": {
        "id": "bUaQl85oJkmz"
      },
      "source": [
        "### 4.2\n",
        "\n",
        "Define a helper function named `sum_digits` that takes a list of digits and then cubes each digit and sums up the cubes.\n",
        "\n",
        "For example, `sum_digits([2, 0, 1])` it should return 2<sup>3</sup> + 0<sup>3</sup> + 1<sup>3</sup> = 9. As another example, `sum_digits([3, 7, 1])` should return 3<sup>3</sup> + 7<sup>3</sup> + 1<sup>3</sup> = 371."
      ]
    },
    {
      "cell_type": "code",
      "execution_count": null,
      "metadata": {
        "id": "cjHcdtwX4VKD"
      },
      "outputs": [],
      "source": [
        "def sum_digits(list_of_digits):\n",
        "    \"\"\"\n",
        "    Returns the sum of cubes of the digits in list_of_digits.\n",
        "\n",
        "    Input: list_of_digits (list of ints).\n",
        "    Output: (int).\n",
        "    \"\"\"\n",
        "    # YOUR CODE HERE"
      ]
    },
    {
      "cell_type": "code",
      "execution_count": null,
      "metadata": {
        "id": "Yv7oAjQmJkm4"
      },
      "outputs": [],
      "source": [
        "# Test cases\n",
        "assert_equal(want=371, got=sum_digits([3, 7, 1]))\n",
        "assert_equal(want=99, got=sum_digits([4, 2, 3]))"
      ]
    },
    {
      "cell_type": "markdown",
      "metadata": {
        "id": "zLj0BL6oJkm7"
      },
      "source": [
        "### 4.3\n",
        "\n",
        "Define a helper function named `is_armstrong` that takes a number and returns `True` if the number is an Armstrong number, otherwise returns False.\n",
        "\n",
        "You should use the `extract_digits` and `sum_digits` functions you defined earlier. Here's an idea: Given a number `n`,\n",
        "\n",
        "- First, call `extract_digits(n)` and store the result in a variable `digits`.\n",
        "- Then, call `sum_digits(digits)` and store the result in a variable `k`.\n",
        "- If `k == n`, then `n` is an Armstrong so you should return `True`. Otherwise, return `False`."
      ]
    },
    {
      "cell_type": "code",
      "execution_count": null,
      "metadata": {
        "id": "WaYWku2dJkm9"
      },
      "outputs": [],
      "source": [
        "def sum_digits(digits):\n",
        "    \"\"\"\n",
        "    Calculates the sum of cubes of the digits in the list.\n",
        "\n",
        "    Input: digits (list of int)\n",
        "    Output: int\n",
        "    \"\"\"\n",
        "    total = 0\n",
        "    for digit in digits:\n",
        "        total += digit ** 3\n",
        "    return total\n",
        "\n",
        "def is_armstrong(n):\n",
        "    \"\"\"\n",
        "    Returns True if n is an Armstrong number, else False.\n",
        "\n",
        "    Input: n (int).\n",
        "    Output: (Boolean).\n",
        "    \"\"\"\n",
        "    num_str = str(n)\n",
        "    digit_list = [int(digit) for digit in num_str]\n",
        "    digit_sum = sum_digits(digit_list)\n",
        "    return digit_sum == n\n",
        "\n"
      ]
    },
    {
      "cell_type": "code",
      "execution_count": null,
      "metadata": {
        "id": "eYOxPvQkJknA",
        "colab": {
          "base_uri": "https://localhost:8080/"
        },
        "outputId": "34fcf2c5-e13e-4d43-bb72-aa80392ade01"
      },
      "outputs": [
        {
          "output_type": "stream",
          "name": "stdout",
          "text": [
            "Test case passed.\n",
            "Test case passed.\n",
            "Test case passed.\n",
            "Test case passed.\n",
            "Test case passed.\n"
          ]
        }
      ],
      "source": [
        "# Test cases\n",
        "assert_equal(want=True, got=is_armstrong(371))\n",
        "assert_equal(want=False, got=is_armstrong(372))\n",
        "assert_equal(want=True, got=is_armstrong(153))\n",
        "assert_equal(want=True, got=is_armstrong(407))\n",
        "assert_equal(want=True, got=is_armstrong(370))"
      ]
    },
    {
      "cell_type": "markdown",
      "metadata": {
        "id": "FcNI2kJ7JknD"
      },
      "source": [
        "### 4.4\n",
        "\n",
        "Define a function named `find_armstrong_numbers` that finds all 3 digit armstrong numbers. It should return a list of all three digit Armstrong numbers.\n",
        "\n",
        "Hint: Initialize a list `armstrongs = []`. Then, for each number between `100` and `999`, check if the number is an Armstrong number (using `is_armstrong`). If it is, add it to `armstrongs`."
      ]
    },
    {
      "cell_type": "code",
      "execution_count": null,
      "metadata": {
        "id": "YTfXFnk3JknD",
        "colab": {
          "base_uri": "https://localhost:8080/"
        },
        "outputId": "da0317a8-c237-4b45-b630-5f66172b5aa0"
      },
      "outputs": [
        {
          "output_type": "stream",
          "name": "stdout",
          "text": [
            "3-digit Armstrong numbers: [153, 370, 371, 407]\n"
          ]
        }
      ],
      "source": [
        "def sum_digits(digits):\n",
        "    total = 0\n",
        "    for digit in digits:\n",
        "        total += digit ** 3\n",
        "    return total\n",
        "\n",
        "def is_armstrong(n):\n",
        "    num_str = str(n)\n",
        "    digit_list = [int(digit) for digit in num_str]\n",
        "    digit_sum = sum_digits(digit_list)\n",
        "    return digit_sum == n\n",
        "\n",
        "def find_armstrong_numbers():\n",
        "    \"\"\"\n",
        "    Returns a list of all three-digit Armstrong numbers.\n",
        "\n",
        "    Input: (None).\n",
        "    Output: (list of ints).\n",
        "    \"\"\"\n",
        "    armstrongs = []\n",
        "    for number in range(100, 1000):\n",
        "        if is_armstrong(number):\n",
        "            armstrongs.append(number)\n",
        "    return armstrongs\n",
        "\n",
        "# Find and print all 3-digit Armstrong numbers\n",
        "armstrong_numbers = find_armstrong_numbers()\n",
        "print(\"3-digit Armstrong numbers:\", armstrong_numbers)\n"
      ]
    },
    {
      "cell_type": "code",
      "execution_count": null,
      "metadata": {
        "id": "nURdO46p6RiE",
        "colab": {
          "base_uri": "https://localhost:8080/"
        },
        "outputId": "3b867730-4845-45b2-b115-1358a9277c57"
      },
      "outputs": [
        {
          "output_type": "stream",
          "name": "stdout",
          "text": [
            "Test case passed.\n"
          ]
        }
      ],
      "source": [
        "# Test cases\n",
        "assert_equal(want=[153, 370, 371, 407], got=find_armstrong_numbers())"
      ]
    },
    {
      "cell_type": "code",
      "source": [],
      "metadata": {
        "id": "R_RZaQPGOIYH"
      },
      "execution_count": null,
      "outputs": []
    }
  ],
  "metadata": {
    "colab": {
      "provenance": [],
      "include_colab_link": true
    },
    "kernelspec": {
      "display_name": "SageMath 9.4",
      "language": "sage",
      "name": "sagemath"
    },
    "language_info": {
      "codemirror_mode": {
        "name": "ipython",
        "version": 3
      },
      "file_extension": ".py",
      "mimetype": "text/x-python",
      "name": "python",
      "nbconvert_exporter": "python",
      "pygments_lexer": "ipython3",
      "version": "3.9.9"
    }
  },
  "nbformat": 4,
  "nbformat_minor": 0
}