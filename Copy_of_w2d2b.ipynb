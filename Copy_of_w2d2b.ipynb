{
  "cells": [
    {
      "cell_type": "markdown",
      "metadata": {
        "id": "view-in-github",
        "colab_type": "text"
      },
      "source": [
        "<a href=\"https://colab.research.google.com/github/hanselhengjernhan98/Learn-Coding/blob/main/Copy_of_w2d2b.ipynb\" target=\"_parent\"><img src=\"https://colab.research.google.com/assets/colab-badge.svg\" alt=\"Open In Colab\"/></a>"
      ]
    },
    {
      "cell_type": "markdown",
      "metadata": {
        "id": "UEQoHAeKBjsD"
      },
      "source": [
        "# Week 2 Day 2B\n"
      ]
    },
    {
      "cell_type": "code",
      "execution_count": 2,
      "metadata": {
        "vscode": {
          "languageId": "python"
        },
        "id": "gqicZZSWK5m3",
        "colab": {
          "base_uri": "https://localhost:8080/"
        },
        "outputId": "0371abbf-3aa1-46df-905f-ac112a75db78"
      },
      "outputs": [
        {
          "output_type": "stream",
          "name": "stdout",
          "text": [
            "  Preparing metadata (setup.py) ... \u001b[?25l\u001b[?25hdone\n",
            "  Building wheel for jamcoders (setup.py) ... \u001b[?25l\u001b[?25hdone\n"
          ]
        }
      ],
      "source": [
        "# Always run this code.\n",
        "# %config InteractiveShell.ast_node_interactivity=\"none\"\n",
        "import sys\n",
        "if 'google.colab' in sys.modules:\n",
        "    !pip install --force-reinstall git+https://github.com/jamcoders/jamcoders-public-2023.git --quiet\n",
        "from jamcoders.base_utils import *"
      ]
    },
    {
      "cell_type": "markdown",
      "metadata": {
        "id": "BB9jFIDsBjsr"
      },
      "source": [
        "<br>\n",
        "<br>\n",
        "\n",
        "## 1. List Indexing\n",
        "**Lists** can be created like this:\n",
        "`list_name = [item1, item2, item3, item4]`\n",
        "\n",
        "### 1.1\n",
        "Create a list called `multiples_of_five` that contains the integers 5, 10, 15, 20, and 25 in that order."
      ]
    },
    {
      "cell_type": "code",
      "execution_count": 2,
      "metadata": {
        "id": "KE9Vg8eeBjsx",
        "vscode": {
          "languageId": "python"
        }
      },
      "outputs": [],
      "source": [
        "multiples_of_five = [5,10,15,20,25]"
      ]
    },
    {
      "cell_type": "markdown",
      "metadata": {
        "id": "myN_pxfLBjs_"
      },
      "source": [
        "\n",
        "List elements can be accessed using *indices*. Each element of the list has a corresponding *index* that starts at 0 for the first element, 1 for the second element, etc.\n",
        "\n",
        "For example, in the list `fruits = ['mango', 'pineapple', 'orange', 'soursop']`, the indexes are as follows:\n",
        "\n",
        "|  **Index**  |  **0**  |    **1**    |   **2**  |   **3**   |\n",
        "|:-----------:|:-------:|:-----------:|:--------:|:---------:|\n",
        "| **Element** | 'mango' | 'pineapple' | 'orange' | 'soursop' |\n",
        "\n",
        "Each element can then be accessed like this: `list_name[item_index]`\n",
        "\n",
        "For example, to access the first element of `'fruits'` which is `'mango'`, you can use `fruits[0]` which returns `'mango'`. If you want to print `'mango'`, you can say `print(fruits[0])` which will print the result: `'mango'`.\n"
      ]
    },
    {
      "cell_type": "markdown",
      "metadata": {
        "id": "p-trkq5UK5m5"
      },
      "source": [
        "### 1.2\n",
        "Print the first element in `multiples_of_five`."
      ]
    },
    {
      "cell_type": "code",
      "execution_count": 4,
      "metadata": {
        "id": "tlqP6kkHBjtF",
        "vscode": {
          "languageId": "python"
        },
        "colab": {
          "base_uri": "https://localhost:8080/"
        },
        "outputId": "507fb32c-e9f0-40f2-bf1b-b313f7af51e0"
      },
      "outputs": [
        {
          "output_type": "execute_result",
          "data": {
            "text/plain": [
              "5"
            ]
          },
          "metadata": {},
          "execution_count": 4
        }
      ],
      "source": [
        "multiples_of_five[0]"
      ]
    },
    {
      "cell_type": "markdown",
      "metadata": {
        "id": "qqR5pfvmBjtQ"
      },
      "source": [
        "### 1.3\n",
        "Remember from previous labs that you can use negative indices for lists. Print the second to last element in `multiples_of_five` using negative indices."
      ]
    },
    {
      "cell_type": "code",
      "execution_count": 5,
      "metadata": {
        "id": "VA6dbDRgBjtX",
        "vscode": {
          "languageId": "python"
        },
        "colab": {
          "base_uri": "https://localhost:8080/"
        },
        "outputId": "533ee813-86ac-4ead-f672-c9112208c641"
      },
      "outputs": [
        {
          "output_type": "execute_result",
          "data": {
            "text/plain": [
              "25"
            ]
          },
          "metadata": {},
          "execution_count": 5
        }
      ],
      "source": [
        "multiples_of_five[-1]"
      ]
    },
    {
      "cell_type": "markdown",
      "metadata": {
        "id": "_aFrVHEsK5m5"
      },
      "source": [
        "<br>\n",
        "<br>\n",
        "\n",
        "## 2. List Slicing\n",
        "\n",
        "When accessing elements from a list using indexes, it is possible to produce a sub-list, containing elements from a specific range of indexes within the list. This is done using list **slicing**.\n",
        "\n",
        "It takes the form: `list_name[index_of_the_first_element_you_want:index_of_the_last_element_you_want_plus_one]`.\n",
        "\n",
        "**For example:**\n",
        "\n",
        "In the list `fruits = ['mango', 'pineapple', 'orange', 'soursop']`, if you want a sublist that contains _the second to third elements_ of the list, you could do this by accessing the relevant indices that follow the form above. Remember that the indices of the list are:\n",
        "\n",
        "|  **Index**  |  **0**  |    **1**    |   **2**  |   **3**   |\n",
        "|:-----------:|:-------:|:-----------:|:--------:|:---------:|\n",
        "| **Element** | 'mango' | 'pineapple' | 'orange' | 'soursop' |\n",
        "\n",
        "In order to access the desired sublist (_the second to third elements_), we can enter the relevant indices while considering the format given above. We can do this is as follows:\n",
        "\n",
        "`fruits[1:3] => ['pineapple', 'orange']`\n",
        "\n",
        "<br>\n",
        "\n",
        "**Note** that the indices on either side of the colon are optional. When one of these is absent, it means the sublist will start or end at the actual start or end of the main list.\n",
        "- In other words, if the left index is absent, the sublist will automatically start at index 0.\n",
        "\n",
        "    `fruits[:2] => ['mango', 'pineapple']`\n",
        "<br>\n",
        "    \n",
        "- If the right index is absent, the sublist will automatically end at the last index.\n",
        "\n",
        "    `fruits[1:] => ['pineapple', 'orange', 'soursop']`\n",
        "\n",
        "\n"
      ]
    },
    {
      "cell_type": "markdown",
      "metadata": {
        "id": "d9LxkZneK5m6"
      },
      "source": [
        "### 2.1\n",
        "Print a sliced list which includes the first three elements of `multiples_of_five` created in 1.1 above."
      ]
    },
    {
      "cell_type": "code",
      "execution_count": 7,
      "metadata": {
        "vscode": {
          "languageId": "python"
        },
        "id": "xwMEGqhnK5m6",
        "colab": {
          "base_uri": "https://localhost:8080/"
        },
        "outputId": "e011c1ea-9ece-4394-864f-bcbcc32d27a5"
      },
      "outputs": [
        {
          "output_type": "execute_result",
          "data": {
            "text/plain": [
              "[5, 10, 15]"
            ]
          },
          "metadata": {},
          "execution_count": 7
        }
      ],
      "source": [
        "multiples_of_five[0:3]\n",
        "\n",
        "# should print out [5,10,15]"
      ]
    },
    {
      "cell_type": "markdown",
      "metadata": {
        "id": "yKK9tGqgK5m6"
      },
      "source": [
        "### 2.2\n",
        "Print a sliced list of `multiples_of_five` which includes its second, third, and fourth elements."
      ]
    },
    {
      "cell_type": "code",
      "execution_count": 8,
      "metadata": {
        "vscode": {
          "languageId": "python"
        },
        "id": "eRgeSy8QK5m6",
        "colab": {
          "base_uri": "https://localhost:8080/"
        },
        "outputId": "7b63008c-ec80-4433-82f1-3e73c059f6bf"
      },
      "outputs": [
        {
          "output_type": "execute_result",
          "data": {
            "text/plain": [
              "[10, 15, 20]"
            ]
          },
          "metadata": {},
          "execution_count": 8
        }
      ],
      "source": [
        "multiples_of_five[1:4]\n",
        "\n",
        "# should print out [10, 15, 20]"
      ]
    },
    {
      "cell_type": "markdown",
      "metadata": {
        "id": "3ba5pd70K5m7"
      },
      "source": [
        "<br>\n",
        "<br>\n",
        "\n",
        "## 3. Appending to a List\n",
        "When you have a list, you can add an item to the end of the list using the `append()` method. It can be used like this:\n",
        "\n",
        "`list_name.append(item_to_be_added)`"
      ]
    },
    {
      "cell_type": "markdown",
      "metadata": {
        "id": "MyBNIovYK5m7"
      },
      "source": [
        "### 3.1\n",
        "Append the next multiple of 5 to the list `multiples_of_five`."
      ]
    },
    {
      "cell_type": "code",
      "execution_count": 9,
      "metadata": {
        "vscode": {
          "languageId": "python"
        },
        "id": "He28tcF4K5m7",
        "colab": {
          "base_uri": "https://localhost:8080/"
        },
        "outputId": "694b24a2-e3fb-4da2-cbcf-d22505024561"
      },
      "outputs": [
        {
          "output_type": "stream",
          "name": "stdout",
          "text": [
            "[5, 10, 15, 20, 25, 30]\n",
            "Test case passed.\n"
          ]
        }
      ],
      "source": [
        "multiples_of_five.append(30)\n",
        "\n",
        "# To test your solution we can print the list\n",
        "print(multiples_of_five)\n",
        "assert_equal(got=multiples_of_five, want=[5,10,15,20,25,30], )"
      ]
    },
    {
      "cell_type": "markdown",
      "metadata": {
        "id": "8DLNIadnK5m7"
      },
      "source": [
        "<br>\n",
        "<br>\n",
        "\n",
        "## 4. Reversing a List"
      ]
    },
    {
      "cell_type": "markdown",
      "metadata": {
        "id": "l3qqFAB9K5m7"
      },
      "source": [
        "### 4.1\n",
        "Create an empty list (a list that contains no elements) called `descending_multiples`."
      ]
    },
    {
      "cell_type": "code",
      "execution_count": 10,
      "metadata": {
        "vscode": {
          "languageId": "python"
        },
        "id": "iOnvyhJtK5m7"
      },
      "outputs": [],
      "source": [
        "descending_multiples = []"
      ]
    },
    {
      "cell_type": "markdown",
      "metadata": {
        "id": "vpKdYvh0K5m7"
      },
      "source": [
        "### 4.2\n",
        "Append the value `30` to `descending_multiples`."
      ]
    },
    {
      "cell_type": "code",
      "execution_count": 11,
      "metadata": {
        "vscode": {
          "languageId": "python"
        },
        "id": "t5vohWTYK5m8"
      },
      "outputs": [],
      "source": [
        "descending_multiples.append(30)"
      ]
    },
    {
      "cell_type": "markdown",
      "metadata": {
        "id": "dCbwr9rIK5m8"
      },
      "source": [
        "### 4.3\n",
        "Using a for loop, append all the other elements of `multiples_of_five` to `descending_multiples`. Start toward the end of the `multiples_of_five` list and work your way backward so that `descending_multiples` contains the same elements but in reverse order. Make sure to write your code so that the value `30` does not appear twice, since you already appended it in **4.2**.\n",
        "\n",
        "Hint: First create a variable called `length` that stores the length of `multiples_of_five`. Use this value within your for loop.\n",
        "\n",
        "Note: You may need to re-run **4.1** and **4.2** while testing your code."
      ]
    },
    {
      "cell_type": "code",
      "execution_count": 7,
      "metadata": {
        "vscode": {
          "languageId": "python"
        },
        "id": "_fL1P7bCK5m8",
        "colab": {
          "base_uri": "https://localhost:8080/"
        },
        "outputId": "3681dcbf-aee6-45e7-b7f5-67adbd603725"
      },
      "outputs": [
        {
          "output_type": "stream",
          "name": "stdout",
          "text": [
            "[30, 25, 20, 15, 10, 5]\n",
            "\n",
            "--------- Test case failed. ---------\n",
            "Want: [30, 25, 20, 15, 10] (type: list)\n",
            "Got:  [30, 25, 20, 15, 10, 5] (type: list)\n",
            "-------------------------------------\n",
            "\n"
          ]
        }
      ],
      "source": [
        "multiples_of_five = [5, 10, 15, 20, 25]\n",
        "multiples_of_five.append(30)\n",
        "\n",
        "descending_multiples = []\n",
        "\n",
        "length = len(multiples_of_five)\n",
        "\n",
        "for i in range(length - 1, -1, -1):\n",
        "\n",
        "    descending_multiples.append(multiples_of_five[i])\n",
        "\n",
        "print(descending_multiples)\n",
        "\n",
        "\n",
        "assert_equal(got=descending_multiples, want=[30, 25, 20, 15, 10])\n"
      ]
    },
    {
      "cell_type": "markdown",
      "metadata": {
        "id": "lL85zXfYBjty"
      },
      "source": [
        "### 4.4\n",
        "Write a function called `reverse_list` that takes in a list `lst` and returns the reversed list.\n",
        "\n",
        "**Ex:** `reverse_list([1, 2, 3, 4]) => [4, 3, 2, 1]`\n",
        "\n",
        "You can do this using a combination of for loops and indexing."
      ]
    },
    {
      "cell_type": "code",
      "execution_count": 8,
      "metadata": {
        "id": "xhEHStYABjt6",
        "vscode": {
          "languageId": "python"
        },
        "colab": {
          "base_uri": "https://localhost:8080/"
        },
        "outputId": "3a6fa56b-e664-488e-db40-30a570ce01ca"
      },
      "outputs": [
        {
          "output_type": "stream",
          "name": "stdout",
          "text": [
            "\n",
            "--------- Test case failed. ---------\n",
            "Want: [10, 15, 20, 25, 30] (type: list)\n",
            "Got:  [5, 10, 15, 20, 25, 30] (type: list)\n",
            "-------------------------------------\n",
            "\n",
            "Test case passed.\n",
            "Test case passed.\n"
          ]
        }
      ],
      "source": [
        "def reverse_list(lst):\n",
        "    \"\"\"\n",
        "    Returns the reversed list of the input list.\n",
        "\n",
        "    Input: lst (list)\n",
        "    Output: list\n",
        "    \"\"\"\n",
        "    reversed_lst = []\n",
        "    for i in range(len(lst) - 1, -1, -1):\n",
        "        reversed_lst.append(lst[i])\n",
        "    return reversed_lst\n",
        "\n",
        "\n",
        "\n",
        "# This tests your solution\n",
        "assert_equal(got=reverse_list(descending_multiples), want=[10, 15, 20, 25, 30])\n",
        "assert_equal(got=reverse_list([6]), want=[6])\n",
        "assert_equal(got=reverse_list([0,3,-9]), want=[-9,3,0])"
      ]
    },
    {
      "cell_type": "markdown",
      "metadata": {
        "id": "bYXz1rXtBjtj"
      },
      "source": [
        "### 4.5\n",
        "Write a function called `reverse_two` that takes in a `lst` and returns a two element list containing the last two elements of `lst` in reverse order.\n",
        "\n",
        "**Ex:** `reverse_two([1, 2, 3, 4]) ==> [4, 3]`"
      ]
    },
    {
      "cell_type": "code",
      "execution_count": 10,
      "metadata": {
        "id": "UjapwZF0Bjto",
        "vscode": {
          "languageId": "python"
        },
        "colab": {
          "base_uri": "https://localhost:8080/"
        },
        "outputId": "59649b65-2cbc-4cde-86ef-4efb7625274f"
      },
      "outputs": [
        {
          "output_type": "stream",
          "name": "stdout",
          "text": [
            "\n",
            "--------- Test case failed. ---------\n",
            "Want: [10, 15] (type: list)\n",
            "Got:  [5, 10] (type: list)\n",
            "-------------------------------------\n",
            "\n"
          ]
        }
      ],
      "source": [
        "def reverse_two(lst):\n",
        "    \"\"\"\n",
        "    Returns a two-element list containing the last two elements of lst in reverse order.\n",
        "\n",
        "    Input: lst (list)\n",
        "    Output: list\n",
        "    \"\"\"\n",
        "    if len(lst) >= 2:\n",
        "        return [lst[-1], lst[-2]]\n",
        "    else:\n",
        "        return lst[::-1]\n",
        "\n",
        "# This tests your solution\n",
        "assert_equal(got=reverse_two(descending_multiples), want=[10, 15])"
      ]
    },
    {
      "cell_type": "markdown",
      "metadata": {
        "id": "2bEISxGiBjuH"
      },
      "source": [
        "## 5. DN that A!"
      ]
    },
    {
      "cell_type": "markdown",
      "metadata": {
        "id": "vT5ro7yBBjuN"
      },
      "source": [
        "### 5.1\n",
        "DNA has 4 bases: Adenine (A), Thymine (T), Cytosine (C), and Guanine (G). Each base fits like a puzzle piece with one other base. Adenine pairs up with Thymine (AT base pairing) and Cytosine pairs up with Guanine (CG base pairing). This is important because DNA is double stranded. Each DNA strand is made up of multiple bases and fits with its other strand using the puzzle piece pairing rules. If we know the bases that make up one strand of DNA, we can figure out which bases make up the other strand by finding each base's complement (the other piece of the puzzle pair). For example:\n",
        "\n",
        "- `ATACGTACGATCA`  - This is the strand we know.\n",
        "- `TATGCATGCTAGT`  - This is the _complement strand_ that we can figure out.\n",
        "\n",
        "\n",
        "As a small exercise, try to figure out the complement strand to the below known strands manually (without code)."
      ]
    },
    {
      "cell_type": "markdown",
      "metadata": {
        "id": "QO6T7lQhK5m9"
      },
      "source": [
        "### 5.1.1 ATCCGGGATCAA\n",
        "Store your answer as a string in a variable called `complement1`."
      ]
    },
    {
      "cell_type": "code",
      "execution_count": 15,
      "metadata": {
        "vscode": {
          "languageId": "python"
        },
        "id": "iq84jgMbK5m9"
      },
      "outputs": [],
      "source": [
        "complement1 = \"TAGGCCTAGTTG\""
      ]
    },
    {
      "cell_type": "markdown",
      "metadata": {
        "id": "kZHjEYEFK5m9"
      },
      "source": [
        "### 5.1.2 GGCCCCATTTTC\n",
        "Store your answer as a string in a variable called `complement2`."
      ]
    },
    {
      "cell_type": "code",
      "execution_count": 17,
      "metadata": {
        "vscode": {
          "languageId": "python"
        },
        "id": "Tv_bcti6K5m9"
      },
      "outputs": [],
      "source": [
        "complement2 = \"CCTGGGTAAAGC\"\n"
      ]
    },
    {
      "cell_type": "markdown",
      "metadata": {
        "id": "7hIkDB8JK5m9"
      },
      "source": [
        "### 5.2\n",
        "Create a variable called `dna` containing the following strand of bases: `'ACTATGGCCGT'`."
      ]
    },
    {
      "cell_type": "code",
      "execution_count": 18,
      "metadata": {
        "vscode": {
          "languageId": "python"
        },
        "id": "sjp3L5b4K5m9"
      },
      "outputs": [],
      "source": [
        "dna = 'ACTATGGCCGT'\n"
      ]
    },
    {
      "cell_type": "markdown",
      "metadata": {
        "id": "BugmqcanBjug"
      },
      "source": [
        "### 5.3\n",
        "Write a function called `contains_a(strand)` that returns `True` if `strand` contains an Adenine, expressed as an `'A'`. The function returns `False` otherwise."
      ]
    },
    {
      "cell_type": "code",
      "execution_count": 20,
      "metadata": {
        "id": "7YM4SrAjBjuq",
        "vscode": {
          "languageId": "python"
        },
        "colab": {
          "base_uri": "https://localhost:8080/"
        },
        "outputId": "811d2f39-96d7-484b-e76a-7f454061305b"
      },
      "outputs": [
        {
          "output_type": "stream",
          "name": "stdout",
          "text": [
            "Test case passed.\n",
            "Test case passed.\n"
          ]
        }
      ],
      "source": [
        "def contains_a(strand):\n",
        "    \"\"\"\n",
        "    Returns True if the strand contains an Adenine (A), otherwise False.\n",
        "\n",
        "    Input: strand (str)\n",
        "    Output: bool\n",
        "    \"\"\"\n",
        "    return 'A' in strand\n",
        "\n",
        "# This tests your solution\n",
        "assert_equal(got=contains_a(dna), want=True)\n",
        "assert_equal(got=contains_a('TGGCT'), want=False)"
      ]
    },
    {
      "cell_type": "markdown",
      "metadata": {
        "id": "pX4ej3jGK5nD"
      },
      "source": [
        "### 5.4\n",
        "Write a function called `complement_base` that takes a given base (i.e. A, C, T, or G) and returns its complement."
      ]
    },
    {
      "cell_type": "code",
      "execution_count": 21,
      "metadata": {
        "vscode": {
          "languageId": "python"
        },
        "id": "MNdfZ_h-K5nE",
        "colab": {
          "base_uri": "https://localhost:8080/"
        },
        "outputId": "c1d883d8-e783-44da-87a7-d255abb649d4"
      },
      "outputs": [
        {
          "output_type": "stream",
          "name": "stdout",
          "text": [
            "Test case passed.\n",
            "Test case passed.\n",
            "Test case passed.\n",
            "Test case passed.\n"
          ]
        }
      ],
      "source": [
        "def complement_base(base):\n",
        "    \"\"\"\n",
        "    Returns the complement of the given DNA base.\n",
        "\n",
        "    Input: base (str) - A, C, T, or G\n",
        "    Output: str - Complement base\n",
        "    \"\"\"\n",
        "    if base == 'A':\n",
        "        return 'T'\n",
        "    elif base == 'T':\n",
        "        return 'A'\n",
        "    elif base == 'C':\n",
        "        return 'G'\n",
        "    elif base == 'G':\n",
        "        return 'C'\n",
        "    else:\n",
        "        return None  # Return None for unsupported bases\n",
        "# This tests your solution\n",
        "assert_equal(got=complement_base('G'), want='C')\n",
        "assert_equal(got=complement_base('T'), want='A')\n",
        "assert_equal(got=complement_base('A'), want='T')\n",
        "assert_equal(got=complement_base('C'), want='G')"
      ]
    },
    {
      "cell_type": "markdown",
      "metadata": {
        "id": "bMjPvKB_Bju2"
      },
      "source": [
        "### 5.5\n",
        "Given a string `str` that contains only A, C, G, and T characters, write a function called `complement_strand` that will return the complement DNA strand explained in 5.1."
      ]
    },
    {
      "cell_type": "code",
      "execution_count": 22,
      "metadata": {
        "id": "2OLKTIr6BjvI",
        "vscode": {
          "languageId": "python"
        },
        "colab": {
          "base_uri": "https://localhost:8080/"
        },
        "outputId": "afeb5208-e956-4403-ebdc-bb1d314c8227"
      },
      "outputs": [
        {
          "output_type": "stream",
          "name": "stdout",
          "text": [
            "Test case passed.\n"
          ]
        }
      ],
      "source": [
        "def complement_base(base):\n",
        "    \"\"\"\n",
        "    Returns the complement of the given DNA base.\n",
        "\n",
        "    Input: base (str) - A, C, T, or G\n",
        "    Output: str - Complement base\n",
        "    \"\"\"\n",
        "    if base == 'A':\n",
        "        return 'T'\n",
        "    elif base == 'T':\n",
        "        return 'A'\n",
        "    elif base == 'C':\n",
        "        return 'G'\n",
        "    elif base == 'G':\n",
        "        return 'C'\n",
        "    else:\n",
        "        return None  # Return None for unsupported bases\n",
        "\n",
        "def complement_strand(strand):\n",
        "    \"\"\"\n",
        "    Returns the complement DNA strand for the given DNA strand.\n",
        "\n",
        "    Input: strand (str) - DNA strand with A, C, G, T characters\n",
        "    Output: str - Complement DNA strand\n",
        "    \"\"\"\n",
        "    complement = ''\n",
        "    for base in strand:\n",
        "        complement += complement_base(base)\n",
        "    return complement\n",
        "\n",
        "# This tests your solution\n",
        "assert_equal(got=complement_strand('GATTACA'), want='CTAATGT')"
      ]
    },
    {
      "cell_type": "markdown",
      "metadata": {
        "id": "vHT4jMhFBjvU"
      },
      "source": [
        "## 6. My Alphabet\n",
        "_Run all the following cells in order._"
      ]
    },
    {
      "cell_type": "markdown",
      "metadata": {
        "id": "kO7pcsRvBjvf"
      },
      "source": [
        "### 6.1\n",
        "Create a list called `vowels` that contains all the vowels from the English alphabet in lower case excluding `y`."
      ]
    },
    {
      "cell_type": "code",
      "execution_count": 24,
      "metadata": {
        "id": "LULFD0jtBjvi",
        "vscode": {
          "languageId": "python"
        }
      },
      "outputs": [],
      "source": [
        "vowels = [\"a\", \"e\", \"i\" , \"o\", \"u\"]"
      ]
    },
    {
      "cell_type": "markdown",
      "metadata": {
        "id": "bt6EeQ6CBjvt"
      },
      "source": [
        "### 6.2\n",
        "Create a variable called `my_letter` that has the value `\"a\"`."
      ]
    },
    {
      "cell_type": "code",
      "execution_count": 26,
      "metadata": {
        "id": "qg8vg3q8Bjvv",
        "vscode": {
          "languageId": "python"
        }
      },
      "outputs": [],
      "source": [
        "my_letter = \"a\""
      ]
    },
    {
      "cell_type": "markdown",
      "metadata": {
        "id": "jy2e2o_UBjv_"
      },
      "source": [
        "### 6.3\n",
        "Now, write a conditional statement that prints `'True'` when `my_letter` is equal to `\"a\"`."
      ]
    },
    {
      "cell_type": "code",
      "execution_count": 29,
      "metadata": {
        "id": "oYKfEl7_BjwA",
        "vscode": {
          "languageId": "python"
        }
      },
      "outputs": [],
      "source": [
        "if my_letter == \"a\": True"
      ]
    },
    {
      "cell_type": "markdown",
      "metadata": {
        "id": "uysGN0QhBjwG"
      },
      "source": [
        "### 6.4\n",
        "Write a function called `get_vowels` that iterates through `vowels` and prints each element."
      ]
    },
    {
      "cell_type": "code",
      "execution_count": 30,
      "metadata": {
        "id": "bIs1opb3BjwR",
        "vscode": {
          "languageId": "python"
        },
        "colab": {
          "base_uri": "https://localhost:8080/"
        },
        "outputId": "76c60c75-5b97-4ac4-e9cd-72cd1ab6e2a7"
      },
      "outputs": [
        {
          "output_type": "stream",
          "name": "stdout",
          "text": [
            "a\n",
            "e\n",
            "i\n",
            "o\n",
            "u\n"
          ]
        }
      ],
      "source": [
        "def get_vowels(lst):\n",
        "    for i in vowels:\n",
        "      print(i)\n",
        "\n",
        "\n",
        "# Here is a test case to check if your code works correctly\n",
        "get_vowels(vowels)"
      ]
    },
    {
      "cell_type": "markdown",
      "metadata": {
        "id": "R-VPfg6uBjwf"
      },
      "source": [
        "### 6.5\n",
        "Write a function called `is_vowel` that takes in a string called `letter` and returns `True` if `letter` is a vowel and `False` otherwise. **Do this by looping through `vowels` with a `for` loop.**"
      ]
    },
    {
      "cell_type": "code",
      "execution_count": 35,
      "metadata": {
        "id": "pzjkqsy5Bjwi",
        "vscode": {
          "languageId": "python"
        },
        "colab": {
          "base_uri": "https://localhost:8080/"
        },
        "outputId": "71867204-ab37-4e54-beb4-f61daf849d95"
      },
      "outputs": [
        {
          "output_type": "stream",
          "name": "stdout",
          "text": [
            "Test case passed.\n",
            "Test case passed.\n"
          ]
        }
      ],
      "source": [
        "def is_vowel(letter):\n",
        "\n",
        "    vowels = ['a', 'e', 'i', 'o', 'u']\n",
        "    for vowel in vowels:\n",
        "        if letter.lower() == vowel:\n",
        "            return True\n",
        "    return False\n",
        "# This tests your solution\n",
        "assert_equal(got=is_vowel('a'), want=True)\n",
        "assert_equal(got=is_vowel('b'), want=False)"
      ]
    },
    {
      "cell_type": "markdown",
      "metadata": {
        "id": "lIFFJEl_Bjwy"
      },
      "source": [
        "### 6.6\n",
        "Write a function `is_vowel2` that does the same thing as 3.5, but **using only conditional statements or boolean expressions**."
      ]
    },
    {
      "cell_type": "code",
      "execution_count": 37,
      "metadata": {
        "id": "5aadHoyXBjw1",
        "vscode": {
          "languageId": "python"
        },
        "colab": {
          "base_uri": "https://localhost:8080/"
        },
        "outputId": "f4ec9d01-2f22-4f64-898c-010ad6c3c5c7"
      },
      "outputs": [
        {
          "output_type": "stream",
          "name": "stdout",
          "text": [
            "Test case passed.\n",
            "Test case passed.\n"
          ]
        }
      ],
      "source": [
        "def is_vowel2(letter):\n",
        "\n",
        "    letter_lower = letter.lower()\n",
        "    return letter_lower == 'a' or letter_lower == 'e' or letter_lower == 'i' or letter_lower == 'o' or letter_lower == 'u'\n",
        "\n",
        "# This tests your solution\n",
        "assert_equal(got=is_vowel2('a'), want=True)\n",
        "assert_equal(got=is_vowel2('b'), want=False)"
      ]
    },
    {
      "cell_type": "markdown",
      "metadata": {
        "id": "eIDh6sMBBjxD"
      },
      "source": [
        "### 6.7\n",
        "Create a function called `is_consonant`, that returns `True` if the input is **not** a vowel, and `False` otherwise.\n"
      ]
    },
    {
      "cell_type": "code",
      "execution_count": 39,
      "metadata": {
        "id": "_B__mSChBjxF",
        "vscode": {
          "languageId": "python"
        },
        "colab": {
          "base_uri": "https://localhost:8080/"
        },
        "outputId": "61db6180-a1ac-4f0e-b9e0-56f3fd50af4a"
      },
      "outputs": [
        {
          "output_type": "stream",
          "name": "stdout",
          "text": [
            "Test case passed.\n",
            "Test case passed.\n",
            "Test case passed.\n",
            "Test case passed.\n"
          ]
        }
      ],
      "source": [
        "def is_consonant(letter):\n",
        "\n",
        "    vowels = ['a', 'e', 'i', 'o', 'u']\n",
        "    letter_lower = letter.lower()\n",
        "    return letter_lower.isalpha() and letter_lower not in vowels\n",
        "\n",
        "# This tests your solution\n",
        "assert_equal(got=is_consonant('a'), want=False)\n",
        "assert_equal(got=is_consonant('l'), want=True)\n",
        "assert_equal(got=is_consonant('o'), want=False)\n",
        "assert_equal(got=is_consonant('k'), want=True)"
      ]
    },
    {
      "cell_type": "markdown",
      "metadata": {
        "id": "e9RIu5URBjxm"
      },
      "source": [
        "### 6.8\n",
        "Try running the code below. Does it do what you expect?"
      ]
    },
    {
      "cell_type": "code",
      "execution_count": 40,
      "metadata": {
        "id": "8XRvBNvyBjxs",
        "vscode": {
          "languageId": "python"
        },
        "colab": {
          "base_uri": "https://localhost:8080/"
        },
        "outputId": "dd75e59c-b709-4b8f-dcb1-5653275119ae"
      },
      "outputs": [
        {
          "output_type": "stream",
          "name": "stdout",
          "text": [
            "False\n",
            "True\n",
            "False\n",
            "False\n"
          ]
        }
      ],
      "source": [
        "print(is_consonant(\"a\"))\n",
        "print(is_consonant(\"b\"))\n",
        "print(is_consonant(\"1\"))\n",
        "print(is_consonant(\".\"))"
      ]
    },
    {
      "cell_type": "markdown",
      "metadata": {
        "id": "RlmpMoS5Bjx5"
      },
      "source": [
        "### 6.9\n",
        "Rewrite `is_consonant` so that it also returns `False` when it is not part of the alphabet."
      ]
    },
    {
      "cell_type": "code",
      "execution_count": 41,
      "metadata": {
        "id": "EZ-whg4BBjx9",
        "vscode": {
          "languageId": "python"
        },
        "colab": {
          "base_uri": "https://localhost:8080/"
        },
        "outputId": "9b32a287-4e4f-4a86-8792-d44c6cf66c97"
      },
      "outputs": [
        {
          "output_type": "stream",
          "name": "stdout",
          "text": [
            "Test case passed.\n",
            "Test case passed.\n",
            "Test case passed.\n",
            "Test case passed.\n"
          ]
        }
      ],
      "source": [
        "def is_consonant(letter):\n",
        "\n",
        "    vowels = ['a', 'e', 'i', 'o', 'u']\n",
        "    letter_lower = letter.lower()\n",
        "    return letter_lower.isalpha() and letter_lower not in vowels\n",
        "\n",
        "# Test cases\n",
        "assert is_consonant('a') == False\n",
        "assert is_consonant('b') == True\n",
        "assert is_consonant('E') == False\n",
        "assert is_consonant('Z') == True\n",
        "assert is_consonant('2') == False\n",
        "\n",
        "\n",
        "# Test your code here\n",
        "assert_equal(got=is_consonant('a'), want=False)\n",
        "assert_equal(got=is_consonant('b'), want=True)\n",
        "assert_equal(got=is_consonant('1'), want=False)\n",
        "assert_equal(got=is_consonant('.'), want=False)\n",
        "\n",
        "# Extra challenge: can you edit your code so it works on upper and lower case text?\n"
      ]
    },
    {
      "cell_type": "markdown",
      "metadata": {
        "id": "kpb6KpgcK5nH"
      },
      "source": [
        "# You're doing awesome! :)"
      ]
    }
  ],
  "metadata": {
    "colab": {
      "provenance": [],
      "include_colab_link": true
    },
    "kernelspec": {
      "display_name": "SageMath 9.4",
      "language": "sage",
      "name": "sagemath"
    },
    "language_info": {
      "codemirror_mode": {
        "name": "ipython",
        "version": 3
      },
      "file_extension": ".py",
      "mimetype": "text/x-python",
      "name": "sage",
      "nbconvert_exporter": "python",
      "pygments_lexer": "ipython3",
      "version": "3.10.11"
    }
  },
  "nbformat": 4,
  "nbformat_minor": 0
}