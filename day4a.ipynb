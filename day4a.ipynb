{
  "cells": [
    {
      "cell_type": "markdown",
      "metadata": {
        "id": "view-in-github",
        "colab_type": "text"
      },
      "source": [
        "<a href=\"https://colab.research.google.com/github/hanselhengjernhan98/Learn-Coding/blob/main/day4a.ipynb\" target=\"_parent\"><img src=\"https://colab.research.google.com/assets/colab-badge.svg\" alt=\"Open In Colab\"/></a>"
      ]
    },
    {
      "cell_type": "markdown",
      "metadata": {
        "id": "86kJ_ZBD9ovt"
      },
      "source": [
        "# Day 4a: Loops, Functions, Animation"
      ]
    },
    {
      "cell_type": "code",
      "execution_count": null,
      "metadata": {
        "id": "rfOVH_Iykb6E",
        "colab": {
          "base_uri": "https://localhost:8080/"
        },
        "outputId": "14d866bf-c2c8-44f1-c3b7-aa1f54f9bb49"
      },
      "outputs": [
        {
          "output_type": "stream",
          "name": "stdout",
          "text": [
            "  Preparing metadata (setup.py) ... \u001b[?25l\u001b[?25hdone\n",
            "  Building wheel for jamcoders (setup.py) ... \u001b[?25l\u001b[?25hdone\n"
          ]
        }
      ],
      "source": [
        "# Always run this code.\n",
        "%config InteractiveShell.ast_node_interactivity=\"none\"\n",
        "import sys\n",
        "if 'google.colab' in sys.modules:\n",
        "  !pip install --force-reinstall git+https://github.com/jamcoders/jamcoders-public-2023.git --quiet\n",
        "  !pip install colorama --quiet\n",
        "from jamcoders.base_utils import *\n",
        "from jamcoders.week1.week1day2b import *"
      ]
    },
    {
      "cell_type": "markdown",
      "metadata": {
        "id": "Va5OpfS39ov0"
      },
      "source": [
        "*Note: This lab is to brush up on loops using animation!*"
      ]
    },
    {
      "cell_type": "markdown",
      "metadata": {
        "id": "MfPc6yTnkb6G"
      },
      "source": [
        "# Table of Contents  \n",
        "\n",
        "**[Question 0: Printing vs Returning](#0)**\n",
        "\n",
        "**[Question 1: Warm Up](#1)**\n",
        "\n",
        "**[Question 2: Build a square](#2)**\n",
        "\n",
        "**[Question 3: Build a pyramid](#3)**\n",
        "\n",
        "**[Question 4: Some cool Animations!](#4)**\n",
        "\n",
        "**[Question 5: colors!](#5)**\n",
        "\n",
        "**[Question 6: Make your own animation](#6)**\n",
        "\n"
      ]
    },
    {
      "cell_type": "markdown",
      "metadata": {
        "id": "q54QB9NOkb6G"
      },
      "source": [
        "<a name=\"0\"></a>\n",
        "## Question 0: Printing vs Returning\n",
        "\n",
        "### 0.1\n",
        "Consider the following code:\n",
        "\n",
        "```python\n",
        "def function_that_returns_five():\n",
        "  return 5\n",
        "\n",
        "def function_that_prints_five():\n",
        "  print(5)\n",
        "```\n",
        "\n",
        "What should be printed to the console when I run the following?\n",
        "(*Note: the console shows the printed output from code when we run it*)\n",
        "  * `function_that_returns_five()`\n",
        "  * `function_that_prints_five()`\n",
        "  * `print(function_that_returns_five())`\n",
        "  <br /><br /><br />"
      ]
    },
    {
      "cell_type": "code",
      "execution_count": null,
      "metadata": {
        "id": "7k_7HXDtkb6G"
      },
      "outputs": [],
      "source": [
        "# nothing\n",
        "# nothing\n",
        "# 5"
      ]
    },
    {
      "cell_type": "markdown",
      "metadata": {
        "id": "NeTPSsdykb6H"
      },
      "source": [
        "### 0.2\n",
        "If I run the line: `print(function_that_prints_five())`, I get:\n",
        "\n",
        "```python\n",
        "output:\n",
        ">>> 5\n",
        ">>> None\n",
        "```\n",
        "\n",
        "*Why is `5` printed out? Why is `None` printed out?*"
      ]
    },
    {
      "cell_type": "code",
      "execution_count": null,
      "metadata": {
        "id": "nIKocJFqkb6H"
      },
      "outputs": [],
      "source": [
        "def function_that_prints_five():\n",
        "  print(5)\n",
        "\n",
        "  def function_that_prints_five():\n",
        "    print(5)"
      ]
    },
    {
      "cell_type": "markdown",
      "metadata": {
        "id": "Gejm_E_99ov1"
      },
      "source": [
        "<a name=\"1\"></a>\n",
        "## Question 1: Warm Up"
      ]
    },
    {
      "cell_type": "markdown",
      "metadata": {
        "id": "wCyknt0N9ov2"
      },
      "source": [
        "### 1.1\n",
        "\n",
        "Create a string called `my_string` with value `\"jamcoders\"`."
      ]
    },
    {
      "cell_type": "code",
      "execution_count": null,
      "metadata": {
        "id": "JkNSSnN-9ov4"
      },
      "outputs": [],
      "source": [
        "my_string = \"jamcoders\""
      ]
    },
    {
      "cell_type": "markdown",
      "metadata": {
        "id": "atNk9Orq9ov7"
      },
      "source": [
        "### 1.2\n",
        "\n",
        "Print the length of `my_string`."
      ]
    },
    {
      "cell_type": "code",
      "execution_count": null,
      "metadata": {
        "id": "5H6wFAvP9ov8",
        "colab": {
          "base_uri": "https://localhost:8080/"
        },
        "outputId": "f0800d95-a2b4-480e-a3ae-7ee7f29cd925"
      },
      "outputs": [
        {
          "output_type": "execute_result",
          "data": {
            "text/plain": [
              "9"
            ]
          },
          "metadata": {},
          "execution_count": 8
        }
      ],
      "source": [
        "len(\"my_string\")"
      ]
    },
    {
      "cell_type": "markdown",
      "metadata": {
        "id": "gaWAPan39owB"
      },
      "source": [
        "### 1.3\n",
        "Given the list of strings below, use a `for` loop to print each string in the list."
      ]
    },
    {
      "cell_type": "code",
      "execution_count": null,
      "metadata": {
        "id": "5fBwpZez9owC",
        "colab": {
          "base_uri": "https://localhost:8080/"
        },
        "outputId": "1752993e-c86b-4634-e44f-47c7f72bb473"
      },
      "outputs": [
        {
          "output_type": "stream",
          "name": "stdout",
          "text": [
            "One\n",
            "good\n",
            "thingabout music\n",
            " - \n",
            "when it hits you,youfeel no pain.\n"
          ]
        }
      ],
      "source": [
        "my_strings = [\"One\", \"good\", \"thing\" \"about music\", \" - \", \"when it hits you,\" \"you\" \"feel no pain.\"]\n",
        "\n",
        "for i in my_strings:\n",
        "  print(i)\n"
      ]
    },
    {
      "cell_type": "markdown",
      "metadata": {
        "id": "11KGzrpr9owG"
      },
      "source": [
        "### 1.4\n",
        "Use a `for` loop to print the length of each string in `my_strings`."
      ]
    },
    {
      "cell_type": "code",
      "execution_count": null,
      "metadata": {
        "id": "ClzHImtabYE7",
        "colab": {
          "base_uri": "https://localhost:8080/"
        },
        "outputId": "1501bbcc-e19b-4c3c-9ab0-4cb95d6ed0bf"
      },
      "outputs": [
        {
          "output_type": "stream",
          "name": "stdout",
          "text": [
            "3\n",
            "4\n",
            "16\n",
            "3\n",
            "33\n"
          ]
        }
      ],
      "source": [
        "my_strings = [\"One\", \"good\", \"thing\" \"about music\", \" - \", \"when it hits you,\" \"you\" \"feel no pain.\"]\n",
        "\n",
        "for i in my_strings:\n",
        "  print (len(i))"
      ]
    },
    {
      "cell_type": "markdown",
      "metadata": {
        "id": "WuEv899w9owK"
      },
      "source": [
        "### 1.5\n",
        "Create a function that takes a list of strings and prints the length of the longest string in the list."
      ]
    },
    {
      "cell_type": "code",
      "execution_count": 29,
      "metadata": {
        "id": "5j4enZP79owL",
        "colab": {
          "base_uri": "https://localhost:8080/"
        },
        "outputId": "5736daa4-5221-421d-9c01-b32a9344817a"
      },
      "outputs": [
        {
          "output_type": "stream",
          "name": "stdout",
          "text": [
            "Length of longest string is  33\n"
          ]
        }
      ],
      "source": [
        "my_strings = [\"One\", \"good\", \"thing\" \"about music\", \" - \", \"when it hits you,\" \"you\" \"feel no pain.\"]\n",
        "\n",
        "def longest_string(my_strings):\n",
        "  max_length = 0\n",
        "  for i in my_strings:\n",
        "    if len(i)>max_length:\n",
        "      max_length = len(i)\n",
        "\n",
        "  print(\"Length of longest string is \", max_length)\n",
        "\n",
        "\n",
        "\n",
        "longest_string(my_strings)\n",
        "\n",
        "# if you did it correctly, you should see it print 33"
      ]
    },
    {
      "cell_type": "markdown",
      "metadata": {
        "id": "cGMHfZZedrdH"
      },
      "source": [
        "<a name=\"2\"></a>\n",
        "## Question 2: Build a square"
      ]
    },
    {
      "cell_type": "markdown",
      "metadata": {
        "id": "DREy3fS29oxj"
      },
      "source": [
        "### 2.1\n",
        "Write a function that takes an integer x and prints an x by x checkerboard of hashes.\n",
        "\n",
        "Ex:\n",
        "```python\n",
        "build_checkerboard(4)\n",
        "# # # #\n",
        "# # # #\n",
        "# # # #\n",
        "# # # #\n",
        "```"
      ]
    },
    {
      "cell_type": "code",
      "execution_count": null,
      "metadata": {
        "id": "dQHI6ixVScTi",
        "colab": {
          "base_uri": "https://localhost:8080/"
        },
        "outputId": "503b8fc0-d102-4cb4-8b53-fe20336ceedb"
      },
      "outputs": [
        {
          "output_type": "stream",
          "name": "stdout",
          "text": [
            "#  #  #  #  #  #  #  #  #  #  \n",
            "#  #  #  #  #  #  #  #  #  #  \n",
            "#  #  #  #  #  #  #  #  #  #  \n",
            "#  #  #  #  #  #  #  #  #  #  \n",
            "#  #  #  #  #  #  #  #  #  #  \n",
            "#  #  #  #  #  #  #  #  #  #  \n",
            "#  #  #  #  #  #  #  #  #  #  \n",
            "#  #  #  #  #  #  #  #  #  #  \n",
            "#  #  #  #  #  #  #  #  #  #  \n",
            "#  #  #  #  #  #  #  #  #  #  \n"
          ]
        }
      ],
      "source": [
        "def build_checkerboard(x):\n",
        "    for i in range(x):\n",
        "        for j in range(x):\n",
        "            print(\"#\", end=\"  \")\n",
        "        print()\n",
        "build_checkerboard(10\n",
        "                  )\n",
        "\n",
        "\n"
      ]
    },
    {
      "cell_type": "markdown",
      "metadata": {
        "id": "o_JCcSBI9oxo"
      },
      "source": [
        "<a name=\"3\"></a>\n",
        "## Question 3: Build a pyramid\n"
      ]
    },
    {
      "cell_type": "markdown",
      "metadata": {
        "id": "B3JNFpXoWVOp"
      },
      "source": [
        "Write a function that takes an integer x and prints a pyramid with height x.\n",
        "\n",
        "Ex:\n",
        "```python\n",
        "build_pyramid(4)\n",
        "   #\n",
        "  # #\n",
        " # # #\n",
        "# # # #\n",
        "\n",
        "```"
      ]
    },
    {
      "cell_type": "code",
      "execution_count": null,
      "metadata": {
        "id": "q6Z-QUCG9oxo",
        "colab": {
          "base_uri": "https://localhost:8080/"
        },
        "outputId": "5ecfc222-f4a2-47f9-f1a7-d6d9b6dcca00"
      },
      "outputs": [
        {
          "output_type": "stream",
          "name": "stdout",
          "text": [
            "   #\n",
            "  # #\n",
            " # # #\n",
            "# # # #\n"
          ]
        }
      ],
      "source": [
        "\n",
        "def build_pyramid(x):\n",
        "  for i in range(x):\n",
        "        space = x - i - 1\n",
        "        hashes = i + 1\n",
        "\n",
        "        print(\" \" * space, end=\"\")\n",
        "        print(\"#\" + \" #\" * i)\n",
        "\n",
        "build_pyramid(4)\n",
        "\n",
        "\n",
        "\n"
      ]
    },
    {
      "cell_type": "markdown",
      "metadata": {
        "id": "kvWHs3YlTbfw"
      },
      "source": [
        "<a name=\"4\"></a>\n",
        "## Question 4: Some cool Animations!\n",
        "\n"
      ]
    },
    {
      "cell_type": "markdown",
      "metadata": {
        "id": "ppYFmiJceuUX"
      },
      "source": [
        "### 4.1\n",
        "\n",
        "Run the code in the cell below. Here, we are using a function called `sleep` (that someone else wrote) from a module called `time`.\n",
        "\n",
        "What does `sleep()` seem to do?"
      ]
    },
    {
      "cell_type": "code",
      "execution_count": null,
      "metadata": {
        "id": "wBhscIkXfqGi",
        "colab": {
          "base_uri": "https://localhost:8080/"
        },
        "outputId": "1376aaa1-5a3f-4119-8c3e-a17d079da0c6"
      },
      "outputs": [
        {
          "output_type": "stream",
          "name": "stdout",
          "text": [
            "print1\n",
            "print2\n",
            "print3\n",
            "print4\n",
            "None\n"
          ]
        }
      ],
      "source": [
        "from time import sleep\n",
        "\n",
        "# Experiment here!\n",
        "\n",
        "print('print1')\n",
        "sleep(1)\n",
        "print('print2')\n",
        "sleep(2)\n",
        "print('print3')\n",
        "sleep(5)\n",
        "print('print4')\n",
        "\n",
        "print(sleep(4))"
      ]
    },
    {
      "cell_type": "code",
      "execution_count": null,
      "metadata": {
        "id": "S2i-BCsujMTW"
      },
      "outputs": [],
      "source": [
        "#it pauses the execution of the code."
      ]
    },
    {
      "cell_type": "markdown",
      "metadata": {
        "id": "VYDxGHy6g1ky"
      },
      "source": [
        "### 4.2\n",
        "\n",
        "Another function is a function called `clear_output` from `IPython`. What does `clear_output()` seem to do?"
      ]
    },
    {
      "cell_type": "code",
      "execution_count": null,
      "metadata": {
        "id": "u1wdsfZchGKi"
      },
      "outputs": [],
      "source": [
        "from time import sleep\n",
        "from IPython.display import clear_output\n",
        "\n",
        "print('print1')\n",
        "sleep(1)\n",
        "clear_output()\n",
        "\n",
        "print('print2')\n",
        "sleep(2)\n",
        "clear_output()\n",
        "\n",
        "print('print3')\n",
        "sleep(5)\n",
        "clear_output()"
      ]
    },
    {
      "cell_type": "code",
      "execution_count": null,
      "metadata": {
        "id": "YWpmxLsDjPyV"
      },
      "outputs": [],
      "source": [
        "# oh wow, it clears the output and prints it again after the pause"
      ]
    },
    {
      "cell_type": "markdown",
      "metadata": {
        "id": "TJnuz7jbjWj-"
      },
      "source": [
        "### 4.3\n",
        "\n",
        "Using `sleep` and `clear_output`, we can build animations! Together, in the function `show`, the two functions allow us to pause to show the current 'frame', then clear the frame after some amount of time.\n",
        "\n",
        "Fix the code below so that there is a count-down animation, and finally at the end we print `'Ding!'`\n"
      ]
    },
    {
      "cell_type": "code",
      "execution_count": null,
      "metadata": {
        "id": "KdA2cVZjmZf1",
        "colab": {
          "base_uri": "https://localhost:8080/"
        },
        "outputId": "c1dcf3df-cfe7-4db3-f914-008d0fa39d84"
      },
      "outputs": [
        {
          "output_type": "stream",
          "name": "stdout",
          "text": [
            "Ding!\n"
          ]
        }
      ],
      "source": [
        "# Code your edits in this cell!\n",
        "\n",
        "from IPython.display import clear_output\n",
        "from time import sleep\n",
        "\n",
        "def show():\n",
        "    sleep(1)\n",
        "    clear_output(wait=True)\n",
        "\n",
        "def count_down(number_of_seconds):\n",
        "    while number_of_seconds > 0:\n",
        "        print(f\"{number_of_seconds} seconds left.\")\n",
        "        show()\n",
        "        number_of_seconds -= 1\n",
        "    print('Ding!')\n",
        "\n",
        "count_down(10)\n",
        "\n",
        "\n",
        "\n"
      ]
    },
    {
      "cell_type": "markdown",
      "metadata": {
        "id": "wVs2lyMTmFbz"
      },
      "source": [
        "### 4.4\n",
        "\n",
        "This code draws grids of increasing size. Try it out by running it:\n"
      ]
    },
    {
      "cell_type": "code",
      "execution_count": null,
      "metadata": {
        "id": "4BqIBtVEppy1",
        "colab": {
          "base_uri": "https://localhost:8080/"
        },
        "outputId": "433ceeda-e9c2-4047-89da-5e0e42cd161c"
      },
      "outputs": [
        {
          "output_type": "stream",
          "name": "stdout",
          "text": [
            "##########\n",
            "##########\n",
            "##########\n",
            "##########\n"
          ]
        }
      ],
      "source": [
        "from IPython.display import clear_output\n",
        "from time import sleep\n",
        "\n",
        "def show():\n",
        "  sleep(0.25)\n",
        "  clear_output(wait=True)\n",
        "\n",
        "# This function prints a solid grid of some size\n",
        "def print_grid(size):\n",
        "    for i in range(1, size + 1):\n",
        "      print('#' * (size + 1) * 2)\n",
        "\n",
        "# This function shows grids of increasing sizes, starting from size 0 to n-1!\n",
        "def increasing_grid(n):\n",
        "  # For loop, incrementing a variable called size\n",
        "  for size in range(n):\n",
        "    # Printing a new grid for a certain size\n",
        "    print_grid(size)\n",
        "    # Then showing the grid\n",
        "    show()\n",
        "\n",
        "increasing_grid(5)"
      ]
    },
    {
      "cell_type": "markdown",
      "metadata": {
        "id": "FyVbuTkvkb6L"
      },
      "source": [
        "**Instead** of printing grids, can you make pyramids? And instead of increasing sizes, can you make the size *decrease*? You can copy any code from above, and you can also copy any code from **Question 3**. Code your answer in the cell below:"
      ]
    },
    {
      "cell_type": "code",
      "execution_count": null,
      "metadata": {
        "id": "IfjZ8HQznle8",
        "colab": {
          "base_uri": "https://localhost:8080/",
          "height": 232
        },
        "outputId": "61ce1b58-7fb6-4008-fba4-bb19572a9913"
      },
      "outputs": [
        {
          "output_type": "stream",
          "name": "stdout",
          "text": [
            "Ding!\n"
          ]
        },
        {
          "output_type": "error",
          "ename": "NameError",
          "evalue": "ignored",
          "traceback": [
            "\u001b[0;31m---------------------------------------------------------------------------\u001b[0m",
            "\u001b[0;31mNameError\u001b[0m                                 Traceback (most recent call last)",
            "\u001b[0;32m<ipython-input-23-c8bde82c5cb9>\u001b[0m in \u001b[0;36m<cell line: 28>\u001b[0;34m()\u001b[0m\n\u001b[1;32m     26\u001b[0m \u001b[0;34m\u001b[0m\u001b[0m\n\u001b[1;32m     27\u001b[0m \u001b[0;34m\u001b[0m\u001b[0m\n\u001b[0;32m---> 28\u001b[0;31m \u001b[0mdecreasing_pyramid\u001b[0m\u001b[0;34m(\u001b[0m\u001b[0;36m10\u001b[0m\u001b[0;34m)\u001b[0m\u001b[0;34m\u001b[0m\u001b[0;34m\u001b[0m\u001b[0m\n\u001b[0m",
            "\u001b[0;31mNameError\u001b[0m: name 'decreasing_pyramid' is not defined"
          ]
        }
      ],
      "source": [
        "from IPython.display import clear_output\n",
        "from time import sleep\n",
        "\n",
        "def show():\n",
        "    sleep(0.5)\n",
        "    clear_output(wait=True)\n",
        "\n",
        "def build_pyramid(size):\n",
        "    for i in range(size, 0, -1):\n",
        "        spaces = size - i\n",
        "        hashes = i\n",
        "\n",
        "        print(\" \" * spaces, end=\"\")\n",
        "        print(\"#\" * hashes)\n",
        "\n",
        "def count_down_with_pyramids(number_of_pyramids):\n",
        "    while number_of_pyramids > 0:\n",
        "        print(f\"Pyramid {number_of_pyramids}:\")\n",
        "        build_pyramid(number_of_pyramids)\n",
        "        show()\n",
        "        number_of_pyramids -= 1\n",
        "    print('Ding!')\n",
        "\n",
        "# Call the function to run the countdown animation with pyramids\n",
        "count_down_with_pyramids(5)\n",
        "\n",
        "\n",
        "decreasing_pyramid(10)"
      ]
    },
    {
      "cell_type": "markdown",
      "metadata": {
        "id": "p0MYdGpvdsAf"
      },
      "source": [
        "<a name=\"5\"></a>\n",
        "## Question 5: colors!"
      ]
    },
    {
      "cell_type": "markdown",
      "metadata": {
        "id": "4z19y16Gd0r4"
      },
      "source": [
        "### 5.1\n"
      ]
    },
    {
      "cell_type": "markdown",
      "metadata": {
        "id": "Dtt6-PhwidmX"
      },
      "source": [
        "Recall from lecture that you can print colors, like Professor Boaz demonstrated with the Jamaican flag! To do so, we will use the function called `colored` that the JamCoders staff have written for you.\n",
        "\n",
        "* `colored` is a function\n",
        "* Runnning `colored(text, color)` returns the string `text` in a certain `color`\n",
        "  * `text` is the string we want to apply the color.\n",
        "  * `color` is the color we want to apply. It can be one of the following:\n",
        "    * `\"black\"`\n",
        "    * `\"blue\"`\n",
        "    * `\"cyan\"`\n",
        "    * `\"green\"`\n",
        "    * `\"grey\"`\n",
        "    * `\"magenta\"`\n",
        "    * `\"red\"`\n",
        "    * `\"white\"`\n",
        "    * `\"yellow\"`\n",
        "\n",
        "Try running the code sample below:"
      ]
    },
    {
      "cell_type": "code",
      "execution_count": null,
      "metadata": {
        "id": "SRR--a30eIZR",
        "colab": {
          "base_uri": "https://localhost:8080/"
        },
        "outputId": "403a7f6e-987e-41df-e9d8-1cddc89c2a37"
      },
      "outputs": [
        {
          "output_type": "stream",
          "name": "stdout",
          "text": [
            "The return value of colored has type: <class 'str'>\n",
            "\u001b[31m█\u001b[39m\n",
            "\u001b[32m⬤\u001b[39m\n",
            "\u001b[35m✖\u001b[39m\n"
          ]
        }
      ],
      "source": [
        "block = '█'\n",
        "circle = '⬤'\n",
        "cross = '✖'\n",
        "plus = '＋'\n",
        "\n",
        "print(f\"The return value of colored has type: {type(colored(block, 'green'))}\")\n",
        "\n",
        "# print a red block\n",
        "print(colored(block, 'red'))\n",
        "\n",
        "# print a green circle\n",
        "print(colored(circle, 'green'))\n",
        "\n",
        "# print a magenta cross\n",
        "print(colored(cross, 'magenta'))"
      ]
    },
    {
      "cell_type": "markdown",
      "metadata": {
        "id": "RYKe1fwiiRM8"
      },
      "source": [
        "### 5.1\n",
        "\n",
        "Can you print a blue cross?"
      ]
    },
    {
      "cell_type": "code",
      "execution_count": null,
      "metadata": {
        "id": "IEH9Dh7jikeL",
        "colab": {
          "base_uri": "https://localhost:8080/"
        },
        "outputId": "35ac082b-8809-4264-aecb-7ebf62b1b4ba"
      },
      "outputs": [
        {
          "output_type": "stream",
          "name": "stdout",
          "text": [
            "\u001b[34m✖\u001b[39m\n"
          ]
        }
      ],
      "source": [
        "print(colored(cross, 'blue'))"
      ]
    },
    {
      "cell_type": "markdown",
      "metadata": {
        "id": "yVqDqc1EirJt"
      },
      "source": [
        "### 5.2\n",
        "\n",
        "Can you print a cyan hashtag?"
      ]
    },
    {
      "cell_type": "code",
      "execution_count": null,
      "metadata": {
        "id": "OlmVoiu4i2Jx",
        "colab": {
          "base_uri": "https://localhost:8080/",
          "height": 179
        },
        "outputId": "8388a651-dc1b-4b64-e974-67ab97eb7ebc"
      },
      "outputs": [
        {
          "output_type": "error",
          "ename": "NameError",
          "evalue": "ignored",
          "traceback": [
            "\u001b[0;31m---------------------------------------------------------------------------\u001b[0m",
            "\u001b[0;31mNameError\u001b[0m                                 Traceback (most recent call last)",
            "\u001b[0;32m<ipython-input-12-41c29424fd11>\u001b[0m in \u001b[0;36m<cell line: 1>\u001b[0;34m()\u001b[0m\n\u001b[0;32m----> 1\u001b[0;31m \u001b[0mprint\u001b[0m\u001b[0;34m(\u001b[0m\u001b[0mcolored\u001b[0m\u001b[0;34m(\u001b[0m\u001b[0mhashtag\u001b[0m\u001b[0;34m,\u001b[0m \u001b[0;34m'cyan'\u001b[0m\u001b[0;34m)\u001b[0m\u001b[0;34m)\u001b[0m\u001b[0;34m\u001b[0m\u001b[0;34m\u001b[0m\u001b[0m\n\u001b[0m",
            "\u001b[0;31mNameError\u001b[0m: name 'hashtag' is not defined"
          ]
        }
      ],
      "source": [
        "print(colored(hashtag, 'cyan'))"
      ]
    },
    {
      "cell_type": "markdown",
      "metadata": {
        "id": "WPA9G2_mi2o-"
      },
      "source": [
        "### 5.3\n",
        "\n",
        "Anakai wants to make a rainbow animation that does the following:\n",
        "* Takes in some `text` and a list of `colors`.\n",
        "* For each color, it `prints()` the text, then `shows()` the text\n",
        "* When we reach the end of the list, we finally `print()` the string `text` in the first color.\n",
        "\n",
        "For example, `rainbow_print('hi', ['red', 'green', 'blue'])` would first print `'hi'` in red, then in green, then in blue. Finally, at the end, it finishes by printing `'hi'` in the first color, `'red'`.\n",
        "\n"
      ]
    },
    {
      "cell_type": "code",
      "execution_count": null,
      "metadata": {
        "id": "UhwvqgWijW3I",
        "colab": {
          "base_uri": "https://localhost:8080/"
        },
        "outputId": "36c82cce-8003-40a5-e205-6259b915a87d"
      },
      "outputs": [
        {
          "output_type": "stream",
          "name": "stdout",
          "text": [
            "\u001b[38;5;wm███<<<HELLO!>>███\u001b[0m\n"
          ]
        }
      ],
      "source": [
        "\n",
        "from IPython.display import clear_output\n",
        "from time import sleep\n",
        "\n",
        "def show():\n",
        "    sleep(1)\n",
        "    clear_output(wait=True)\n",
        "\n",
        "def rainbow_print(text, colors):\n",
        "    for color in colors:\n",
        "        print(f\"\\x1b[38;5;{color}m{text}\\x1b[0m\")\n",
        "        show()\n",
        "    print(f\"\\x1b[38;5;{colors[0]}m{text}\\x1b[0m\")\n",
        "\n",
        "all_colors = [\"grey\", \"red\", \"green\", \"yellow\", \"blue\", \"magenta\", \"cyan\", \"white\"]\n",
        "\n",
        "for i in all_colors:\n",
        "  rainbow_print('███<<<HELLO!>>███', i)\n"
      ]
    },
    {
      "cell_type": "markdown",
      "metadata": {
        "id": "wEMouQjnnqqa"
      },
      "source": [
        "### 5.4: Arrow"
      ]
    },
    {
      "cell_type": "markdown",
      "metadata": {
        "id": "Xei1kCGZn2c0"
      },
      "source": [
        "[link text](https://)Jabari wants to animate an arrow \">\" moving across the screen from left to right.\n",
        "He has written some code to draw the first arrow that starts on the left end of the screen, at column 0. Try running this code!"
      ]
    },
    {
      "cell_type": "code",
      "execution_count": null,
      "metadata": {
        "id": "kgd1rjPmnqVY",
        "colab": {
          "base_uri": "https://localhost:8080/"
        },
        "outputId": "6d69b390-5358-4ba7-f9ee-847f0f6dab0c"
      },
      "outputs": [
        {
          "output_type": "stream",
          "name": "stdout",
          "text": [
            "████████████████████████████████████████\n",
            "████████████████████████████████████████\n",
            "████████████████████████████████████████\n",
            "\n"
          ]
        }
      ],
      "source": [
        "# Jabari's code!\n",
        "block = '█'\n",
        "board = ''\n",
        "for row in range(3):\n",
        "    for column in range(40):\n",
        "        # The block at (row=1, col=2), should be white - the tip of the arrow\n",
        "        if (row == 1) and column == 1:\n",
        "            board += colored(block, 'white')\n",
        "\n",
        "        # The block at (row=0, column=1), (row=2, column=1) should be white - the ends of the arrow\n",
        "        elif (row == 0 or row == 2) and column == 0:\n",
        "            board += colored(block, 'white')\n",
        "\n",
        "        # This block is not on the arrow, just make it green\n",
        "        else:\n",
        "            board += colored(block, 'green')\n",
        "\n",
        "    board += '\\n' # '\\n' means a new line!\n",
        "print(board)"
      ]
    },
    {
      "cell_type": "markdown",
      "metadata": {
        "id": "XF4Bi5Eokb6R"
      },
      "source": [
        "* Can you turn this into a function called `print_arrow(column)`, that prints the white arrow on other parts of the screen\n",
        "* For example, `print_arrow(0)` should print out the same as Jabari's current code, and `print_arrow(1)` should print out Jabari's arrow shifted one square to the right.\n",
        "* (The function should work when `0 <= column <= 37`. In other words, don't worry about the arrow going off the screen)."
      ]
    },
    {
      "cell_type": "code",
      "execution_count": null,
      "metadata": {
        "id": "Zuy6ogFluf1S"
      },
      "outputs": [],
      "source": [
        "def print_arrow():\n",
        "    # Your code here!\n",
        "\n",
        "\n",
        "print_arrow(5)\n"
      ]
    },
    {
      "cell_type": "markdown",
      "metadata": {
        "id": "vD6BJA0evT0c"
      },
      "source": [
        "### 5.5\n",
        "\n",
        "Can you use `print_arrow()` to animate moving the arrow to the right?"
      ]
    },
    {
      "cell_type": "code",
      "execution_count": 28,
      "metadata": {
        "id": "pGh9NKFOvwXG",
        "colab": {
          "base_uri": "https://localhost:8080/"
        },
        "outputId": "1ec8437b-c9c6-405c-d24d-a6dc3e398b0d"
      },
      "outputs": [
        {
          "output_type": "stream",
          "name": "stdout",
          "text": [
            "████████████████████████████████████████\n",
            "████████████████████████████████████████\n",
            "████████████████████████████████████████\n",
            "\n"
          ]
        }
      ],
      "source": [
        "from IPython.display import clear_output\n",
        "from time import sleep\n",
        "\n",
        "def show():\n",
        "    sleep(0.25)\n",
        "    clear_output(wait=True)\n",
        "\n",
        "def animate_arrow():\n",
        "    block = '█'\n",
        "    arrow_position = 0  # Initial position of the arrow\n",
        "\n",
        "    while arrow_position < 40:  # Move the arrow across 40 columns\n",
        "        board = ''\n",
        "        for row in range(3):\n",
        "            for column in range(40):\n",
        "                if (row == 1) and column == arrow_position:\n",
        "                    board += colored(block, 'white')\n",
        "                elif (row == 0 or row == 2) and column == 0:\n",
        "                    board += colored(block, 'white')\n",
        "                else:\n",
        "                    board += colored(block, 'green')\n",
        "            board += '\\n'\n",
        "\n",
        "        clear_output(wait=True)\n",
        "        print(board)\n",
        "        show()  # Use the show() function for animation effect\n",
        "        arrow_position += 1\n",
        "\n",
        "animate_arrow()\n",
        "\n",
        "\n",
        "# Your code to animate here:\n"
      ]
    },
    {
      "cell_type": "markdown",
      "metadata": {
        "id": "qucO6636pvgt"
      },
      "source": [
        "<a name=\"6\"></a>\n",
        "## Question 6: Make your own animation\n",
        "\n",
        "Now, try making your own animation. **It can be anything, so it is a chance to be creative!**\n",
        "\n",
        "Below is an example that the staff made. You can try running it if you'd like! You can show us or your friends who have finished when you are done!"
      ]
    },
    {
      "cell_type": "code",
      "execution_count": null,
      "metadata": {
        "id": "135WUAzOp7PR",
        "colab": {
          "base_uri": "https://localhost:8080/"
        },
        "outputId": "dd475a1e-d479-4bcf-fec9-07b8f6a0dfdb"
      },
      "outputs": [
        {
          "output_type": "stream",
          "name": "stdout",
          "text": [
            ">>> print('I')\n",
            "I\n",
            ">>> print('love')\n",
            "love\n",
            ">>> print('JamCoders')\n",
            "JamCoders\n",
            ">>> print('2023')\n",
            "2023\n"
          ]
        }
      ],
      "source": [
        "# Example, but we encourage you to do something completely different!\n",
        "from IPython.display import clear_output\n",
        "from time import sleep\n",
        "\n",
        "def show():\n",
        "    sleep(0.25)\n",
        "    clear_output(wait=True)\n",
        "\n",
        "def metaprint(text, pretext=''):\n",
        "    pretext += '>>> '\n",
        "    code_text = 'print(\\''+ text +'\\')'\n",
        "    output_text = text\n",
        "\n",
        "    for i in range(len(code_text)):\n",
        "        print(pretext, end='')\n",
        "        print(code_text[:i] + '_')\n",
        "        show()\n",
        "\n",
        "    print(pretext, end='')\n",
        "    print(code_text)\n",
        "    print(output_text)\n",
        "    show()\n",
        "\n",
        "    return pretext + code_text + '\\n' + output_text + '\\n'\n",
        "\n",
        "res = metaprint('I')\n",
        "res = metaprint('love', res)\n",
        "res = metaprint('JamCoders', res)\n",
        "res = metaprint('2023', res)"
      ]
    },
    {
      "cell_type": "code",
      "execution_count": null,
      "metadata": {
        "id": "uPpPg8AWwQHv"
      },
      "outputs": [],
      "source": [
        "# Your amazing animation here:\n"
      ]
    }
  ],
  "metadata": {
    "colab": {
      "provenance": [],
      "include_colab_link": true
    },
    "kernelspec": {
      "display_name": "Python 3 (ipykernel)",
      "language": "python",
      "name": "python3"
    },
    "language_info": {
      "codemirror_mode": {
        "name": "ipython",
        "version": 3
      },
      "file_extension": ".py",
      "mimetype": "text/x-python",
      "name": "python",
      "nbconvert_exporter": "python",
      "pygments_lexer": "ipython3",
      "version": "3.8.8"
    }
  },
  "nbformat": 4,
  "nbformat_minor": 0
}